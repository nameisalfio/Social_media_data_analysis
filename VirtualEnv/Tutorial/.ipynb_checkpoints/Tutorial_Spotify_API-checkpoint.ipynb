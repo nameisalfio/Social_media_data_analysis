{
 "cells": [
  {
   "cell_type": "markdown",
   "id": "1d8c1812-c375-42e8-acc2-1d0bb21ff9ec",
   "metadata": {},
   "source": [
    "<div style=\"display: flex; align-items: center;\">\n",
    "    <img src=\"static/logo.png\" width=\"120\" height=\"120\">\n",
    "    <h1>Tutorial API Web di Spotify</h1>\n",
    "</div>\n",
    "\n",
    "<p>\n",
    "    L'API Web Spotify consente la creazione di applicazioni in grado di interagire con il servizio di streaming di Spotify, ad esempio il recupero dei metadati dei contenuti, l'ottenimento di consigli, la creazione e la gestione di playlist o il controllo della riproduzione.\n",
    "</p>\n",
    "\n",
    "<h2>Indice</h2>\n",
    "<ol>\n",
    "    <li><a href=\"#preambolo\">Preambolo</a></li>\n",
    "    <li><a href=\"#introduzione\">Introduzione</a></li>\n",
    "    <li><a href=\"#profilo-e-applicazione\">Profilo e applicazione</a></li>\n",
    "    <li><a href=\"#accesso-alle-api\">Accesso alle API</a></li>\n",
    "    <li><a href=\"#utilizzo-delle-api-restful\">Utilizzo delle API RESTful</a></li>\n",
    "    <li><a href=\"#api-spotify-python\">API Spotify Python</a></li>\n",
    "    <li><a href=\"#estrazione-dati-e-analisi\">Estrazione dati e analisi</a></li>\n",
    "    <li><a href=\"#conclusione\">Conclusione</a></li>\n",
    "</ol>"
   ]
  },
  {
   "cell_type": "markdown",
   "id": "66410641-c739-453f-9923-639b824d1ced",
   "metadata": {},
   "source": [
    "<section id=\"preambolo\">\n",
    "    <h2>1. Preambolo</h2>\n",
    "    <h3>Creare un ambiente virtuale</h3>\n",
    "</section>"
   ]
  },
  {
   "cell_type": "markdown",
   "id": "9120ffa5-7a32-4ddb-b73b-b02d47cab1ec",
   "metadata": {},
   "source": [
    "Prima di iniziare, è consigliabile creare un ambiente virtuale per il tuo progetto.\n",
    "Puoi farlo utilizzando virtualenv o conda a seconda delle tue preferenze. Ecco un esempio utilizzando virtualenv:\n",
    "    \n",
    "- Assicurati di avere virtualenv installato. Se non l'hai installato, puoi farlo utilizzando pip:"
   ]
  },
  {
   "cell_type": "markdown",
   "id": "1c865484-ec03-4e9e-aa96-84474b88c7a2",
   "metadata": {},
   "source": [
    "<code>pip install virtualenv</code>"
   ]
  },
  {
   "cell_type": "markdown",
   "id": "16fa8766-d9ce-4629-8973-4f5109a971df",
   "metadata": {},
   "source": [
    "- Scegli una directory in cui desideri creare il tuo ambiente virtuale. Naviga in quella directory tramite il terminale.\n",
    "- Crea un nuovo ambiente virtuale con il seguente comando:"
   ]
  },
  {
   "cell_type": "markdown",
   "id": "c2111be3-e4c4-463c-b5c9-43e38fe7f1e4",
   "metadata": {},
   "source": [
    "<code>virtualenv nome_ambiente</code>"
   ]
  },
  {
   "cell_type": "markdown",
   "id": "30df2e84-0167-4649-bd7d-1d8e7d0eab88",
   "metadata": {},
   "source": [
    "Sostituisci <span style=\"font-style: italic; font-size: 15px;\"><i>\"nome_ambiente\"</i></span> con il nome che desideri dare al tuo ambiente virtuale."
   ]
  },
  {
   "cell_type": "markdown",
   "id": "bb155daa-5e16-435f-82ce-f7a0879f3363",
   "metadata": {},
   "source": [
    "- Attiva l'ambiente virtuale appena creato. Su sistemi Windows, usa il seguente comando:"
   ]
  },
  {
   "cell_type": "markdown",
   "id": "e8a5fda1-1f9b-42f1-90a9-3b0157a20925",
   "metadata": {},
   "source": [
    "<code>nome_ambiente\\Scripts\\activate</code>"
   ]
  },
  {
   "cell_type": "markdown",
   "id": "caef69a7-0bab-41a8-8ee1-5ed04235ac50",
   "metadata": {},
   "source": [
    "Su sistemi Unix o macOS, usa:"
   ]
  },
  {
   "cell_type": "markdown",
   "id": "0a0ab54d-8e16-4dd6-8ead-4339d5221d5e",
   "metadata": {},
   "source": [
    "<code>source nome_ambiente\\bin\\activate</code>"
   ]
  },
  {
   "cell_type": "markdown",
   "id": "a9b887d2-ce4c-4218-92bf-ee2d6bf7831c",
   "metadata": {},
   "source": [
    "Per disattivare l'ambiente virtuale:"
   ]
  },
  {
   "cell_type": "markdown",
   "id": "b14b50ad-016d-4667-8de3-78f0abe64f1f",
   "metadata": {},
   "source": [
    "<code>deactivate</code>"
   ]
  },
  {
   "cell_type": "markdown",
   "id": "b19c2196-a36f-4055-b0fc-20fa8a373860",
   "metadata": {},
   "source": [
    "<div style=\"display: flex; align-items: center;\">\n",
    "    <img src=\"static/Screen/Screen_1.png\" width=\"900\" height=\"600\">\n",
    "</div>"
   ]
  },
  {
   "cell_type": "markdown",
   "id": "e90f735e-1f1c-46e4-a40e-0ec846ebcdfc",
   "metadata": {},
   "source": [
    "Ora hai creato e attivato con successo un ambiente virtuale utilizzando virtualenv.<br>\n",
    "Puoi installare le librerie necessarie e lavorare sul tuo progetto all'interno di questo ambiente virtuale."
   ]
  },
  {
   "cell_type": "markdown",
   "id": "2c1b2974-50ee-4f94-9311-2deadeba3435",
   "metadata": {},
   "source": [
    "<section id=\"introduzione\">\n",
    "    <h2>2. Introduzione</h2>\n",
    "</section>"
   ]
  },
  {
   "cell_type": "markdown",
   "id": "c7881ea4-e3cd-43f3-8c04-2b94e45e2a52",
   "metadata": {},
   "source": [
    "<div style=\"display: flex; align-items: center;\">\n",
    "    <h3>Prima di inizare... ma cos'è Spotify!?</h3>\n",
    "    <img src=\"static/emoji.png\" width=\"80\" height=\"80\">\n",
    "</div>  \n",
    "Spotify è una piattaforma di <strong>streaming musicale</strong> che offre agli utenti un vasto catalogo di brani musicali, podcast e altro ancora. Fondata nel 2006 in Svezia, Spotify ha rapidamente guadagnato popolarità in tutto il mondo come uno dei principali servizi di streaming musicale.\n",
    "\n",
    "Caratteristiche principali di Spotify:\n",
    "- <strong>Streaming Musicale:</strong> Gli utenti possono accedere a milioni di brani da artisti di tutto il mondo. La libreria musicale è vasta e copre una vasta gamma di generi e stili.\n",
    "\n",
    "- <strong>Playlist Personalizzate:</strong> Spotify offre funzionalità di raccomandazione avanzate che creano playlist personalizzate in base ai gusti musicali degli utenti. Queste playlist includono \"Discover Weekly\" e \"Release Radar\".\n",
    "\n",
    "- <strong>Podcast:</strong> Oltre alla musica, Spotify ospita una vasta gamma di podcast su argomenti che spaziano dalla cultura popolare alla scienza, dalla politica alla tecnologia.\n",
    "\n",
    "- <strong>Modalità Offline:</strong> Gli utenti possono scaricare brani e podcast per l'ascolto offline, ideale per chi vuole godersi la musica senza una connessione internet.\n",
    "\n",
    "- <strong>Condivisione Sociale:</strong> Spotify consente agli utenti di condividere le proprie playlist, brani preferiti e attività musicali su piattaforme di social media, consentendo una condivisione facile e interattiva.\n",
    "\n",
    "- <strong>Versatilità di Dispositivi:</strong> Spotify è accessibile su una vasta gamma di dispositivi, inclusi computer, smartphone, tablet, smart TV, console di gioco e altri dispositivi di streaming.\n"
   ]
  },
  {
   "cell_type": "markdown",
   "id": "a2b00b12-9e2c-4466-9ae6-4bbbf4530fab",
   "metadata": {},
   "source": [
    "#### Descrizione generale di cosa sono le API di Spotify:\n",
    "\n",
    "Le <i><strong>API di Spotify</strong></i> sono strumenti che consentono agli sviluppatori di interagire con la piattaforma musicale di Spotify e accedere a diverse funzionalità.<br>\n",
    "Queste API forniscono un insieme di <strong>endpoint e metodi</strong> che consentono agli sviluppatori di recuperare informazioni sulle tracce, sugli artisti, sulle playlist\n",
    "e molto altro ancora. In sostanza, rappresentano un ponte che collega le potenzialità della piattaforma Spotify con le idee creative degli sviluppatori."
   ]
  },
  {
   "cell_type": "markdown",
   "id": "cbd8ca15-f1e2-40f8-b760-f4bc041c17b0",
   "metadata": {},
   "source": [
    "#### Importanza delle API per la creazione di app musicali:<br>\n",
    "Le <i><strong>API di Spotify</strong></i> sono fondamentali per la creazione di app musicali in quanto offrono agli sviluppatori l'accesso a un vasto catalogo musicale senza dover costruire tutto da zero. Questo non solo semplifica il processo di sviluppo, ma consente anche agli sviluppatori di concentrarsi sulla creatività e sull'innovazione, piuttosto che sulla gestione di database musicali complessi. Le API consentono inoltre di integrare funzionalità come la riproduzione di brani, la creazione di playlist personalizzate e molto altro, arricchendo l'esperienza dell'utente finale."
   ]
  },
  {
   "cell_type": "markdown",
   "id": "444d6c6c-76fd-4d58-a9d5-00dd23fa4039",
   "metadata": {},
   "source": [
    "#### Anteprima delle Prossime Fasi:<br>\n",
    "Nelle prossime tappe del tutorial, esploreremo dettagliatamente le varie fasi necessarie per creare la tua app musicale utilizzando le API di Spotify. Partiremo con un'introduzione che getta le basi, passeremo poi alla creazione del profilo sviluppatore e alla registrazione dell'applicazione. Successivamente, affronteremo il cruciale processo di accesso alle API e impareremo come utilizzare le <strong>chiamate RESTful</strong> per ottenere informazioni musicali.<br>\n",
    " Nel cuore del tutorial, ci immergeremo nell'utilizzo pratico delle API di Spotify con Python, aprendo un mondo di possibilità creative.<br>\n",
    " Continueremo esplorando l'estrazione e l'analisi dei dati, per infine concludere il nostro viaggio con un riepilogo delle competenze acquisite e l'ispirazione per future esplorazioni. "
   ]
  },
  {
   "cell_type": "markdown",
   "id": "fb6638ba-53b6-4c5e-9fcf-67af101d25a4",
   "metadata": {},
   "source": [
    "<section id=\"profilo-e-applicazione\">\n",
    "    <h2>3. Profilo e applicazione</h2>\n",
    "</section>"
   ]
  },
  {
   "cell_type": "markdown",
   "id": "beb90079-8c05-44f5-8d85-84fac9365c1e",
   "metadata": {},
   "source": [
    "I seguenti passaggi ti guideranno nella creazione app musicali utilizzando l'API:\n",
    "<div class=\"container\">\n",
    "    <p>Crea un'app e seleziona \"API Web\" quando ti chiede quali API hai intenzione di utilizzare.</p>\n",
    "    <a href=\"https://developer.spotify.com/documentation/web-api\" target=\"_blank\">\n",
    "        <button style=\"background-color: #1DB954; color: #fff; padding: 10px 15px; border: none; border-radius: 5px; cursor: pointer;\">\n",
    "            Dashboard di Spotify Developer\n",
    "        </button>\n",
    "    </a>\n",
    "</div>"
   ]
  },
  {
   "cell_type": "markdown",
   "id": "ddbaf229-3ecc-4800-b297-025a31c169c9",
   "metadata": {},
   "source": [
    "<div style=\"display: flex; align-items: center;\">\n",
    "    <img src=\"static/Screen/Screen_2.png\" width=\"1200\" height=\"800\">\n",
    "</div>"
   ]
  },
  {
   "cell_type": "markdown",
   "id": "2ba049a4-8072-496a-9b34-746a706073ca",
   "metadata": {},
   "source": [
    "Una volta creata l'applicazione risulterà consultabile nella Dashboard"
   ]
  },
  {
   "cell_type": "markdown",
   "id": "673d4bb5-27c3-4603-9779-896990c7071b",
   "metadata": {},
   "source": [
    "<div style=\"display: flex; align-items: center;\">\n",
    "    <img src=\"static/Screen/Screen_3.png\" width=\"1200\" height=\"800\">\n",
    "</div>"
   ]
  },
  {
   "cell_type": "markdown",
   "id": "2db759d8-9156-4f6a-b292-d4458191437a",
   "metadata": {},
   "source": [
    "Una volta creata la tua app, avrai accesso alle credenziali dell'app. Questi saranno richiesti per l'autorizzazione API per ottenere un token di accesso ."
   ]
  },
  {
   "cell_type": "markdown",
   "id": "8d20fee6-4fc0-4abe-b085-92688558ceb5",
   "metadata": {},
   "source": [
    "<div style=\"display: flex; align-items: center;\">\n",
    "    <img src=\"static/Screen/Screen_4.png\" width=\"1200\" height=\"800\">\n",
    "</div>"
   ]
  },
  {
   "cell_type": "markdown",
   "id": "8896c136-f6c2-4741-873c-9b5ff4b0fa73",
   "metadata": {},
   "source": [
    "- Nella pagina delle impostazioni dell'app, aggiungi una <strong>Redirect URI</strong>. Questo è l'URL a cui Spotify reindirizzerà l'utente dopo l'autenticazione. <br>\n",
    "Puoi utilizzare http://localhost:5000/callback per scopi di sviluppo."
   ]
  },
  {
   "cell_type": "markdown",
   "id": "576ae5fa-103a-4acf-812a-20e70f765de7",
   "metadata": {},
   "source": [
    "<div style=\"display: flex; align-items: center;\">\n",
    "    <img src=\"static/Screen/Screen_5.png\" width=\"1200\" height=\"600\">\n",
    "</div>"
   ]
  },
  {
   "cell_type": "markdown",
   "id": "6f1bce32-8130-4c0f-a45a-7742f586b40c",
   "metadata": {},
   "source": [
    "<section id=\"accesso-alle-api\">\n",
    "    <h2>4. Accesso alle API</h2>\n",
    "</section>"
   ]
  },
  {
   "cell_type": "markdown",
   "id": "389f0584-b87e-4ddf-92a6-bd2e42f0aaec",
   "metadata": {},
   "source": [
    "Le API di Spotify sono delle <strong> RESTful API</strong>. La loro implementazione segue lo stile architetturale REST, che si basa sul concetto di risorse identificate da URI e manipolate attraverso i metodi standard HTTP come GET, POST, PUT, DELETE, ecc.\n",
    "\n",
    "Il processo per ottenere il token di accesso da Spotify coinvolge la realizzazione di una richiesta POST all'endpoint https://accounts.spotify.com/api/token.\n",
    "\n",
    "Nel caso delle API REST di Spotify, la richiesta che abbiamo discusso in precedenza per ottenere il token di accesso utilizza il metodo POST per inviare dati al server di autorizzazione di Spotify. I parametri di autenticazione (client ID e client secret) vanno nell'header della richiesta, mentre i dettagli specifici della richiesta, come il tipo di concessione, vanno nel corpo della richiesta.\n",
    "\n",
    "### Flusso di Autorizzazione OAuth 2.0:\n",
    "\n",
    "- Registrazione del Cliente:<br>Il cliente si registra presso l'Authorization Server, ottenendo un ID cliente e un segreto cliente.\n",
    "\n",
    "- Redirezione dell'Utente:<br>Il cliente reindirizza l'utente all'Authorization Server per l'autenticazione. In questo passo, il cliente può specificare il tipo di accesso richiesto (es. lettura o scrittura).\n",
    "\n",
    "- Concessione dell'Autorizzazione:<br>L'utente concede l'autorizzazione all'applicazione.\n",
    "\n",
    "- Ricezione del Codice di Autorizzazione:<br>L'Authorization Server reindirizza l'utente al client con un codice di autorizzazione.\n",
    "\n",
    "- Scambio del Codice per l'Access Token:<br>Il client invia il codice di autorizzazione all'Authorization Server per ottenere l'Access Token.\n",
    "\n",
    "- Utilizzo dell'Access Token:<br>Il client utilizza l'Access Token per accedere alle risorse protette presso il Resource Server.\n",
    "\n",
    "- Richiesta HTTP per l'Access Token:<br>Una richiesta POST all'endpoint dell'Authorization Server è coinvolta nella fase di scambio del codice per l'Access Token. "
   ]
  },
  {
   "cell_type": "markdown",
   "id": "d7efc9c7-0624-41a7-8823-159c768554c8",
   "metadata": {},
   "source": [
    "<div style=\"display: flex; align-items: center;\">\n",
    "    <img src=\"static/Screen/Screen_6.png\" width=\"500\" height=\"300\">\n",
    "</div>"
   ]
  },
  {
   "cell_type": "markdown",
   "id": "7b8fab95-5c82-41cd-be36-6ae0c82fe275",
   "metadata": {},
   "source": [
    "Scriviamo quindi una funzione in <strong>Python</strong> che può essere utilizzata per ottenere un token di accesso valido, che verra poi utilizzato per <strong>autenticare le richieste alle API</strong> di Spotify."
   ]
  },
  {
   "cell_type": "code",
   "execution_count": 1,
   "id": "9a6220bd-a39f-4399-9dda-8cc4b11f8e64",
   "metadata": {},
   "outputs": [],
   "source": [
    "def get_spotify_access_token(client_id, client_secret):\n",
    "    url = 'https://accounts.spotify.com/api/token'\n",
    "    headers = {\n",
    "        'Authorization': 'Basic ' + base64.b64encode(f'{client_id}:{client_secret}'.encode()).decode()\n",
    "    }\n",
    "    data = {\n",
    "        'grant_type': 'client_credentials'\n",
    "    }\n",
    "    \n",
    "    try:\n",
    "        response = requests.post(url, headers=headers, data=data)\n",
    "        response.raise_for_status()  # Solleva un'eccezione se la richiesta HTTP non ha successo\n",
    "        token_data = response.json()\n",
    "        \n",
    "        if 'access_token' in token_data:\n",
    "            return token_data['access_token']\n",
    "        else:\n",
    "            raise Exception(f\"Errore nell'ottenere il token di accesso: {token_data.get('error', 'Errore sconosciuto')}\")\n",
    "            \n",
    "    except requests.exceptions.RequestException as e:\n",
    "        raise Exception(f\"Errore nella richiesta HTTP: {e}\")"
   ]
  },
  {
   "cell_type": "markdown",
   "id": "cfaa8bd7-83c1-4348-8cf8-cd127829a677",
   "metadata": {},
   "source": [
    "Adesso verifichiamo il corretto ottenimento del Token di accesso"
   ]
  },
  {
   "cell_type": "code",
   "execution_count": 12,
   "id": "19e8e222-5bcc-442a-8d58-8fb4ff2c79a4",
   "metadata": {},
   "outputs": [
    {
     "ename": "Exception",
     "evalue": "Errore nella richiesta HTTP: HTTPSConnectionPool(host='accounts.spotify.com', port=443): Max retries exceeded with url: /api/token (Caused by NewConnectionError('<urllib3.connection.HTTPSConnection object at 0x7efe5d91ea40>: Failed to establish a new connection: [Errno -3] Temporary failure in name resolution'))",
     "output_type": "error",
     "traceback": [
      "\u001b[0;31m---------------------------------------------------------------------------\u001b[0m",
      "\u001b[0;31mgaierror\u001b[0m                                  Traceback (most recent call last)",
      "\u001b[0;32m/usr/lib/python3/dist-packages/urllib3/connection.py\u001b[0m in \u001b[0;36m_new_conn\u001b[0;34m(self)\u001b[0m\n\u001b[1;32m    168\u001b[0m         \u001b[0;32mtry\u001b[0m\u001b[0;34m:\u001b[0m\u001b[0;34m\u001b[0m\u001b[0;34m\u001b[0m\u001b[0m\n\u001b[0;32m--> 169\u001b[0;31m             conn = connection.create_connection(\n\u001b[0m\u001b[1;32m    170\u001b[0m                 \u001b[0;34m(\u001b[0m\u001b[0mself\u001b[0m\u001b[0;34m.\u001b[0m\u001b[0m_dns_host\u001b[0m\u001b[0;34m,\u001b[0m \u001b[0mself\u001b[0m\u001b[0;34m.\u001b[0m\u001b[0mport\u001b[0m\u001b[0;34m)\u001b[0m\u001b[0;34m,\u001b[0m \u001b[0mself\u001b[0m\u001b[0;34m.\u001b[0m\u001b[0mtimeout\u001b[0m\u001b[0;34m,\u001b[0m \u001b[0;34m**\u001b[0m\u001b[0mextra_kw\u001b[0m\u001b[0;34m\u001b[0m\u001b[0;34m\u001b[0m\u001b[0m\n",
      "\u001b[0;32m/usr/lib/python3/dist-packages/urllib3/util/connection.py\u001b[0m in \u001b[0;36mcreate_connection\u001b[0;34m(address, timeout, source_address, socket_options)\u001b[0m\n\u001b[1;32m     72\u001b[0m \u001b[0;34m\u001b[0m\u001b[0m\n\u001b[0;32m---> 73\u001b[0;31m     \u001b[0;32mfor\u001b[0m \u001b[0mres\u001b[0m \u001b[0;32min\u001b[0m \u001b[0msocket\u001b[0m\u001b[0;34m.\u001b[0m\u001b[0mgetaddrinfo\u001b[0m\u001b[0;34m(\u001b[0m\u001b[0mhost\u001b[0m\u001b[0;34m,\u001b[0m \u001b[0mport\u001b[0m\u001b[0;34m,\u001b[0m \u001b[0mfamily\u001b[0m\u001b[0;34m,\u001b[0m \u001b[0msocket\u001b[0m\u001b[0;34m.\u001b[0m\u001b[0mSOCK_STREAM\u001b[0m\u001b[0;34m)\u001b[0m\u001b[0;34m:\u001b[0m\u001b[0;34m\u001b[0m\u001b[0;34m\u001b[0m\u001b[0m\n\u001b[0m\u001b[1;32m     74\u001b[0m         \u001b[0maf\u001b[0m\u001b[0;34m,\u001b[0m \u001b[0msocktype\u001b[0m\u001b[0;34m,\u001b[0m \u001b[0mproto\u001b[0m\u001b[0;34m,\u001b[0m \u001b[0mcanonname\u001b[0m\u001b[0;34m,\u001b[0m \u001b[0msa\u001b[0m \u001b[0;34m=\u001b[0m \u001b[0mres\u001b[0m\u001b[0;34m\u001b[0m\u001b[0;34m\u001b[0m\u001b[0m\n",
      "\u001b[0;32m/usr/lib/python3.10/socket.py\u001b[0m in \u001b[0;36mgetaddrinfo\u001b[0;34m(host, port, family, type, proto, flags)\u001b[0m\n\u001b[1;32m    954\u001b[0m     \u001b[0maddrlist\u001b[0m \u001b[0;34m=\u001b[0m \u001b[0;34m[\u001b[0m\u001b[0;34m]\u001b[0m\u001b[0;34m\u001b[0m\u001b[0;34m\u001b[0m\u001b[0m\n\u001b[0;32m--> 955\u001b[0;31m     \u001b[0;32mfor\u001b[0m \u001b[0mres\u001b[0m \u001b[0;32min\u001b[0m \u001b[0m_socket\u001b[0m\u001b[0;34m.\u001b[0m\u001b[0mgetaddrinfo\u001b[0m\u001b[0;34m(\u001b[0m\u001b[0mhost\u001b[0m\u001b[0;34m,\u001b[0m \u001b[0mport\u001b[0m\u001b[0;34m,\u001b[0m \u001b[0mfamily\u001b[0m\u001b[0;34m,\u001b[0m \u001b[0mtype\u001b[0m\u001b[0;34m,\u001b[0m \u001b[0mproto\u001b[0m\u001b[0;34m,\u001b[0m \u001b[0mflags\u001b[0m\u001b[0;34m)\u001b[0m\u001b[0;34m:\u001b[0m\u001b[0;34m\u001b[0m\u001b[0;34m\u001b[0m\u001b[0m\n\u001b[0m\u001b[1;32m    956\u001b[0m         \u001b[0maf\u001b[0m\u001b[0;34m,\u001b[0m \u001b[0msocktype\u001b[0m\u001b[0;34m,\u001b[0m \u001b[0mproto\u001b[0m\u001b[0;34m,\u001b[0m \u001b[0mcanonname\u001b[0m\u001b[0;34m,\u001b[0m \u001b[0msa\u001b[0m \u001b[0;34m=\u001b[0m \u001b[0mres\u001b[0m\u001b[0;34m\u001b[0m\u001b[0;34m\u001b[0m\u001b[0m\n",
      "\u001b[0;31mgaierror\u001b[0m: [Errno -3] Temporary failure in name resolution",
      "\nDuring handling of the above exception, another exception occurred:\n",
      "\u001b[0;31mNewConnectionError\u001b[0m                        Traceback (most recent call last)",
      "\u001b[0;32m/usr/lib/python3/dist-packages/urllib3/connectionpool.py\u001b[0m in \u001b[0;36murlopen\u001b[0;34m(self, method, url, body, headers, retries, redirect, assert_same_host, timeout, pool_timeout, release_conn, chunked, body_pos, **response_kw)\u001b[0m\n\u001b[1;32m    699\u001b[0m             \u001b[0;31m# Make the request on the httplib connection object.\u001b[0m\u001b[0;34m\u001b[0m\u001b[0;34m\u001b[0m\u001b[0m\n\u001b[0;32m--> 700\u001b[0;31m             httplib_response = self._make_request(\n\u001b[0m\u001b[1;32m    701\u001b[0m                 \u001b[0mconn\u001b[0m\u001b[0;34m,\u001b[0m\u001b[0;34m\u001b[0m\u001b[0;34m\u001b[0m\u001b[0m\n",
      "\u001b[0;32m/usr/lib/python3/dist-packages/urllib3/connectionpool.py\u001b[0m in \u001b[0;36m_make_request\u001b[0;34m(self, conn, method, url, timeout, chunked, **httplib_request_kw)\u001b[0m\n\u001b[1;32m    382\u001b[0m         \u001b[0;32mtry\u001b[0m\u001b[0;34m:\u001b[0m\u001b[0;34m\u001b[0m\u001b[0;34m\u001b[0m\u001b[0m\n\u001b[0;32m--> 383\u001b[0;31m             \u001b[0mself\u001b[0m\u001b[0;34m.\u001b[0m\u001b[0m_validate_conn\u001b[0m\u001b[0;34m(\u001b[0m\u001b[0mconn\u001b[0m\u001b[0;34m)\u001b[0m\u001b[0;34m\u001b[0m\u001b[0;34m\u001b[0m\u001b[0m\n\u001b[0m\u001b[1;32m    384\u001b[0m         \u001b[0;32mexcept\u001b[0m \u001b[0;34m(\u001b[0m\u001b[0mSocketTimeout\u001b[0m\u001b[0;34m,\u001b[0m \u001b[0mBaseSSLError\u001b[0m\u001b[0;34m)\u001b[0m \u001b[0;32mas\u001b[0m \u001b[0me\u001b[0m\u001b[0;34m:\u001b[0m\u001b[0;34m\u001b[0m\u001b[0;34m\u001b[0m\u001b[0m\n",
      "\u001b[0;32m/usr/lib/python3/dist-packages/urllib3/connectionpool.py\u001b[0m in \u001b[0;36m_validate_conn\u001b[0;34m(self, conn)\u001b[0m\n\u001b[1;32m   1016\u001b[0m         \u001b[0;32mif\u001b[0m \u001b[0;32mnot\u001b[0m \u001b[0mgetattr\u001b[0m\u001b[0;34m(\u001b[0m\u001b[0mconn\u001b[0m\u001b[0;34m,\u001b[0m \u001b[0;34m\"sock\"\u001b[0m\u001b[0;34m,\u001b[0m \u001b[0;32mNone\u001b[0m\u001b[0;34m)\u001b[0m\u001b[0;34m:\u001b[0m  \u001b[0;31m# AppEngine might not have  `.sock`\u001b[0m\u001b[0;34m\u001b[0m\u001b[0;34m\u001b[0m\u001b[0m\n\u001b[0;32m-> 1017\u001b[0;31m             \u001b[0mconn\u001b[0m\u001b[0;34m.\u001b[0m\u001b[0mconnect\u001b[0m\u001b[0;34m(\u001b[0m\u001b[0;34m)\u001b[0m\u001b[0;34m\u001b[0m\u001b[0;34m\u001b[0m\u001b[0m\n\u001b[0m\u001b[1;32m   1018\u001b[0m \u001b[0;34m\u001b[0m\u001b[0m\n",
      "\u001b[0;32m/usr/lib/python3/dist-packages/urllib3/connection.py\u001b[0m in \u001b[0;36mconnect\u001b[0;34m(self)\u001b[0m\n\u001b[1;32m    352\u001b[0m         \u001b[0;31m# Add certificate verification\u001b[0m\u001b[0;34m\u001b[0m\u001b[0;34m\u001b[0m\u001b[0m\n\u001b[0;32m--> 353\u001b[0;31m         \u001b[0mconn\u001b[0m \u001b[0;34m=\u001b[0m \u001b[0mself\u001b[0m\u001b[0;34m.\u001b[0m\u001b[0m_new_conn\u001b[0m\u001b[0;34m(\u001b[0m\u001b[0;34m)\u001b[0m\u001b[0;34m\u001b[0m\u001b[0;34m\u001b[0m\u001b[0m\n\u001b[0m\u001b[1;32m    354\u001b[0m         \u001b[0mhostname\u001b[0m \u001b[0;34m=\u001b[0m \u001b[0mself\u001b[0m\u001b[0;34m.\u001b[0m\u001b[0mhost\u001b[0m\u001b[0;34m\u001b[0m\u001b[0;34m\u001b[0m\u001b[0m\n",
      "\u001b[0;32m/usr/lib/python3/dist-packages/urllib3/connection.py\u001b[0m in \u001b[0;36m_new_conn\u001b[0;34m(self)\u001b[0m\n\u001b[1;32m    180\u001b[0m         \u001b[0;32mexcept\u001b[0m \u001b[0mSocketError\u001b[0m \u001b[0;32mas\u001b[0m \u001b[0me\u001b[0m\u001b[0;34m:\u001b[0m\u001b[0;34m\u001b[0m\u001b[0;34m\u001b[0m\u001b[0m\n\u001b[0;32m--> 181\u001b[0;31m             raise NewConnectionError(\n\u001b[0m\u001b[1;32m    182\u001b[0m                 \u001b[0mself\u001b[0m\u001b[0;34m,\u001b[0m \u001b[0;34m\"Failed to establish a new connection: %s\"\u001b[0m \u001b[0;34m%\u001b[0m \u001b[0me\u001b[0m\u001b[0;34m\u001b[0m\u001b[0;34m\u001b[0m\u001b[0m\n",
      "\u001b[0;31mNewConnectionError\u001b[0m: <urllib3.connection.HTTPSConnection object at 0x7efe5d91ea40>: Failed to establish a new connection: [Errno -3] Temporary failure in name resolution",
      "\nDuring handling of the above exception, another exception occurred:\n",
      "\u001b[0;31mMaxRetryError\u001b[0m                             Traceback (most recent call last)",
      "\u001b[0;32m~/.local/lib/python3.10/site-packages/requests/adapters.py\u001b[0m in \u001b[0;36msend\u001b[0;34m(self, request, stream, timeout, verify, cert, proxies)\u001b[0m\n\u001b[1;32m    485\u001b[0m         \u001b[0;32mtry\u001b[0m\u001b[0;34m:\u001b[0m\u001b[0;34m\u001b[0m\u001b[0;34m\u001b[0m\u001b[0m\n\u001b[0;32m--> 486\u001b[0;31m             resp = conn.urlopen(\n\u001b[0m\u001b[1;32m    487\u001b[0m                 \u001b[0mmethod\u001b[0m\u001b[0;34m=\u001b[0m\u001b[0mrequest\u001b[0m\u001b[0;34m.\u001b[0m\u001b[0mmethod\u001b[0m\u001b[0;34m,\u001b[0m\u001b[0;34m\u001b[0m\u001b[0;34m\u001b[0m\u001b[0m\n",
      "\u001b[0;32m/usr/lib/python3/dist-packages/urllib3/connectionpool.py\u001b[0m in \u001b[0;36murlopen\u001b[0;34m(self, method, url, body, headers, retries, redirect, assert_same_host, timeout, pool_timeout, release_conn, chunked, body_pos, **response_kw)\u001b[0m\n\u001b[1;32m    755\u001b[0m \u001b[0;34m\u001b[0m\u001b[0m\n\u001b[0;32m--> 756\u001b[0;31m             retries = retries.increment(\n\u001b[0m\u001b[1;32m    757\u001b[0m                 \u001b[0mmethod\u001b[0m\u001b[0;34m,\u001b[0m \u001b[0murl\u001b[0m\u001b[0;34m,\u001b[0m \u001b[0merror\u001b[0m\u001b[0;34m=\u001b[0m\u001b[0me\u001b[0m\u001b[0;34m,\u001b[0m \u001b[0m_pool\u001b[0m\u001b[0;34m=\u001b[0m\u001b[0mself\u001b[0m\u001b[0;34m,\u001b[0m \u001b[0m_stacktrace\u001b[0m\u001b[0;34m=\u001b[0m\u001b[0msys\u001b[0m\u001b[0;34m.\u001b[0m\u001b[0mexc_info\u001b[0m\u001b[0;34m(\u001b[0m\u001b[0;34m)\u001b[0m\u001b[0;34m[\u001b[0m\u001b[0;36m2\u001b[0m\u001b[0;34m]\u001b[0m\u001b[0;34m\u001b[0m\u001b[0;34m\u001b[0m\u001b[0m\n",
      "\u001b[0;32m/usr/lib/python3/dist-packages/urllib3/util/retry.py\u001b[0m in \u001b[0;36mincrement\u001b[0;34m(self, method, url, response, error, _pool, _stacktrace)\u001b[0m\n\u001b[1;32m    573\u001b[0m         \u001b[0;32mif\u001b[0m \u001b[0mnew_retry\u001b[0m\u001b[0;34m.\u001b[0m\u001b[0mis_exhausted\u001b[0m\u001b[0;34m(\u001b[0m\u001b[0;34m)\u001b[0m\u001b[0;34m:\u001b[0m\u001b[0;34m\u001b[0m\u001b[0;34m\u001b[0m\u001b[0m\n\u001b[0;32m--> 574\u001b[0;31m             \u001b[0;32mraise\u001b[0m \u001b[0mMaxRetryError\u001b[0m\u001b[0;34m(\u001b[0m\u001b[0m_pool\u001b[0m\u001b[0;34m,\u001b[0m \u001b[0murl\u001b[0m\u001b[0;34m,\u001b[0m \u001b[0merror\u001b[0m \u001b[0;32mor\u001b[0m \u001b[0mResponseError\u001b[0m\u001b[0;34m(\u001b[0m\u001b[0mcause\u001b[0m\u001b[0;34m)\u001b[0m\u001b[0;34m)\u001b[0m\u001b[0;34m\u001b[0m\u001b[0;34m\u001b[0m\u001b[0m\n\u001b[0m\u001b[1;32m    575\u001b[0m \u001b[0;34m\u001b[0m\u001b[0m\n",
      "\u001b[0;31mMaxRetryError\u001b[0m: HTTPSConnectionPool(host='accounts.spotify.com', port=443): Max retries exceeded with url: /api/token (Caused by NewConnectionError('<urllib3.connection.HTTPSConnection object at 0x7efe5d91ea40>: Failed to establish a new connection: [Errno -3] Temporary failure in name resolution'))",
      "\nDuring handling of the above exception, another exception occurred:\n",
      "\u001b[0;31mConnectionError\u001b[0m                           Traceback (most recent call last)",
      "\u001b[0;32m/tmp/ipykernel_11385/3641369727.py\u001b[0m in \u001b[0;36mget_spotify_access_token\u001b[0;34m(client_id, client_secret)\u001b[0m\n\u001b[1;32m     10\u001b[0m     \u001b[0;32mtry\u001b[0m\u001b[0;34m:\u001b[0m\u001b[0;34m\u001b[0m\u001b[0;34m\u001b[0m\u001b[0m\n\u001b[0;32m---> 11\u001b[0;31m         \u001b[0mresponse\u001b[0m \u001b[0;34m=\u001b[0m \u001b[0mrequests\u001b[0m\u001b[0;34m.\u001b[0m\u001b[0mpost\u001b[0m\u001b[0;34m(\u001b[0m\u001b[0murl\u001b[0m\u001b[0;34m,\u001b[0m \u001b[0mheaders\u001b[0m\u001b[0;34m=\u001b[0m\u001b[0mheaders\u001b[0m\u001b[0;34m,\u001b[0m \u001b[0mdata\u001b[0m\u001b[0;34m=\u001b[0m\u001b[0mdata\u001b[0m\u001b[0;34m)\u001b[0m\u001b[0;34m\u001b[0m\u001b[0;34m\u001b[0m\u001b[0m\n\u001b[0m\u001b[1;32m     12\u001b[0m         \u001b[0mresponse\u001b[0m\u001b[0;34m.\u001b[0m\u001b[0mraise_for_status\u001b[0m\u001b[0;34m(\u001b[0m\u001b[0;34m)\u001b[0m  \u001b[0;31m# Solleva un'eccezione se la richiesta HTTP non ha successo\u001b[0m\u001b[0;34m\u001b[0m\u001b[0;34m\u001b[0m\u001b[0m\n",
      "\u001b[0;32m~/.local/lib/python3.10/site-packages/requests/api.py\u001b[0m in \u001b[0;36mpost\u001b[0;34m(url, data, json, **kwargs)\u001b[0m\n\u001b[1;32m    114\u001b[0m \u001b[0;34m\u001b[0m\u001b[0m\n\u001b[0;32m--> 115\u001b[0;31m     \u001b[0;32mreturn\u001b[0m \u001b[0mrequest\u001b[0m\u001b[0;34m(\u001b[0m\u001b[0;34m\"post\"\u001b[0m\u001b[0;34m,\u001b[0m \u001b[0murl\u001b[0m\u001b[0;34m,\u001b[0m \u001b[0mdata\u001b[0m\u001b[0;34m=\u001b[0m\u001b[0mdata\u001b[0m\u001b[0;34m,\u001b[0m \u001b[0mjson\u001b[0m\u001b[0;34m=\u001b[0m\u001b[0mjson\u001b[0m\u001b[0;34m,\u001b[0m \u001b[0;34m**\u001b[0m\u001b[0mkwargs\u001b[0m\u001b[0;34m)\u001b[0m\u001b[0;34m\u001b[0m\u001b[0;34m\u001b[0m\u001b[0m\n\u001b[0m\u001b[1;32m    116\u001b[0m \u001b[0;34m\u001b[0m\u001b[0m\n",
      "\u001b[0;32m~/.local/lib/python3.10/site-packages/requests/api.py\u001b[0m in \u001b[0;36mrequest\u001b[0;34m(method, url, **kwargs)\u001b[0m\n\u001b[1;32m     58\u001b[0m     \u001b[0;32mwith\u001b[0m \u001b[0msessions\u001b[0m\u001b[0;34m.\u001b[0m\u001b[0mSession\u001b[0m\u001b[0;34m(\u001b[0m\u001b[0;34m)\u001b[0m \u001b[0;32mas\u001b[0m \u001b[0msession\u001b[0m\u001b[0;34m:\u001b[0m\u001b[0;34m\u001b[0m\u001b[0;34m\u001b[0m\u001b[0m\n\u001b[0;32m---> 59\u001b[0;31m         \u001b[0;32mreturn\u001b[0m \u001b[0msession\u001b[0m\u001b[0;34m.\u001b[0m\u001b[0mrequest\u001b[0m\u001b[0;34m(\u001b[0m\u001b[0mmethod\u001b[0m\u001b[0;34m=\u001b[0m\u001b[0mmethod\u001b[0m\u001b[0;34m,\u001b[0m \u001b[0murl\u001b[0m\u001b[0;34m=\u001b[0m\u001b[0murl\u001b[0m\u001b[0;34m,\u001b[0m \u001b[0;34m**\u001b[0m\u001b[0mkwargs\u001b[0m\u001b[0;34m)\u001b[0m\u001b[0;34m\u001b[0m\u001b[0;34m\u001b[0m\u001b[0m\n\u001b[0m\u001b[1;32m     60\u001b[0m \u001b[0;34m\u001b[0m\u001b[0m\n",
      "\u001b[0;32m~/.local/lib/python3.10/site-packages/requests/sessions.py\u001b[0m in \u001b[0;36mrequest\u001b[0;34m(self, method, url, params, data, headers, cookies, files, auth, timeout, allow_redirects, proxies, hooks, stream, verify, cert, json)\u001b[0m\n\u001b[1;32m    588\u001b[0m         \u001b[0msend_kwargs\u001b[0m\u001b[0;34m.\u001b[0m\u001b[0mupdate\u001b[0m\u001b[0;34m(\u001b[0m\u001b[0msettings\u001b[0m\u001b[0;34m)\u001b[0m\u001b[0;34m\u001b[0m\u001b[0;34m\u001b[0m\u001b[0m\n\u001b[0;32m--> 589\u001b[0;31m         \u001b[0mresp\u001b[0m \u001b[0;34m=\u001b[0m \u001b[0mself\u001b[0m\u001b[0;34m.\u001b[0m\u001b[0msend\u001b[0m\u001b[0;34m(\u001b[0m\u001b[0mprep\u001b[0m\u001b[0;34m,\u001b[0m \u001b[0;34m**\u001b[0m\u001b[0msend_kwargs\u001b[0m\u001b[0;34m)\u001b[0m\u001b[0;34m\u001b[0m\u001b[0;34m\u001b[0m\u001b[0m\n\u001b[0m\u001b[1;32m    590\u001b[0m \u001b[0;34m\u001b[0m\u001b[0m\n",
      "\u001b[0;32m~/.local/lib/python3.10/site-packages/requests/sessions.py\u001b[0m in \u001b[0;36msend\u001b[0;34m(self, request, **kwargs)\u001b[0m\n\u001b[1;32m    702\u001b[0m         \u001b[0;31m# Send the request\u001b[0m\u001b[0;34m\u001b[0m\u001b[0;34m\u001b[0m\u001b[0m\n\u001b[0;32m--> 703\u001b[0;31m         \u001b[0mr\u001b[0m \u001b[0;34m=\u001b[0m \u001b[0madapter\u001b[0m\u001b[0;34m.\u001b[0m\u001b[0msend\u001b[0m\u001b[0;34m(\u001b[0m\u001b[0mrequest\u001b[0m\u001b[0;34m,\u001b[0m \u001b[0;34m**\u001b[0m\u001b[0mkwargs\u001b[0m\u001b[0;34m)\u001b[0m\u001b[0;34m\u001b[0m\u001b[0;34m\u001b[0m\u001b[0m\n\u001b[0m\u001b[1;32m    704\u001b[0m \u001b[0;34m\u001b[0m\u001b[0m\n",
      "\u001b[0;32m~/.local/lib/python3.10/site-packages/requests/adapters.py\u001b[0m in \u001b[0;36msend\u001b[0;34m(self, request, stream, timeout, verify, cert, proxies)\u001b[0m\n\u001b[1;32m    518\u001b[0m \u001b[0;34m\u001b[0m\u001b[0m\n\u001b[0;32m--> 519\u001b[0;31m             \u001b[0;32mraise\u001b[0m \u001b[0mConnectionError\u001b[0m\u001b[0;34m(\u001b[0m\u001b[0me\u001b[0m\u001b[0;34m,\u001b[0m \u001b[0mrequest\u001b[0m\u001b[0;34m=\u001b[0m\u001b[0mrequest\u001b[0m\u001b[0;34m)\u001b[0m\u001b[0;34m\u001b[0m\u001b[0;34m\u001b[0m\u001b[0m\n\u001b[0m\u001b[1;32m    520\u001b[0m \u001b[0;34m\u001b[0m\u001b[0m\n",
      "\u001b[0;31mConnectionError\u001b[0m: HTTPSConnectionPool(host='accounts.spotify.com', port=443): Max retries exceeded with url: /api/token (Caused by NewConnectionError('<urllib3.connection.HTTPSConnection object at 0x7efe5d91ea40>: Failed to establish a new connection: [Errno -3] Temporary failure in name resolution'))",
      "\nDuring handling of the above exception, another exception occurred:\n",
      "\u001b[0;31mException\u001b[0m                                 Traceback (most recent call last)",
      "\u001b[0;32m/tmp/ipykernel_11385/3179815981.py\u001b[0m in \u001b[0;36m<module>\u001b[0;34m\u001b[0m\n\u001b[1;32m      4\u001b[0m \u001b[0mclient_id\u001b[0m \u001b[0;34m=\u001b[0m \u001b[0;34m'cd0f7e9279034469a5c4560808cb31a8'\u001b[0m\u001b[0;34m\u001b[0m\u001b[0;34m\u001b[0m\u001b[0m\n\u001b[1;32m      5\u001b[0m \u001b[0mclient_secret\u001b[0m \u001b[0;34m=\u001b[0m \u001b[0;34m'da3fe74efc5c4a84b71399c157366e09'\u001b[0m\u001b[0;34m\u001b[0m\u001b[0;34m\u001b[0m\u001b[0m\n\u001b[0;32m----> 6\u001b[0;31m \u001b[0maccess_token\u001b[0m \u001b[0;34m=\u001b[0m \u001b[0mget_spotify_access_token\u001b[0m\u001b[0;34m(\u001b[0m\u001b[0mclient_id\u001b[0m\u001b[0;34m,\u001b[0m \u001b[0mclient_secret\u001b[0m\u001b[0;34m)\u001b[0m \u001b[0;31m# ottengo il token di accesso\u001b[0m\u001b[0;34m\u001b[0m\u001b[0;34m\u001b[0m\u001b[0m\n\u001b[0m\u001b[1;32m      7\u001b[0m \u001b[0;34m\u001b[0m\u001b[0m\n\u001b[1;32m      8\u001b[0m \u001b[0mprint\u001b[0m\u001b[0;34m(\u001b[0m\u001b[0;34mf\"Token di accesso: {access_token}\"\u001b[0m\u001b[0;34m)\u001b[0m\u001b[0;34m\u001b[0m\u001b[0;34m\u001b[0m\u001b[0m\n",
      "\u001b[0;32m/tmp/ipykernel_11385/3641369727.py\u001b[0m in \u001b[0;36mget_spotify_access_token\u001b[0;34m(client_id, client_secret)\u001b[0m\n\u001b[1;32m     19\u001b[0m \u001b[0;34m\u001b[0m\u001b[0m\n\u001b[1;32m     20\u001b[0m     \u001b[0;32mexcept\u001b[0m \u001b[0mrequests\u001b[0m\u001b[0;34m.\u001b[0m\u001b[0mexceptions\u001b[0m\u001b[0;34m.\u001b[0m\u001b[0mRequestException\u001b[0m \u001b[0;32mas\u001b[0m \u001b[0me\u001b[0m\u001b[0;34m:\u001b[0m\u001b[0;34m\u001b[0m\u001b[0;34m\u001b[0m\u001b[0m\n\u001b[0;32m---> 21\u001b[0;31m         \u001b[0;32mraise\u001b[0m \u001b[0mException\u001b[0m\u001b[0;34m(\u001b[0m\u001b[0;34mf\"Errore nella richiesta HTTP: {e}\"\u001b[0m\u001b[0;34m)\u001b[0m\u001b[0;34m\u001b[0m\u001b[0;34m\u001b[0m\u001b[0m\n\u001b[0m",
      "\u001b[0;31mException\u001b[0m: Errore nella richiesta HTTP: HTTPSConnectionPool(host='accounts.spotify.com', port=443): Max retries exceeded with url: /api/token (Caused by NewConnectionError('<urllib3.connection.HTTPSConnection object at 0x7efe5d91ea40>: Failed to establish a new connection: [Errno -3] Temporary failure in name resolution'))"
     ]
    }
   ],
   "source": [
    "import requests\n",
    "import base64\n",
    "\n",
    "client_id = 'cd0f7e9279034469a5c4560808cb31a8' \n",
    "client_secret = 'da3fe74efc5c4a84b71399c157366e09'\n",
    "access_token = get_spotify_access_token(client_id, client_secret) # ottengo il token di accesso\n",
    "\n",
    "print(f\"Token di accesso: {access_token}\")"
   ]
  },
  {
   "cell_type": "markdown",
   "id": "214a537d-cd9d-4862-b7cd-146fa1d63601",
   "metadata": {},
   "source": [
    "<section id=\"utilizzo-delle-api-restful\">\n",
    "    <h2>5. Utilizzo delle API RESTful</h2>\n",
    "</section>"
   ]
  },
  {
   "cell_type": "markdown",
   "id": "af224b66-f70f-442d-98fd-8547174954eb",
   "metadata": {},
   "source": [
    "Una volta acquisito il token di accesso, siamo pronti per autenticare e autorizzare le richieste alle API. Probabilmente la prima cosa che si può pensare di voler fare attraverso un'interfaccia di programmazione simile è proprio andare a ricercare un determinato artista su spotify in modo da ottenere tutte le sue informazioni: \n",
    "\n",
    "- Nome\n",
    "- ID\n",
    "- Genere\n",
    "- Popolarità\n",
    "- Followers\n",
    "- URL di Spotify\n",
    "- Immagine profilo"
   ]
  },
  {
   "cell_type": "code",
   "execution_count": 3,
   "id": "c4218ba3-a79b-4ec5-bcce-6f399dc694ce",
   "metadata": {},
   "outputs": [],
   "source": [
    "def search_artist(token, artist_name):\n",
    "    url = \"https://api.spotify.com/v1/search\"\n",
    "    headers = {\n",
    "        \"Authorization\": f\"Bearer {token}\"\n",
    "    }\n",
    "    params = {\n",
    "        \"q\": artist_name,\n",
    "        \"type\": \"artist\",\n",
    "        \"limit\": 1\n",
    "    }\n",
    "    \n",
    "    try:\n",
    "        response = requests.get(url, headers=headers, params=params)\n",
    "        response.raise_for_status()  # Solleva un'eccezione se la richiesta HTTP non ha successo\n",
    "        data = response.json()\n",
    "        artists = data.get(\"artists\", {}).get(\"items\", [])\n",
    "        \n",
    "        if artists:\n",
    "            return artists[0]\n",
    "        else:\n",
    "            print(f\"Nessun artista trovato con il nome '{artist_name}'.\")\n",
    "            return None\n",
    "            \n",
    "    except requests.exceptions.RequestException as e:\n",
    "        print(f\"Errore nella richiesta HTTP: {e}\")\n",
    "        return None"
   ]
  },
  {
   "cell_type": "markdown",
   "id": "bb0bc04c-3f0c-4186-898e-aefe5747dfe8",
   "metadata": {},
   "source": [
    "Può essere utile scrivere anche delle funzioni ausiliarie per:\n",
    "- estrarre il link a Spotify dal dizionario <strong>\"external_urls\"</strong> dell'entità;\n",
    "- renderlo accessibile tramite un semplice click, in modo da ridirezionare alla pagina specificata dall'url;\n",
    "- mostrare le varie immagini a partire dal loro url;\n",
    "- convertire le durate (in ms) dei brani in minuti;"
   ]
  },
  {
   "cell_type": "code",
   "execution_count": 4,
   "id": "de383bde-fce4-4976-9a02-c4b6fb3193c9",
   "metadata": {},
   "outputs": [],
   "source": [
    "def extract_spotify_url(external_urls):\n",
    "    return external_urls['spotify']\n",
    "    \n",
    "def make_clickable(link):\n",
    "    return f'<a href=\"{link}\" target=\"_blank\">{link}</a>'\n",
    "\n",
    "def display_image(image_url):\n",
    "    return f'<img src=\"{image_url}\" alt=\"Cover Image\" style=\"max-height: 80px; max-width: 80px;\">'\n",
    "\n",
    "def convert_duration(duration_ms):\n",
    "    duration_minutes = duration_ms / 60000\n",
    "    return round(duration_minutes, 2)"
   ]
  },
  {
   "cell_type": "code",
   "execution_count": 5,
   "id": "119d2cb2-7b32-4aaa-a017-efdb311c2a5b",
   "metadata": {},
   "outputs": [
    {
     "ename": "NameError",
     "evalue": "name 'access_token' is not defined",
     "output_type": "error",
     "traceback": [
      "\u001b[0;31m---------------------------------------------------------------------------\u001b[0m",
      "\u001b[0;31mNameError\u001b[0m                                 Traceback (most recent call last)",
      "\u001b[0;32m/tmp/ipykernel_11385/3299915267.py\u001b[0m in \u001b[0;36m<module>\u001b[0;34m\u001b[0m\n\u001b[1;32m      3\u001b[0m \u001b[0;34m\u001b[0m\u001b[0m\n\u001b[1;32m      4\u001b[0m \u001b[0martist_name\u001b[0m \u001b[0;34m=\u001b[0m \u001b[0;34m\"Emis Killa\"\u001b[0m\u001b[0;34m\u001b[0m\u001b[0;34m\u001b[0m\u001b[0m\n\u001b[0;32m----> 5\u001b[0;31m \u001b[0martist\u001b[0m \u001b[0;34m=\u001b[0m \u001b[0msearch_artist\u001b[0m\u001b[0;34m(\u001b[0m\u001b[0maccess_token\u001b[0m\u001b[0;34m,\u001b[0m \u001b[0martist_name\u001b[0m\u001b[0;34m)\u001b[0m \u001b[0;31m# ottengo l'artista\u001b[0m\u001b[0;34m\u001b[0m\u001b[0;34m\u001b[0m\u001b[0m\n\u001b[0m\u001b[1;32m      6\u001b[0m \u001b[0;34m\u001b[0m\u001b[0m\n\u001b[1;32m      7\u001b[0m artist_data = {\n",
      "\u001b[0;31mNameError\u001b[0m: name 'access_token' is not defined"
     ]
    }
   ],
   "source": [
    "import pandas as pd\n",
    "from IPython.display import Image, display, HTML\n",
    "\n",
    "artist_name = \"Emis Killa\" \n",
    "artist = search_artist(access_token, artist_name) # ottengo l'artista\n",
    "\n",
    "artist_data = {\n",
    "    \"Nome\": artist[\"name\"],\n",
    "    \"ID\": artist[\"id\"] ,\n",
    "    \"Genere\": artist[\"genres\"][0],\n",
    "    \"Popolarità\": artist[\"popularity\"],\n",
    "    \"Followers\": artist[\"followers\"][\"total\"],\n",
    "    \"Spotify URL\": artist[\"external_urls\"][\"spotify\"],\n",
    "    \"Immagine\": artist[\"images\"][0][\"url\"]\n",
    "}\n",
    "\n",
    "artist_data_frame = pd.DataFrame([artist_data])\n",
    "artist_data_frame['Spotify URL'] = artist_data_frame['Spotify URL'].apply(make_clickable)\n",
    "artist_data_frame['Immagine'] = artist_data_frame['Immagine'].apply(display_image)\n",
    "\n",
    "print(f\"Artista trovato: {artist_name} (ID: {artist_data['ID']})\\n\") \n",
    "HTML(artist_data_frame.to_html(escape=False))"
   ]
  },
  {
   "cell_type": "markdown",
   "id": "3d6bbb52-f3c0-4bf3-96c9-1da1b368f5d1",
   "metadata": {},
   "source": [
    "Nei prossimi paragrafi, approfondiremo l'utilizzo delle strutture dati in Python, in particolare i DataFrame di Pandas, per un'analisi dettagliata dei contenuti di Spotify.\n",
    "\n",
    "Utilizzeremo queste potenti strutture dati per:\n",
    "\n",
    "- Estrarre dati dettagliati su brani, artisti e album.\n",
    "- Manipolare le informazioni in modi avanzati.\n",
    "- Visualizzare in modo chiaro e comprensibile le tendenze e le relazioni presenti nelle informazioni di Spotify.\n",
    "\n",
    "Inizieremo con l'analisi delle top chart degli artisti, per poi esplorare le caratteristiche dei brani più popolari, ottenere dettagli sugli album e presentare statistiche di ascolto degli utenti. Sfrutteremo appieno le potenzialità delle librerie Python e delle API di Spotify per un'analisi completa e informativa."
   ]
  },
  {
   "cell_type": "markdown",
   "id": "771b1ab6-2ca6-4992-acaa-e573861824be",
   "metadata": {},
   "source": [
    "<section id=\"api-spotify-python\">\n",
    "    <h2>6. API Spotify Python</h2>\n",
    "</section>"
   ]
  },
  {
   "cell_type": "markdown",
   "id": "26f4d3c6-005b-4dd7-af2b-54f8e944c8c8",
   "metadata": {},
   "source": [
    "Risulta interessante anche chiedersi quali sono gli album dell'artista appena trovato. Anche questo può essere facilmente ottenuto grazzie all'uso delle API di Spotify, a partire dall'id dell'artista. In particolare prenderemo le informazioni rigurdanti :\n",
    "\n",
    "- Nome\n",
    "- ID\n",
    "- Data di uscita\n",
    "- Numero totale di tracce\n",
    "- Immagine di copertina\n",
    "- URL di Spotify "
   ]
  },
  {
   "cell_type": "code",
   "execution_count": null,
   "id": "ef27b66e-9da5-472f-b22c-9f5e12cfe891",
   "metadata": {},
   "outputs": [],
   "source": [
    "def get_albums(token, artist_id):\n",
    "    url = f'https://api.spotify.com/v1/artists/{artist_id}/albums'\n",
    "    \n",
    "    headers = {\n",
    "        \"Authorization\": f\"Bearer {token}\"\n",
    "    }\n",
    "    params = {\n",
    "        \"market\": \"IT\"\n",
    "    }\n",
    "\n",
    "    try:\n",
    "        response = requests.get(url, headers=headers, params=params)\n",
    "        response.raise_for_status()  # Solleva un'eccezione se la richiesta HTTP non ha successo\n",
    "        data = response.json()\n",
    "        \n",
    "        return data.get(\"items\", [])\n",
    "        \n",
    "    except requests.exceptions.RequestException as e:\n",
    "        print(f\"Errore nella richiesta HTTP: {e}\")\n",
    "        return []"
   ]
  },
  {
   "cell_type": "code",
   "execution_count": null,
   "id": "45049817-b7a6-466a-a803-257f92ce00cf",
   "metadata": {},
   "outputs": [],
   "source": [
    "artist_albums = get_albums(access_token, artist[\"id\"])\n",
    "album_data_frame = pd.DataFrame(artist_albums, columns=['name', 'id', 'release_date', 'total_tracks', 'images', 'external_urls'])\n",
    "\n",
    "# Rinomina le colonne per chiarezza\n",
    "album_data_frame = album_data_frame.rename(columns={'name': 'Titolo', 'id': 'ID', 'release_date': 'Data di uscita', 'total_tracks': 'No. Tracce', 'images': 'Copertina', 'external_urls': 'Spotify URL'})\n",
    "\n",
    "# Visualizza l'immagine dell'album\n",
    "album_data_frame['Copertina'] = album_data_frame['Copertina'].apply(lambda x: display_image(x[0][\"url\"]))\n",
    "\n",
    "# Filtra gli album con un numero diverso da 1 di tracce\n",
    "album_data_frame = album_data_frame[album_data_frame[\"No. Tracce\"] != 1]\n",
    "\n",
    "# Rendi cliccabili gli URL di Spotify\n",
    "album_data_frame['Spotify URL'] = album_data_frame['Spotify URL'].apply(extract_spotify_url)\n",
    "album_data_frame['Spotify URL'] = album_data_frame['Spotify URL'].apply(make_clickable)\n",
    "\n",
    "print(f\"Gli album dell'artista {artist_name} sono:\\n\")\n",
    "display(HTML(album_data_frame.to_html(escape=False)))"
   ]
  },
  {
   "cell_type": "markdown",
   "id": "5535811a-5692-4b4f-ae50-67ee5e887524",
   "metadata": {},
   "source": [
    "Adesso che abbiamo ottenuto la discografia dell'artista, possiamo esaminare anche il contenuto dei suoi album.<br>\n",
    "Possiamo esaminare un album in particolare specificandone l'ID ma risulta pià interessante esaminare l'intera discografia dell'artista.\n",
    "\n",
    "Per ogni brano in particolare siamo interessati a :\n",
    "\n",
    "- Titolo\n",
    "- ID\n",
    "- Data di uscita\n",
    "- Numero totale di tracce\n",
    "- Immagine di copertina\n",
    "- Spotify URL"
   ]
  },
  {
   "cell_type": "code",
   "execution_count": null,
   "id": "51696d3c-cb78-4aec-bf4e-2cddd5b109a9",
   "metadata": {},
   "outputs": [],
   "source": [
    "def get_album_tracks(token, album_id):\n",
    "    url = f'https://api.spotify.com/v1/albums/{album_id}/tracks'\n",
    "    \n",
    "    headers = {\n",
    "        \"Authorization\": f\"Bearer {token}\"\n",
    "    }\n",
    "    params = {\n",
    "        \"market\": \"IT\"\n",
    "    }\n",
    "\n",
    "    try:\n",
    "        response = requests.get(url, headers=headers, params=params)\n",
    "        response.raise_for_status()  # Solleva un'eccezione se la richiesta HTTP non ha successo\n",
    "        data = response.json()\n",
    "        \n",
    "        return data.get(\"items\", [])\n",
    "        \n",
    "    except requests.exceptions.RequestException as e:\n",
    "        print(f\"Errore nella richiesta HTTP: {e}\")\n",
    "        return []"
   ]
  },
  {
   "cell_type": "code",
   "execution_count": null,
   "id": "a40b1d45-9ade-4689-bcc5-93e74289a580",
   "metadata": {},
   "outputs": [],
   "source": [
    "album_name = \"Effetto notte\"  \n",
    "album_id = album_data_frame.loc[album_data_frame['Titolo'] == album_name, 'ID'].values[0]\n",
    "\n",
    "album_tracks = get_album_tracks(access_token, album_id)\n",
    "album_track_data_frame = pd.DataFrame(album_tracks, columns=['name','id','duration_ms','external_urls', 'uri'])\n",
    "album_track_data_frame = album_track_data_frame.rename(columns={'name': 'Titolo', 'id': 'ID', 'duration_ms': 'Durata', 'external_urls': 'Spotify URL', 'uri': 'URI'})\n",
    "\n",
    "album_track_data_frame['Durata'] = album_track_data_frame['Durata'].apply(convert_duration)\n",
    "album_track_data_frame['Spotify URL'] = album_track_data_frame['Spotify URL'].apply(extract_spotify_url)\n",
    "album_track_data_frame['Spotify URL'] = album_track_data_frame['Spotify URL'].apply(make_clickable)\n",
    "album_track_data_frame['URI'] = album_track_data_frame['URI'].apply(lambda uri: uri.split(':')[-1])\n",
    "\n",
    "print(f\"Le tracce dell'album {album_name} sono:\\n\")\n",
    "display(HTML(album_track_data_frame.to_html(escape=False)))"
   ]
  },
  {
   "cell_type": "markdown",
   "id": "a3e2d6bd-3a5d-4798-af91-bbdd12615e3d",
   "metadata": {},
   "source": [
    "#### Si nota che durante l'iterazione su ogni brano di ogni album, viene inserita ogni traccia in un dataframe complessivo.\n",
    "#### Questo ci sarà utile quando faremo statistiche nella <strong>sezione 7 del tutorial</strong>.\n",
    "- Ci server anche una funzione che renda cliccabili gli URL del dataframe globale :"
   ]
  },
  {
   "cell_type": "code",
   "execution_count": 9,
   "id": "790b99f7-10ba-49fe-b8f7-a512e28efd79",
   "metadata": {},
   "outputs": [],
   "source": [
    "from bs4 import BeautifulSoup\n",
    "\n",
    "def extract_href(html):\n",
    "    soup = BeautifulSoup(html, 'html.parser')\n",
    "    return soup.a['href']"
   ]
  },
  {
   "cell_type": "code",
   "execution_count": null,
   "id": "08a1e8fe-ec87-4d41-bb62-4783830f7308",
   "metadata": {},
   "outputs": [],
   "source": [
    "# Creazione del DataFrame complessivo utile per la sezione 7 del tutorial\n",
    "discography_data_frames_list = []\n",
    "\n",
    "for index, row in album_data_frame.iterrows():\n",
    "    album_name = row['Titolo']\n",
    "    album_id = row['ID']\n",
    "\n",
    "    album_tracks = get_album_tracks(access_token, album_id)\n",
    "\n",
    "    tracks_data_frame = pd.DataFrame(album_tracks, columns=['name', 'id', 'duration_ms','external_urls', 'uri'])\n",
    "    tracks_data_frame = tracks_data_frame.rename(columns={'name': 'Titolo', 'id': 'ID', 'duration_ms': 'Durata', 'external_urls': 'Spotify URL', 'uri': 'URI'})\n",
    "\n",
    "    tracks_data_frame['Durata'] = tracks_data_frame['Durata'].apply(convert_duration)\n",
    "    tracks_data_frame['Spotify URL'] = tracks_data_frame['Spotify URL'].apply(extract_spotify_url)\n",
    "    tracks_data_frame['Spotify URL'] = tracks_data_frame['Spotify URL'].apply(make_clickable)\n",
    "    tracks_data_frame['URI'] = tracks_data_frame['URI'].apply(lambda uri: uri.split(':')[-1])\n",
    "    tracks_data_frame['Album'] = album_name\n",
    "    \n",
    "    discography_data_frames_list.append(tracks_data_frame)\n",
    "\n",
    "    print(f\"\\nLe tracce dell'album \\\"{album_name}\\\" sono:\\n\")\n",
    "    display(HTML(tracks_data_frame.to_html(escape=False)))\n",
    "    print('=' * 138)\n",
    "\n",
    "discography_data_frame = pd.concat(discography_data_frames_list, ignore_index=True)\n",
    "discography_data_frame['Spotify URL'] = discography_data_frame['Spotify URL'].apply(extract_href)\n",
    "discography_data_frame['Spotify URL'] = discography_data_frame['Spotify URL'].apply(make_clickable)"
   ]
  },
  {
   "cell_type": "markdown",
   "id": "e6ebc1ed-12fd-414a-8d7d-ef05876e70c0",
   "metadata": {},
   "source": [
    "- Si può anche visualizzare il dataframe globale e salvare in un apposito file csv:"
   ]
  },
  {
   "cell_type": "code",
   "execution_count": null,
   "id": "335cb64e-0bbc-47a6-9210-f26b147fdcdb",
   "metadata": {},
   "outputs": [],
   "source": [
    "print(\"\\nDataFrame complessivo delle tracce:\")\n",
    "display(HTML(discography_data_frame.to_html(escape=False)))\n",
    "discography_data_frame.to_csv('discography_data.csv', index=False)"
   ]
  },
  {
   "cell_type": "markdown",
   "id": "1be6d9aa-7344-4baf-b0a4-4043ae7d19e6",
   "metadata": {},
   "source": [
    "Un'altra interessante funzionalità che possiamo sfruttare è quella di ottenere la top 10 dei brani di un artista arbitrario.<br>\n",
    "In particolare siamo interessati ai seguenti campi:\n",
    "- Titolo\n",
    "- ID\n",
    "- Popolarità\n",
    "- Durata\n",
    "- Data di rilascio\n",
    "- Album\n",
    "- Spotify URL"
   ]
  },
  {
   "cell_type": "code",
   "execution_count": null,
   "id": "e13273e3-6729-4c7d-a24c-825f258a4035",
   "metadata": {},
   "outputs": [],
   "source": [
    "def get_top_tracks_artist(token, artist_id):\n",
    "    url = f\"https://api.spotify.com/v1/artists/{artist_id}/top-tracks?country=IT\"\n",
    "    headers = {\n",
    "        \"Authorization\": f\"Bearer {token}\"\n",
    "    }\n",
    "    \n",
    "    try:\n",
    "        response = requests.get(url, headers=headers)\n",
    "        response.raise_for_status()  \n",
    "        data = response.json()[\"tracks\"]\n",
    "        return data\n",
    "        \n",
    "    except requests.exceptions.RequestException as e:\n",
    "        print(f\"Errore nella richiesta HTTP: {e}\")\n",
    "        return None"
   ]
  },
  {
   "cell_type": "code",
   "execution_count": null,
   "id": "14d33bc5-9526-4b9c-aecd-c44b98166924",
   "metadata": {},
   "outputs": [],
   "source": [
    "top_tracks = get_top_tracks_artist(access_token, artist_data['ID'])\n",
    "\n",
    "top_tracks_data_frame = pd.DataFrame([{\n",
    "    'Titolo': track['name'],\n",
    "    'ID': track['id'],\n",
    "    'Popolarità': track['popularity'],\n",
    "    'Durata': convert_duration(track['duration_ms']),\n",
    "    'Data di rilascio': track['album']['release_date'],\n",
    "    'Album' : track[\"album\"][\"name\"],\n",
    "    'Spotify URL': track['external_urls']['spotify']\n",
    "} for track in top_tracks])\n",
    "top_tracks_data_frame['Spotify URL'] = top_tracks_data_frame['Spotify URL'].apply(make_clickable)\n",
    "\n",
    "print(f\"Top Tracks dell'artista {artist_name} :\\n\")\n",
    "display(HTML(top_tracks_data_frame.to_html(escape=False)))"
   ]
  },
  {
   "cell_type": "markdown",
   "id": "5c33b3e2-1e0b-4c10-a630-6ef63f3b7f8d",
   "metadata": {},
   "source": [
    "Possiamo usare le API REST di Spotify per ottenere anche informazioni sugli artisti correlati ad un artista in particolare"
   ]
  },
  {
   "cell_type": "code",
   "execution_count": null,
   "id": "ba9c8c3b-0a52-46cc-a2e1-47945bedc5f3",
   "metadata": {},
   "outputs": [],
   "source": [
    "def get_artist_related(token, id):\n",
    "    url = f\"https://api.spotify.com/v1/artists/{id}/related-artists\"\n",
    "    headers = {\n",
    "        \"Authorization\": f\"Bearer {token}\"\n",
    "    }\n",
    "\n",
    "    try:\n",
    "        response = requests.get(url, headers=headers)\n",
    "        response.raise_for_status() \n",
    "        data = response.json()[\"artists\"]\n",
    "        return data\n",
    "    except requests.exceptions.RequestException as e:\n",
    "        print(f\"Errore nella richiesta HTTP: {e}\")\n",
    "        return None"
   ]
  },
  {
   "cell_type": "code",
   "execution_count": null,
   "id": "758b1727-1919-42cb-928b-8c810244f407",
   "metadata": {},
   "outputs": [],
   "source": [
    "artists = get_artist_related(access_token, artist_data['ID'])\n",
    "\n",
    "artists_data = pd.DataFrame([{\n",
    "    'Nome' : artist[\"name\"],\n",
    "    'ID': artist['id'],\n",
    "    'Genere': artist['genres'][0],\n",
    "    'Popolarità': artist['popularity'],\n",
    "    'Followers' : artist[\"followers\"][\"total\"],\n",
    "    'Spotify URL': artist['external_urls']['spotify'],\n",
    "    \"Immagine\": artist[\"images\"][0][\"url\"]\n",
    "} for artist in artists])\n",
    "\n",
    "artists_data_frame = pd.DataFrame(artists_data)\n",
    "artists_data_frame['Spotify URL'] = artists_data_frame['Spotify URL'].apply(make_clickable)\n",
    "artists_data_frame['Immagine'] = artists_data_frame['Immagine'].apply(display_image)\n",
    "artists_data_frame = artists_data_frame.sort_values(by='Followers',ascending=False)\n",
    "artists_data_frame = artists_data_frame.reset_index(drop=True)\n",
    "\n",
    "print(f'Artisti correlati:\\n')\n",
    "display(HTML(artists_data_frame.to_html(escape=False)))"
   ]
  },
  {
   "cell_type": "markdown",
   "id": "b01197df-421f-4d28-b859-dae9cf788ff6",
   "metadata": {},
   "source": [
    "Utilizzando gli <strong>ID</strong> delle singole canzoni, è possibile recuperare integralmente i dettagli di ciascun brano.<br>\n",
    "Siamo interessati a :\n",
    "- Titolo\n",
    "- ID\n",
    "- Durata\n",
    "- Data di rilascio\n",
    "- Popolarità\n",
    "- Spotify URL\n",
    "- Titolo dell'album di appartenenza\n",
    "- Copertina dell'album di appartenenza"
   ]
  },
  {
   "cell_type": "code",
   "execution_count": null,
   "id": "0703d501-64c9-4fde-8a3c-4f4a0b63c93f",
   "metadata": {},
   "outputs": [],
   "source": [
    "def get_track_details(access_token, track_id):\n",
    "    url = f'https://api.spotify.com/v1/tracks/{track_id}'\n",
    "    headers = {\n",
    "        'Authorization': f'Bearer {access_token}'\n",
    "    }\n",
    "\n",
    "    try:\n",
    "        response = requests.get(url, headers=headers)\n",
    "        response.raise_for_status()  # Solleva un'eccezione se la richiesta HTTP non ha successo\n",
    "        track_data = response.json()\n",
    "        return track_data\n",
    "\n",
    "    except requests.exceptions.RequestException as e:\n",
    "        raise Exception(f\"Errore nella richiesta HTTP: {e}\")"
   ]
  },
  {
   "cell_type": "code",
   "execution_count": null,
   "id": "856defad-bcff-43ce-ac37-2251df2e446b",
   "metadata": {},
   "outputs": [],
   "source": [
    "track_name = \"Mercurio\"\n",
    "track_id = discography_data_frame.loc[discography_data_frame['Titolo'] == track_name, 'ID'].values[0]\n",
    "\n",
    "track_details = get_track_details(access_token, track_id)\n",
    "\n",
    "track_data_frame = pd.DataFrame({\n",
    "    'Titolo': [track_details['name']],\n",
    "    'ID': [track_details['id']],\n",
    "    'Durata': [convert_duration(track_details['duration_ms'])],  # Applica la conversione della durata\n",
    "    'Data di rilascio': [track_details['album']['release_date']],\n",
    "    'Popolarità': [track_details['popularity']],\n",
    "    'Spotify URL': [extract_spotify_url(track_details['external_urls'])],\n",
    "    'Album': [track_details['album']['name']],\n",
    "    'Copertina': [track_details['album']['images'][0]['url']]\n",
    "})\n",
    "\n",
    "track_data_frame['Spotify URL'] = track_data_frame['Spotify URL'].apply(make_clickable)\n",
    "track_data_frame['Copertina'] = track_data_frame['Copertina'].apply(display_image)\n",
    "\n",
    "print(f'Traccia {track_name}:\\n')\n",
    "HTML(track_data_frame.to_html(escape=False))"
   ]
  },
  {
   "cell_type": "markdown",
   "id": "4ef0c2b9-0358-41f4-9e59-73936e616fd6",
   "metadata": {},
   "source": [
    "Statistiche."
   ]
  },
  {
   "cell_type": "code",
   "execution_count": null,
   "id": "da035ca5-306b-4663-b679-2fd28a22f347",
   "metadata": {},
   "outputs": [],
   "source": [
    "import urllib.parse\n",
    "import secrets\n",
    "from datetime import datetime\n",
    "import webbrowser\n",
    "\n",
    "# Definizione delle costanti\n",
    "REDIRECT_URI = \"http://localhost:5000/callback\"\n",
    "TOKEN_URL = \"https://accounts.spotify.com/api/token\"\n",
    "AUTH_URL = \"https://accounts.spotify.com/authorize\"\n",
    "API_BASE_URL = \"https://api.spotify.com/v1/\"\n",
    "\n",
    "# Generazione di uno stato sicuro\n",
    "state = secrets.token_urlsafe(16)\n",
    "\n",
    "# Definizione dello scope\n",
    "scope = 'user-read-private user-top-read user-read-email user-follow-read playlist-modify-private playlist-modify-public user-follow-modify user-library-read'\n",
    "\n",
    "# Costruzione dei parametri per l'autorizzazione\n",
    "auth_params = {\n",
    "    'client_id': client_id,\n",
    "    'response_type': 'code',\n",
    "    'scope': scope,\n",
    "    'redirect_uri': REDIRECT_URI,\n",
    "    'show_dialog': True,\n",
    "    'state': state\n",
    "}\n",
    "\n",
    "# Costruzione dell'URL di autorizzazione\n",
    "auth_url = f\"{AUTH_URL}?{urllib.parse.urlencode(auth_params)}\"\n",
    "\n",
    "# Apertura automatica dell'URL nel browser\n",
    "webbrowser.open(auth_url, new=2)\n",
    "\n",
    "# Stampa di un messaggio informativo\n",
    "print(f'Si aprirà una finestra del browser. Dopo aver autorizzato l\\'app, copia l\\'URL della pagina ed incollalo qui di seguito.')\n",
    "\n",
    "# Ricezione dell'URL di callback in modo automatico\n",
    "callback_url = input(\"Incolla l'URL della pagina qui: \")\n",
    "url_components = urllib.parse.urlparse(callback_url)\n",
    "query_params = urllib.parse.parse_qs(url_components.query)\n",
    "\n",
    "# Rimuovi il messaggio informativo sulla finestra del browser\n",
    "print('\\033[F\\033[F\\033[F\\033[F\\033[F\\033[F\\033[F')\n",
    "\n",
    "# Estrazione del codice di autorizzazione dalla risposta di callback\n",
    "authorization_code = query_params.get('code')\n",
    "\n",
    "# Costruzione del corpo della richiesta per ottenere il token di accesso\n",
    "token_request_body = {\n",
    "    'code': authorization_code,\n",
    "    'grant_type': 'authorization_code',\n",
    "    'redirect_uri': REDIRECT_URI,\n",
    "    'client_id': client_id,\n",
    "    'client_secret': client_secret\n",
    "}\n",
    "\n",
    "# Richiesta del token di accesso\n",
    "token_response = requests.post(TOKEN_URL, data=token_request_body)\n",
    "token_info = token_response.json()\n",
    "\n",
    "# Estrazione delle informazioni dal token di accesso\n",
    "access_token = token_info.get('access_token')\n",
    "refresh_token = token_info.get('refresh_token')\n",
    "expires_at = datetime.now().timestamp() + token_info.get('expires_in', 3600)\n",
    "\n",
    "# Creazione dell'header di autorizzazione per le future richieste all'API di Spotify\n",
    "headers = {\n",
    "    'Authorization': f'Bearer {access_token}'\n",
    "}"
   ]
  },
  {
   "cell_type": "markdown",
   "id": "e3497604-52d5-47e6-a232-33f530f1b25f",
   "metadata": {},
   "source": [
    "Dopo aver eseguito l'autenticazione secondo le regole definite dal protocollo Oauth, sarà possibile accedere a molte altre funzionalità predisposte dalle API di Spotify. Iniziamo dall'ottenere banalmente il profilo dell'utente che si è autenticato, otterremo informazioni come :\n",
    "- Nome\n",
    "- ID\n",
    "- E-mail\n",
    "- Paese\n",
    "- Followers"
   ]
  },
  {
   "cell_type": "code",
   "execution_count": null,
   "id": "edd315a0-3f93-457a-a867-98bb81571c28",
   "metadata": {},
   "outputs": [],
   "source": [
    "def get_current_user_profile(access_token):\n",
    "    url = 'https://api.spotify.com/v1/me'\n",
    "    \n",
    "    headers = {\n",
    "        'Authorization': f'Bearer {access_token}'\n",
    "    }\n",
    "\n",
    "    try:\n",
    "        response = requests.get(url, headers=headers)\n",
    "        response.raise_for_status()  # Solleva un'eccezione se la richiesta HTTP non ha successo\n",
    "\n",
    "        user_data = response.json()\n",
    "        return user_data\n",
    "\n",
    "    except requests.exceptions.HTTPError as e:\n",
    "        # Dettagli specifici sull'errore\n",
    "        if response.status_code == 401:\n",
    "            raise Exception(\"Accesso non autorizzato. L'access token potrebbe essere scaduto o non valido.\")\n",
    "        else:\n",
    "            raise Exception(f\"Errore nella richiesta HTTP: {e}\")\n",
    "    except requests.exceptions.RequestException as e:\n",
    "        raise Exception(f\"Errore nella richiesta HTTP: {e}\")"
   ]
  },
  {
   "cell_type": "code",
   "execution_count": null,
   "id": "4f4f7ddd-2426-42b3-9621-2cca4142a361",
   "metadata": {},
   "outputs": [],
   "source": [
    "user_details = get_current_user_profile(access_token)\n",
    "\n",
    "user_data = {\n",
    "    'Nome': user_details.get('display_name', ''),\n",
    "    'ID': user_details.get('id', ''),\n",
    "    'E-mail': user_details.get('email', ''),\n",
    "    'Paese': user_details.get('country', ''),\n",
    "    'Followers': user_details.get('followers', {}).get('total', 0),\n",
    "    'Spotify URL': extract_spotify_url(user_details.get('external_urls', {}))\n",
    "}\n",
    "\n",
    "user_data_frame = pd.DataFrame([user_data], columns=['Nome', 'ID', 'E-mail', 'Paese', 'Followers', 'Spotify URL'])\n",
    "user_data_frame['Spotify URL'] = user_data_frame['Spotify URL'].apply(make_clickable)\n",
    "\n",
    "print(f'Utente corrente:\\n')\n",
    "HTML(user_data_frame.to_html(escape=False))"
   ]
  },
  {
   "cell_type": "markdown",
   "id": "dba7e1df-ae5a-4c94-96e1-750e05dd45d4",
   "metadata": {},
   "source": [
    "Una funzione un attimo più complessa potrebbe prevedere l'uso delle API di Spotify per l'ottenimento delle informazioni sulle playlists  seguite o create dall'utente. Siamo interessati a :\n",
    "- Nome\n",
    "- ID\n",
    "- Spotify URL\n",
    "- Numero di tracce\n",
    "- Proprietario\n",
    "- Descrizione\n",
    "- Copertina"
   ]
  },
  {
   "cell_type": "code",
   "execution_count": null,
   "id": "724b1b6a-c765-4b3f-85f5-2d76a0ca22d7",
   "metadata": {},
   "outputs": [],
   "source": [
    "def get_user_playlists(access_token, user_id):\n",
    "    url = f'https://api.spotify.com/v1/users/{user_id}/playlists'\n",
    "    headers = {\n",
    "        'Authorization': f'Bearer {access_token}'\n",
    "    }\n",
    "\n",
    "    try:\n",
    "        response = requests.get(url, headers=headers)\n",
    "        response.raise_for_status()  # Solleva un'eccezione se la richiesta HTTP non ha successo\n",
    "        playlists_data = response.json()\n",
    "        return playlists_data\n",
    "\n",
    "    except requests.exceptions.RequestException as e:\n",
    "        raise Exception(f\"Errore nella richiesta HTTP: {e}\")"
   ]
  },
  {
   "cell_type": "code",
   "execution_count": null,
   "id": "84ccfb4b-273e-429a-b5e6-c46d5baecefd",
   "metadata": {},
   "outputs": [],
   "source": [
    "playlists_data = get_user_playlists(access_token, user_data_frame['ID'][0])\n",
    "\n",
    "playlists = []\n",
    "for playlist in playlists_data['items']:\n",
    "    playlist_data = {\n",
    "        'Titolo': playlist['name'],\n",
    "        'ID': playlist['id'],\n",
    "        'Spotify URL': playlist['external_urls']['spotify'],\n",
    "        'No. Tracce': playlist['tracks']['total'],\n",
    "        'Proprietario': playlist['owner']['display_name'],\n",
    "        'Descrizione': playlist['description'] if playlist['description'] != '' else 'Nessuna descrizione',\n",
    "        'Copertina': playlist['images'][0]['url'] if playlist['images'] else None\n",
    "    }\n",
    "    playlists.append(playlist_data)\n",
    "playlist_data_frame = pd.DataFrame(playlists)\n",
    "\n",
    "playlist_data_frame = playlist_data_frame.sort_values(by='No. Tracce', ascending=False)\n",
    "playlist_data_frame = playlist_data_frame.reset_index(drop=True)\n",
    "\n",
    "playlist_data_frame['Spotify URL'] = playlist_data_frame['Spotify URL'].apply(make_clickable)\n",
    "playlist_data_frame['Copertina'] = playlist_data_frame['Copertina'].apply(display_image)\n",
    "\n",
    "user_name = user_data_frame['Nome'][0]\n",
    "print(f'Playlist create o seguite dall\\'utente {user_name}:\\n')\n",
    "HTML(playlist_data_frame.to_html(escape=False))"
   ]
  },
  {
   "cell_type": "markdown",
   "id": "5ef08a54-ac02-47e7-b5aa-f6c80a63bb01",
   "metadata": {},
   "source": [
    "Possiamo definire anche una funzione che data una playlist fornisca quali sono i brani che la compongono. <br>Ci fermeremo ad ottenere i soli <strong>ID</strong> dei brani ed utilizzando la funzione scritta in precedenza possiamo ottenere i dettagli di tutte le tracce."
   ]
  },
  {
   "cell_type": "code",
   "execution_count": null,
   "id": "a336fee1-9ab0-43fe-a491-133124ebb3bb",
   "metadata": {},
   "outputs": [],
   "source": [
    "def get_playlist_track_ids(access_token, playlist_id):\n",
    "    url = f'https://api.spotify.com/v1/playlists/{playlist_id}/tracks'\n",
    "    headers = {\n",
    "        'Authorization': f'Bearer {access_token}'\n",
    "    }\n",
    "\n",
    "    try:\n",
    "        response = requests.get(url, headers=headers)\n",
    "        response.raise_for_status()\n",
    "        playlist_tracks_data = response.json()\n",
    "        track_ids = [track['track']['id'] for track in playlist_tracks_data['items']]\n",
    "        return track_ids\n",
    "\n",
    "    except requests.exceptions.RequestException as e:\n",
    "        raise Exception(f\"Errore nella richiesta HTTP: {e}\")"
   ]
  },
  {
   "cell_type": "code",
   "execution_count": null,
   "id": "56c8c6ee-3d86-4f5a-ae44-d05d698654cc",
   "metadata": {},
   "outputs": [],
   "source": [
    "playlist_name = playlist_data_frame['Titolo'][0]\n",
    "playlist_id = playlist_data_frame['ID'][0]\n",
    "playlist_track_ids = get_playlist_track_ids(access_token, playlist_id)\n",
    "\n",
    "tracks_data = []\n",
    "for track_id in playlist_track_ids:\n",
    "    track_details = get_track_details(access_token, track_id)\n",
    "    tracks_data.append({\n",
    "        'Titolo': track_details['name'],\n",
    "        'ID': track_details['id'],\n",
    "        'Durata': convert_duration(track_details['duration_ms']),\n",
    "        'Data di rilascio': track_details['album']['release_date'],\n",
    "        'Popolarità': track_details['popularity'],\n",
    "        'Spotify URL': extract_spotify_url(track_details['external_urls']),\n",
    "        'Album': track_details['album']['name'],\n",
    "        'Copertina': track_details['album']['images'][0]['url']\n",
    "    })\n",
    "\n",
    "tracks_data_frame = pd.DataFrame(tracks_data)\n",
    "tracks_data_frame['Spotify URL'] = tracks_data_frame['Spotify URL'].apply(make_clickable)\n",
    "tracks_data_frame['Copertina'] = tracks_data_frame['Copertina'].apply(display_image)\n",
    "\n",
    "print(f'Tutti i brani della playlist {playlist_name} sono:\\n')\n",
    "HTML(tracks_data_frame.to_html(escape=False))"
   ]
  },
  {
   "cell_type": "markdown",
   "id": "8d693ca0-4e63-43f4-8d5a-8db1c387855b",
   "metadata": {},
   "source": [
    "<section id=\"estrazione-dati-e-analisi\">\n",
    "    <h2>7. Estrazione dati e analisi</h2>\n",
    "</section>"
   ]
  },
  {
   "cell_type": "markdown",
   "id": "a4988891-9350-44bf-983f-29290d10c603",
   "metadata": {},
   "source": [
    "Iniziamo ora la sezione dedicata all'estrazione e all'analisi dei dati. Utilizzeremo librerie Python specializzate come <strong>Matplotlib</strong> e <strong>NumPy</strong> per semplificare il processo di creazione dei grafici. Useremo anche il modulo <strong>Seaborn</strong> per migliorare l'estetica dei grafici."
   ]
  },
  {
   "cell_type": "code",
   "execution_count": 8,
   "id": "a7984614-5df6-448c-a2e1-00278a21d48b",
   "metadata": {},
   "outputs": [],
   "source": [
    "import matplotlib.pyplot as plt\n",
    "import numpy as np\n",
    "import seaborn as sns"
   ]
  },
  {
   "cell_type": "markdown",
   "id": "58ea8dd6-764a-4b5a-8906-4eb3ba13629b",
   "metadata": {},
   "source": [
    "Iniziamo questa sezione con un'analisi intrigante: la popolarità di un artista non segue necessariamente il numero di followers. Il grafico seguente mette in evidenza questo aspetto non scontato, mostrando un dettaglio interessante. <br>\n",
    "Si osserva che artisti con un livello di popolarità più elevato possono avere meno followers rispetto a colleghi con un indice di popolarità notevolmente inferiore. <br>\n",
    "Questo scenario sfida l'aspettativa comune e apre la strada a una riflessione più approfondita sulla dinamica tra popolarità e seguaci degli artisti."
   ]
  },
  {
   "cell_type": "code",
   "execution_count": null,
   "id": "0de5fe13-acc1-4210-aa76-b690a793471d",
   "metadata": {},
   "outputs": [],
   "source": [
    "import pandas as pd\n",
    "\n",
    "sns.set_style(\"whitegrid\")\n",
    "\n",
    "# Creiamo un barplot della popolarità e del numero di followers degli artisti correlati\n",
    "plt.figure(figsize=(12, 8))\n",
    "bar_width = 0.35\n",
    "\n",
    "# Posizioni delle barre sull'asse x\n",
    "r1 = range(len(artists_data_frame))\n",
    "r2 = [x + bar_width for x in r1]\n",
    "\n",
    "# Barre per la popolarità\n",
    "plt.bar(r1, artists_data_frame['Popolarità'], color='skyblue', width=bar_width, edgecolor='grey', label='Popolarità')\n",
    "\n",
    "# Barre per il numero di followers\n",
    "plt.bar(r2, artists_data_frame['Followers']/10000, color='orange', width=bar_width, edgecolor='grey', label='Followers (10K)')\n",
    "\n",
    "# Etichette con i valori di popolarità su ogni barra (troncati alla parte intera)\n",
    "for i, popularity in enumerate(artists_data_frame['Popolarità']):\n",
    "    plt.text(i, int(popularity), f'{int(popularity)}', ha='center', va='bottom', fontsize=10, color='black')\n",
    "\n",
    "# Etichette con i valori di followers su ogni barra (troncati alla parte intera e in formato 10K)\n",
    "for i, followers in enumerate(artists_data_frame['Followers']):\n",
    "    plt.text(i + bar_width, followers/10000, f'{followers/1000:.0f}', ha='center', va='bottom', fontsize=10, color='black')\n",
    "\n",
    "# Personalizziamo l'aspetto del grafico\n",
    "plt.xticks([r + bar_width / 2 for r in range(len(artists_data_frame))], artists_data_frame['Nome'], rotation=45, ha='right')\n",
    "plt.xlabel('Artista')\n",
    "plt.ylabel('Valori Non Normalizzati')  # Modificato il testo per riflettere la rimozione della normalizzazione\n",
    "plt.title('Popolarità e Followers degli Artisti Correlati')\n",
    "plt.legend()\n",
    "\n",
    "# Aggiungi etichette agli assi\n",
    "plt.xlabel('Artista')\n",
    "plt.ylabel('Popolarità e Followers (10K)')\n",
    "\n",
    "plt.tight_layout()\n",
    "plt.show()"
   ]
  },
  {
   "cell_type": "code",
   "execution_count": 11,
   "id": "aa074cb6-ac5b-4727-bfae-79f2484e1469",
   "metadata": {},
   "outputs": [
    {
     "name": "stderr",
     "output_type": "stream",
     "text": [
      "Processing artists:   0%|                                                                  | 0/1000 [00:00<?, ?artist/s]\n"
     ]
    },
    {
     "ename": "NameError",
     "evalue": "name 'access_token' is not defined",
     "output_type": "error",
     "traceback": [
      "\u001b[0;31m---------------------------------------------------------------------------\u001b[0m",
      "\u001b[0;31mNameError\u001b[0m                                 Traceback (most recent call last)",
      "\u001b[0;32m/tmp/ipykernel_11385/2894591653.py\u001b[0m in \u001b[0;36m<module>\u001b[0;34m\u001b[0m\n\u001b[1;32m      8\u001b[0m \u001b[0;31m# Usa tqdm per monitorare l'avanzamento del ciclo\u001b[0m\u001b[0;34m\u001b[0m\u001b[0;34m\u001b[0m\u001b[0m\n\u001b[1;32m      9\u001b[0m \u001b[0;32mfor\u001b[0m \u001b[0martist_name\u001b[0m \u001b[0;32min\u001b[0m \u001b[0mtqdm\u001b[0m\u001b[0;34m(\u001b[0m\u001b[0mnational_artist_names\u001b[0m\u001b[0;34m,\u001b[0m \u001b[0mdesc\u001b[0m\u001b[0;34m=\u001b[0m\u001b[0;34m'Processing artists'\u001b[0m\u001b[0;34m,\u001b[0m \u001b[0munit\u001b[0m\u001b[0;34m=\u001b[0m\u001b[0;34m'artist'\u001b[0m\u001b[0;34m)\u001b[0m\u001b[0;34m:\u001b[0m\u001b[0;34m\u001b[0m\u001b[0;34m\u001b[0m\u001b[0m\n\u001b[0;32m---> 10\u001b[0;31m     \u001b[0martist\u001b[0m \u001b[0;34m=\u001b[0m \u001b[0msearch_artist\u001b[0m\u001b[0;34m(\u001b[0m\u001b[0maccess_token\u001b[0m\u001b[0;34m,\u001b[0m \u001b[0martist_name\u001b[0m\u001b[0;34m)\u001b[0m\u001b[0;34m\u001b[0m\u001b[0;34m\u001b[0m\u001b[0m\n\u001b[0m\u001b[1;32m     11\u001b[0m \u001b[0;34m\u001b[0m\u001b[0m\n\u001b[1;32m     12\u001b[0m     artist_data = {\n",
      "\u001b[0;31mNameError\u001b[0m: name 'access_token' is not defined"
     ]
    }
   ],
   "source": [
    "from tqdm import tqdm\n",
    "\n",
    "with open('artist_names.txt', 'r') as file:\n",
    "    national_artist_names = [line.strip() for line in file]\n",
    "\n",
    "artists_data = []\n",
    "\n",
    "# Usa tqdm per monitorare l'avanzamento del ciclo\n",
    "for artist_name in tqdm(national_artist_names, desc='Processing artists', unit='artist'):\n",
    "    artist = search_artist(access_token, artist_name)\n",
    "    \n",
    "    artist_data = {\n",
    "        \"Nome\": artist[\"name\"],\n",
    "        \"ID\": artist[\"id\"],\n",
    "        \"Genere\": artist[\"genres\"][0] if artist[\"genres\"] else None,\n",
    "        \"Popolarità\": artist[\"popularity\"],\n",
    "        \"Followers\": artist[\"followers\"][\"total\"],\n",
    "        \"Spotify URL\": artist[\"external_urls\"][\"spotify\"]\n",
    "    }\n",
    "    \n",
    "    artists_data.append(artist_data)\n",
    "\n",
    "national_artists_data_frame = pd.DataFrame(artists_data)\n",
    "national_artists_data_frame['Spotify URL'] = national_artists_data_frame['Spotify URL'].apply(extract_href)\n",
    "national_artists_data_frame['Spotify URL'] = national_artists_data_frame['Spotify URL'].apply(make_clickable)\n",
    "display(HTML(national_artists_data_frame.to_html(escape=False)))\n",
    "\n",
    "national_artists_data_frame"
   ]
  },
  {
   "cell_type": "code",
   "execution_count": null,
   "id": "158a38ad-4400-40e5-883c-df735776fadf",
   "metadata": {},
   "outputs": [],
   "source": [
    "sns.set_style(\"whitegrid\")\n",
    "\n",
    "plt.figure(figsize=(12, 8))\n",
    "\n",
    "plt.scatter(national_artists_data_frame['Popolarità'], national_artists_data_frame['Followers']/10000, color='skyblue', label='Popolarità', s=100)\n",
    "\n",
    "for i, popularity in enumerate(national_artists_data_frame['Popolarità']):\n",
    "    plt.text(popularity, national_artists_data_frame['Followers'].iloc[i]/10000, '', ha='center', va='bottom', fontsize=10, color='black')\n",
    "\n",
    "plt.xlabel('Popolarità')\n",
    "plt.ylabel('Followers (10K)')\n",
    "plt.title('Popolarità e Followers degli Artisti Correlati')\n",
    "plt.legend()\n",
    "\n",
    "plt.tight_layout()\n",
    "plt.show()"
   ]
  },
  {
   "cell_type": "code",
   "execution_count": null,
   "id": "ce9710bb-67a4-462b-8244-bd32e08db1d2",
   "metadata": {},
   "outputs": [],
   "source": []
  },
  {
   "cell_type": "code",
   "execution_count": null,
   "id": "5fff1d31-1797-4346-a037-b02fa22848fc",
   "metadata": {},
   "outputs": [],
   "source": []
  },
  {
   "cell_type": "code",
   "execution_count": null,
   "id": "aeb047b0-4780-42c6-a509-5599ab2d8bb9",
   "metadata": {},
   "outputs": [],
   "source": []
  },
  {
   "cell_type": "code",
   "execution_count": null,
   "id": "94c81f92-dd8c-4df6-bf8c-0c14ae10b906",
   "metadata": {},
   "outputs": [],
   "source": []
  },
  {
   "cell_type": "code",
   "execution_count": null,
   "id": "7fc21f77-9a1f-418d-914f-bf8e13e13d35",
   "metadata": {},
   "outputs": [],
   "source": []
  },
  {
   "cell_type": "markdown",
   "id": "52d37a9f-ed79-4107-b7ad-cd69cfc85046",
   "metadata": {},
   "source": [
    "<section id=\"conclusione\">\n",
    "    <h2>8. Conclusione</h2>\n",
    "</section>"
   ]
  },
  {
   "cell_type": "code",
   "execution_count": null,
   "id": "5fb12b38-447d-46d6-84f3-b5f6325cd2d7",
   "metadata": {},
   "outputs": [],
   "source": []
  }
 ],
 "metadata": {
  "kernelspec": {
   "display_name": "Python 3 (ipykernel)",
   "language": "python",
   "name": "python3"
  },
  "language_info": {
   "codemirror_mode": {
    "name": "ipython",
    "version": 3
   },
   "file_extension": ".py",
   "mimetype": "text/x-python",
   "name": "python",
   "nbconvert_exporter": "python",
   "pygments_lexer": "ipython3",
   "version": "3.10.12"
  }
 },
 "nbformat": 4,
 "nbformat_minor": 5
}
