{
 "cells": [
  {
   "cell_type": "markdown",
   "id": "bf3f5e78-2ed7-4fe7-8fd4-8949201cd22c",
   "metadata": {},
   "source": [
    "# Test analysis e KNN"
   ]
  },
  {
   "cell_type": "markdown",
   "id": "039694b6-f7a3-4446-a906-1a278b5a7160",
   "metadata": {},
   "source": [
    "The basic element of an NLP pipeline:\n",
    "- Word tokenization;\n",
    "- Identifying stop words;\n",
    "- Stemming;\n",
    "- Lemmatization;\n",
    "- POS tagging;\n",
    "- NER tagging;\n",
    "- Sentence segmentation.\n",
    "- The Bag Of Words (BOW) representation;\n",
    "- Text classificaiton."
   ]
  },
  {
   "cell_type": "markdown",
   "id": "6585b5a4-f233-4c7e-97c2-e2ca16222e1c",
   "metadata": {},
   "source": [
    "### 1. Text processing Base"
   ]
  },
  {
   "cell_type": "code",
   "execution_count": 1,
   "id": "80e83cc6-0282-4f28-bfeb-7f1b39e38d5e",
   "metadata": {},
   "outputs": [
    {
     "name": "stdout",
     "output_type": "stream",
     "text": [
      "Let's go to N.Y.!\n",
      "{'go', '!', 'to'}\n"
     ]
    }
   ],
   "source": [
    "import spacy\n",
    "\n",
    "nlp = spacy.load('en_core_web_sm')\n",
    "\n",
    "words = [t.text for t in nlp.vocab]\n",
    "\n",
    "doc = nlp(\"Let's go to N.Y.!\") # aggiorna anche le parole in nlp\n",
    "print(doc)\n",
    "\n",
    "words2 = [t.text for t in nlp.vocab]\n",
    "print(set(words2) - set(words)) # stampa le parole che sono state aggiunte durante il processing"
   ]
  },
  {
   "cell_type": "markdown",
   "id": "661bd65f-3c61-46f0-82e8-c33a35a38f11",
   "metadata": {},
   "source": [
    "### 1.1 Tokenization"
   ]
  },
  {
   "cell_type": "code",
   "execution_count": 2,
   "id": "2ca0b592-6365-40ca-a1f2-b2d8d87e84ec",
   "metadata": {},
   "outputs": [
    {
     "name": "stdout",
     "output_type": "stream",
     "text": [
      "Token 1 -> Let\n",
      "Token 2 -> 's\n",
      "Token 3 -> go\n",
      "Token 4 -> to\n",
      "Token 5 -> N.Y.\n",
      "Token 6 -> !\n"
     ]
    }
   ],
   "source": [
    "for i,token in enumerate(doc):\n",
    "    print(f'Token {i+1} -> {token}')"
   ]
  },
  {
   "cell_type": "markdown",
   "id": "3bfe15d4-2f35-4314-843c-35c76660b183",
   "metadata": {},
   "source": [
    "### 1.2 Stemming"
   ]
  },
  {
   "cell_type": "code",
   "execution_count": 3,
   "id": "456899c2-230b-42fb-bff3-cf21bf56088b",
   "metadata": {},
   "outputs": [
    {
     "name": "stdout",
     "output_type": "stream",
     "text": [
      "go -> go\n",
      "goes -> goe\n",
      "went -> went\n",
      "wish -> wish\n",
      "wishes -> wish\n",
      "wished -> wish\n",
      "runner -> runner\n",
      "ran -> ran\n",
      "running -> run\n"
     ]
    }
   ],
   "source": [
    "import nltk\n",
    "from nltk.stem.porter import *\n",
    "\n",
    "p_stemmer = PorterStemmer()\n",
    "words = ['go', 'goes', 'went', 'wish', 'wishes', 'wished', 'runner', 'ran', 'running']\n",
    "\n",
    "for w in words:\n",
    "    print(f\"{w} -> {p_stemmer.stem(w)}\")"
   ]
  },
  {
   "cell_type": "markdown",
   "id": "f9c8dfec-9c0c-4462-8ebb-52b3df1409e8",
   "metadata": {},
   "source": [
    "### 1.3 Lemmatization"
   ]
  },
  {
   "cell_type": "code",
   "execution_count": 4,
   "id": "9c22b30f-9db0-4e9a-beb1-199e0b6b176a",
   "metadata": {
    "scrolled": true
   },
   "outputs": [
    {
     "name": "stdout",
     "output_type": "stream",
     "text": [
      "I -> I\n",
      "will -> will\n",
      "meet -> meet\n",
      "you -> you\n",
      "in -> in\n",
      "the -> the\n",
      "meeting -> meeting\n",
      "after -> after\n",
      "meeting -> meet\n",
      "the -> the\n",
      "runner -> runner\n",
      "when -> when\n",
      "running -> run\n",
      ". -> .\n"
     ]
    }
   ],
   "source": [
    "doc = nlp(\"I will meet you in the meeting after meeting the runner when running.\")\n",
    "for token in doc:\n",
    "    print(f\"{token.text} -> {token.lemma_}\")"
   ]
  },
  {
   "cell_type": "markdown",
   "id": "1bc4617b-a089-442b-9171-92a86fc8196d",
   "metadata": {},
   "source": [
    "### 1.4 Stop Words"
   ]
  },
  {
   "cell_type": "code",
   "execution_count": 5,
   "id": "d8653ea1-efdd-43a3-8dda-11e73489d12a",
   "metadata": {},
   "outputs": [
    {
     "name": "stdout",
     "output_type": "stream",
     "text": [
      "['she', 'through', 'make', 'a', 'call', 'among', 'n’t', 'full', 'under', 'we']\n",
      "\n",
      "I -> True\n",
      "will -> True\n",
      "meet -> False\n",
      "you -> True\n",
      "in -> True\n",
      "the -> True\n",
      "meeting -> False\n",
      "after -> True\n",
      "meeting -> False\n",
      "the -> True\n",
      "runner -> False\n",
      "when -> True\n",
      "running -> False\n",
      ". -> False\n",
      "\n",
      "\n"
     ]
    }
   ],
   "source": [
    "print(list(nlp.Defaults.stop_words)[:10], end=\"\\n\\n\") \n",
    "\n",
    "for t in doc:\n",
    "    print(f\"{t.text} -> {t.is_stop}\")\n",
    "print(\"\\n\")"
   ]
  },
  {
   "cell_type": "code",
   "execution_count": 6,
   "id": "70e30078-6947-4f32-a4b9-352486b534d5",
   "metadata": {},
   "outputs": [
    {
     "name": "stdout",
     "output_type": "stream",
     "text": [
      "Is 'go' a stop word now? False\n"
     ]
    }
   ],
   "source": [
    "nlp.Defaults.stop_words.remove('go')  # rimuoviamo 'go' dalle stop words\n",
    "nlp.vocab['go'].is_stop = False\n",
    "outcome = nlp.vocab['go'].is_stop\n",
    "print(f\"Is 'go' a stop word now? {outcome}\")"
   ]
  },
  {
   "cell_type": "code",
   "execution_count": 7,
   "id": "92f63b7f-45b9-4386-9605-d9f4bd063404",
   "metadata": {},
   "outputs": [
    {
     "name": "stdout",
     "output_type": "stream",
     "text": [
      "Is '!' a stop word now? True\n"
     ]
    }
   ],
   "source": [
    "nlp.Defaults.stop_words.add('!') # aggiungo '!' alle stop words\n",
    "nlp.vocab['!'].is_stop = True\n",
    "outcome = nlp.vocab['!'].is_stop\n",
    "print(f\"Is '!' a stop word now? {outcome}\")"
   ]
  },
  {
   "cell_type": "markdown",
   "id": "a079ee79-dbf7-4d63-8579-939f6ab38ecf",
   "metadata": {},
   "source": [
    "### 1.5 Part of Speech (POS) Tagging"
   ]
  },
  {
   "cell_type": "code",
   "execution_count": 8,
   "id": "b411da92-273f-4b6a-9dff-dbde35e6e242",
   "metadata": {},
   "outputs": [
    {
     "name": "stdout",
     "output_type": "stream",
     "text": [
      "\" -> PUNCT\n",
      "Let -> VERB\n",
      "'s -> PRON\n",
      "go -> VERB\n",
      "to -> ADP\n",
      "N.Y. -> PROPN\n",
      "! -> PUNCT\n",
      "\" -> PUNCT\n"
     ]
    }
   ],
   "source": [
    "for t in nlp(\"\\\"Let's go to N.Y.!\\\"\"): \n",
    "    print(f\"{t.text} -> {t.pos_}\")"
   ]
  },
  {
   "cell_type": "code",
   "execution_count": 9,
   "id": "92adfe06-0c14-4359-8e7d-8b5dc4fab789",
   "metadata": {},
   "outputs": [
    {
     "name": "stdout",
     "output_type": "stream",
     "text": [
      "\" -> opening quotation mark\n",
      "Let -> verb, base form\n",
      "'s -> pronoun, personal\n",
      "go -> verb, base form\n",
      "to -> conjunction, subordinating or preposition\n",
      "N.Y. -> noun, proper singular\n",
      "! -> punctuation mark, sentence closer\n",
      "\" -> closing quotation mark\n"
     ]
    }
   ],
   "source": [
    "for t in nlp(\"\\\"Let's go to N.Y.!\\\"\"): # ottengo più dettagli\n",
    "    print(f\"{t.text} -> {spacy.explain(t.tag_)}\")"
   ]
  },
  {
   "cell_type": "markdown",
   "id": "fe03be45-7c4f-4d81-87e6-fadd822c7589",
   "metadata": {},
   "source": [
    "### 1.6 Named Entity Recognition (NER)"
   ]
  },
  {
   "cell_type": "code",
   "execution_count": 10,
   "id": "e50f5b43-b593-4dbe-b17c-6bd3093eab3d",
   "metadata": {},
   "outputs": [
    {
     "name": "stdout",
     "output_type": "stream",
     "text": [
      "Boris Johnson - 380 - PERSON - People, including fictional\n",
      "EU - 383 - ORG - Companies, agencies, institutions, etc.\n",
      "Brexit - 380 - PERSON - People, including fictional\n",
      "this week - 391 - DATE - Absolute or relative dates or periods\n",
      "October 31 - 391 - DATE - Absolute or relative dates or periods\n",
      "- - - - - - - - - - - - - - - - - - - - - - - - - - - - - - - - - - - - - - - - - - - - - - - - - - - - - - - - - - - - - - - - - - - - - - \n"
     ]
    },
    {
     "data": {
      "text/html": [
       "<span class=\"tex2jax_ignore\"><div class=\"entities\" style=\"line-height: 2.5; direction: ltr\">\n",
       "<mark class=\"entity\" style=\"background: #aa9cfc; padding: 0.45em 0.6em; margin: 0 0.25em; line-height: 1; border-radius: 0.35em;\">\n",
       "    Boris Johnson\n",
       "    <span style=\"font-size: 0.8em; font-weight: bold; line-height: 1; border-radius: 0.35em; vertical-align: middle; margin-left: 0.5rem\">PERSON</span>\n",
       "</mark>\n",
       " is to offer \n",
       "<mark class=\"entity\" style=\"background: #7aecec; padding: 0.45em 0.6em; margin: 0 0.25em; line-height: 1; border-radius: 0.35em;\">\n",
       "    EU\n",
       "    <span style=\"font-size: 0.8em; font-weight: bold; line-height: 1; border-radius: 0.35em; vertical-align: middle; margin-left: 0.5rem\">ORG</span>\n",
       "</mark>\n",
       " leaders a historic grand bargain on \n",
       "<mark class=\"entity\" style=\"background: #aa9cfc; padding: 0.45em 0.6em; margin: 0 0.25em; line-height: 1; border-radius: 0.35em;\">\n",
       "    Brexit\n",
       "    <span style=\"font-size: 0.8em; font-weight: bold; line-height: 1; border-radius: 0.35em; vertical-align: middle; margin-left: 0.5rem\">PERSON</span>\n",
       "</mark>\n",
       " — help deliver his new deal \n",
       "<mark class=\"entity\" style=\"background: #bfe1d9; padding: 0.45em 0.6em; margin: 0 0.25em; line-height: 1; border-radius: 0.35em;\">\n",
       "    this week\n",
       "    <span style=\"font-size: 0.8em; font-weight: bold; line-height: 1; border-radius: 0.35em; vertical-align: middle; margin-left: 0.5rem\">DATE</span>\n",
       "</mark>\n",
       " or agree a “no-deal” departure by \n",
       "<mark class=\"entity\" style=\"background: #bfe1d9; padding: 0.45em 0.6em; margin: 0 0.25em; line-height: 1; border-radius: 0.35em;\">\n",
       "    October 31\n",
       "    <span style=\"font-size: 0.8em; font-weight: bold; line-height: 1; border-radius: 0.35em; vertical-align: middle; margin-left: 0.5rem\">DATE</span>\n",
       "</mark>\n",
       ".</div></span>"
      ],
      "text/plain": [
       "<IPython.core.display.HTML object>"
      ]
     },
     "metadata": {},
     "output_type": "display_data"
    }
   ],
   "source": [
    "doc = nlp('Boris Johnson is to offer EU leaders a historic grand bargain on Brexit — help deliver his new deal this week or agree a “no-deal” departure by October 31.')\n",
    "\n",
    "for e in doc.ents:\n",
    "    print(f\"{e.text} - {e.label} - {e.label_} - {spacy.explain(e.label_)}\")\n",
    "    \n",
    "print('- ' * 70)\n",
    "\n",
    "from spacy import displacy\n",
    "displacy.render(doc, style='ent', jupyter=True)"
   ]
  },
  {
   "cell_type": "markdown",
   "id": "2c0a5dd4-825c-49fb-bcfd-6590e86e4c22",
   "metadata": {},
   "source": [
    "### 1.7 Sentence Segmentation"
   ]
  },
  {
   "cell_type": "code",
   "execution_count": 11,
   "id": "a3185d58-1ece-44f0-b538-46b2a29326cc",
   "metadata": {},
   "outputs": [
    {
     "name": "stdout",
     "output_type": "stream",
     "text": [
      "I -> True\n",
      "gave -> False\n",
      "you -> False\n",
      "$ -> False\n",
      "3.5 -> False\n",
      ". -> False\n",
      "Do -> True\n",
      "you -> False\n",
      "remember -> False\n",
      "? -> False\n",
      "Since -> True\n",
      "I -> False\n",
      "owed -> False\n",
      "you -> False\n",
      "$ -> False\n",
      "1.5 -> False\n",
      ", -> False\n",
      "you -> False\n",
      "should -> False\n",
      "now -> False\n",
      "give -> False\n",
      "me -> False\n",
      "2 -> False\n",
      "dollars -> False\n",
      ". -> False\n"
     ]
    }
   ],
   "source": [
    "doc = nlp(\"I gave you $3.5. Do you remember? Since I owed you $1.5, you should now give me 2 dollars.\")\n",
    "list(doc.sents)\n",
    "\n",
    "for t in doc:\n",
    "    print(f\"{t} -> {t.is_sent_start}\")"
   ]
  },
  {
   "cell_type": "markdown",
   "id": "36337d16-7885-4dc3-bcce-b61662269f27",
   "metadata": {},
   "source": [
    "### 2. Bag of Words Representation"
   ]
  },
  {
   "cell_type": "code",
   "execution_count": 12,
   "id": "f3f172b9-4872-4fa3-a2bc-41c4a032e773",
   "metadata": {},
   "outputs": [
    {
     "data": {
      "text/html": [
       "<div>\n",
       "<style scoped>\n",
       "    .dataframe tbody tr th:only-of-type {\n",
       "        vertical-align: middle;\n",
       "    }\n",
       "\n",
       "    .dataframe tbody tr th {\n",
       "        vertical-align: top;\n",
       "    }\n",
       "\n",
       "    .dataframe thead th {\n",
       "        text-align: right;\n",
       "    }\n",
       "</style>\n",
       "<table border=\"1\" class=\"dataframe\">\n",
       "  <thead>\n",
       "    <tr style=\"text-align: right;\">\n",
       "      <th></th>\n",
       "      <th>class</th>\n",
       "      <th>text</th>\n",
       "    </tr>\n",
       "  </thead>\n",
       "  <tbody>\n",
       "    <tr>\n",
       "      <th>0</th>\n",
       "      <td>ham</td>\n",
       "      <td>Go until jurong point, crazy.. Available only ...</td>\n",
       "    </tr>\n",
       "    <tr>\n",
       "      <th>1</th>\n",
       "      <td>ham</td>\n",
       "      <td>Ok lar... Joking wif u oni...</td>\n",
       "    </tr>\n",
       "    <tr>\n",
       "      <th>2</th>\n",
       "      <td>spam</td>\n",
       "      <td>Free entry in 2 a wkly comp to win FA Cup fina...</td>\n",
       "    </tr>\n",
       "    <tr>\n",
       "      <th>3</th>\n",
       "      <td>ham</td>\n",
       "      <td>U dun say so early hor... U c already then say...</td>\n",
       "    </tr>\n",
       "    <tr>\n",
       "      <th>4</th>\n",
       "      <td>ham</td>\n",
       "      <td>Nah I don't think he goes to usf, he lives aro...</td>\n",
       "    </tr>\n",
       "    <tr>\n",
       "      <th>5</th>\n",
       "      <td>spam</td>\n",
       "      <td>FreeMsg Hey there darling it's been 3 week's n...</td>\n",
       "    </tr>\n",
       "    <tr>\n",
       "      <th>6</th>\n",
       "      <td>ham</td>\n",
       "      <td>Even my brother is not like to speak with me. ...</td>\n",
       "    </tr>\n",
       "    <tr>\n",
       "      <th>7</th>\n",
       "      <td>ham</td>\n",
       "      <td>As per your request 'Melle Melle (Oru Minnamin...</td>\n",
       "    </tr>\n",
       "    <tr>\n",
       "      <th>8</th>\n",
       "      <td>spam</td>\n",
       "      <td>WINNER!! As a valued network customer you have...</td>\n",
       "    </tr>\n",
       "    <tr>\n",
       "      <th>9</th>\n",
       "      <td>spam</td>\n",
       "      <td>Had your mobile 11 months or more? U R entitle...</td>\n",
       "    </tr>\n",
       "  </tbody>\n",
       "</table>\n",
       "</div>"
      ],
      "text/plain": [
       "  class                                               text\n",
       "0   ham  Go until jurong point, crazy.. Available only ...\n",
       "1   ham                      Ok lar... Joking wif u oni...\n",
       "2  spam  Free entry in 2 a wkly comp to win FA Cup fina...\n",
       "3   ham  U dun say so early hor... U c already then say...\n",
       "4   ham  Nah I don't think he goes to usf, he lives aro...\n",
       "5  spam  FreeMsg Hey there darling it's been 3 week's n...\n",
       "6   ham  Even my brother is not like to speak with me. ...\n",
       "7   ham  As per your request 'Melle Melle (Oru Minnamin...\n",
       "8  spam  WINNER!! As a valued network customer you have...\n",
       "9  spam  Had your mobile 11 months or more? U R entitle..."
      ]
     },
     "execution_count": 12,
     "metadata": {},
     "output_type": "execute_result"
    }
   ],
   "source": [
    "import pandas as pd\n",
    "\n",
    "#due to the way the CSV file has been saved,\n",
    "#we need to specify the latin-1 encoding\n",
    "\n",
    "spam = pd.read_csv('spam.csv', encoding='latin-1')\n",
    "spam = spam[['v1','v2']]\n",
    "spam = spam.rename(columns ={'v1':'class', 'v2':'text'})\n",
    "spam.head(10)"
   ]
  },
  {
   "cell_type": "code",
   "execution_count": 13,
   "id": "018799f4-d497-4f01-9b4a-8106a8185df6",
   "metadata": {},
   "outputs": [
    {
     "name": "stdout",
     "output_type": "stream",
     "text": [
      "ham --- Go until jurong point, crazy.. Available only in bugis n great world la e buffet... Cine there got amore wat...\n",
      "\n",
      "spam --- XXXMobileMovieClub: To use your credit, click the WAP link in the next txt message or click here>> http://wap. xxxmobilemovieclub.com?n=QJKGIGHJJGCBL\n",
      "\n",
      "ham --- Just forced myself to eat a slice. I'm really not hungry tho. This sucks. Mark is getting worried. He knows I'm sick when I turn down pizza. Lol\n"
     ]
    }
   ],
   "source": [
    "print(spam.iloc[0]['class'], '---', spam.iloc[0]['text'])\n",
    "print()\n",
    "print(spam.iloc[15]['class'], '---', spam.iloc[15]['text'])\n",
    "print()\n",
    "print(spam.iloc[25]['class'], '---', spam.iloc[25]['text'])"
   ]
  },
  {
   "cell_type": "code",
   "execution_count": 14,
   "id": "1e966128-bff7-41e7-aff4-90178dc1adbc",
   "metadata": {},
   "outputs": [
    {
     "data": {
      "image/png": "[encoded data removed]",
      "text/plain": [
       "<Figure size 640x480 with 1 Axes>"
      ]
     },
     "metadata": {},
     "output_type": "display_data"
    }
   ],
   "source": [
    "from sklearn.model_selection import train_test_split\n",
    "import numpy as np\n",
    "\n",
    "#we will set a seed to make sure\n",
    "#that the split is always performed in the same way\n",
    "#this is for instructional purposes only\n",
    "#and it is not generally done when\n",
    "#analyzing data to make sure that the \n",
    "#split is truly random\n",
    "\n",
    "np.random.seed(1234)\n",
    "\n",
    "#let's use 25% of the dataset as test set\n",
    "train_set, test_set = train_test_split(spam, test_size=0.25)\n",
    "\n",
    "from matplotlib import pyplot as plt\n",
    "train_set.groupby('class').count().plot.bar()\n",
    "plt.show()"
   ]
  },
  {
   "cell_type": "markdown",
   "id": "73efdbd0-5588-4b32-a384-3dce71e91778",
   "metadata": {},
   "source": [
    "### 2.1 Tokenizating and counting words with CountVectorizer"
   ]
  },
  {
   "cell_type": "code",
   "execution_count": 15,
   "id": "cf3c5bfb-b5e7-475e-885a-a79fc85ed5c6",
   "metadata": {},
   "outputs": [
    {
     "data": {
      "text/html": [
       "<style>#sk-container-id-1 {color: black;}#sk-container-id-1 pre{padding: 0;}#sk-container-id-1 div.sk-toggleable {background-color: white;}#sk-container-id-1 label.sk-toggleable__label {cursor: pointer;display: block;width: 100%;margin-bottom: 0;padding: 0.3em;box-sizing: border-box;text-align: center;}#sk-container-id-1 label.sk-toggleable__label-arrow:before {content: \"▸\";float: left;margin-right: 0.25em;color: #696969;}#sk-container-id-1 label.sk-toggleable__label-arrow:hover:before {color: black;}#sk-container-id-1 div.sk-estimator:hover label.sk-toggleable__label-arrow:before {color: black;}#sk-container-id-1 div.sk-toggleable__content {max-height: 0;max-width: 0;overflow: hidden;text-align: left;background-color: #f0f8ff;}#sk-container-id-1 div.sk-toggleable__content pre {margin: 0.2em;color: black;border-radius: 0.25em;background-color: #f0f8ff;}#sk-container-id-1 input.sk-toggleable__control:checked~div.sk-toggleable__content {max-height: 200px;max-width: 100%;overflow: auto;}#sk-container-id-1 input.sk-toggleable__control:checked~label.sk-toggleable__label-arrow:before {content: \"▾\";}#sk-container-id-1 div.sk-estimator input.sk-toggleable__control:checked~label.sk-toggleable__label {background-color: #d4ebff;}#sk-container-id-1 div.sk-label input.sk-toggleable__control:checked~label.sk-toggleable__label {background-color: #d4ebff;}#sk-container-id-1 input.sk-hidden--visually {border: 0;clip: rect(1px 1px 1px 1px);clip: rect(1px, 1px, 1px, 1px);height: 1px;margin: -1px;overflow: hidden;padding: 0;position: absolute;width: 1px;}#sk-container-id-1 div.sk-estimator {font-family: monospace;background-color: #f0f8ff;border: 1px dotted black;border-radius: 0.25em;box-sizing: border-box;margin-bottom: 0.5em;}#sk-container-id-1 div.sk-estimator:hover {background-color: #d4ebff;}#sk-container-id-1 div.sk-parallel-item::after {content: \"\";width: 100%;border-bottom: 1px solid gray;flex-grow: 1;}#sk-container-id-1 div.sk-label:hover label.sk-toggleable__label {background-color: #d4ebff;}#sk-container-id-1 div.sk-serial::before {content: \"\";position: absolute;border-left: 1px solid gray;box-sizing: border-box;top: 0;bottom: 0;left: 50%;z-index: 0;}#sk-container-id-1 div.sk-serial {display: flex;flex-direction: column;align-items: center;background-color: white;padding-right: 0.2em;padding-left: 0.2em;position: relative;}#sk-container-id-1 div.sk-item {position: relative;z-index: 1;}#sk-container-id-1 div.sk-parallel {display: flex;align-items: stretch;justify-content: center;background-color: white;position: relative;}#sk-container-id-1 div.sk-item::before, #sk-container-id-1 div.sk-parallel-item::before {content: \"\";position: absolute;border-left: 1px solid gray;box-sizing: border-box;top: 0;bottom: 0;left: 50%;z-index: -1;}#sk-container-id-1 div.sk-parallel-item {display: flex;flex-direction: column;z-index: 1;position: relative;background-color: white;}#sk-container-id-1 div.sk-parallel-item:first-child::after {align-self: flex-end;width: 50%;}#sk-container-id-1 div.sk-parallel-item:last-child::after {align-self: flex-start;width: 50%;}#sk-container-id-1 div.sk-parallel-item:only-child::after {width: 0;}#sk-container-id-1 div.sk-dashed-wrapped {border: 1px dashed gray;margin: 0 0.4em 0.5em 0.4em;box-sizing: border-box;padding-bottom: 0.4em;background-color: white;}#sk-container-id-1 div.sk-label label {font-family: monospace;font-weight: bold;display: inline-block;line-height: 1.2em;}#sk-container-id-1 div.sk-label-container {text-align: center;}#sk-container-id-1 div.sk-container {/* jupyter's `normalize.less` sets `[hidden] { display: none; }` but bootstrap.min.css set `[hidden] { display: none !important; }` so we also need the `!important` here to be able to override the default hidden behavior on the sphinx rendered scikit-learn.org. See: https://github.com/scikit-learn/scikit-learn/issues/21755 */display: inline-block !important;position: relative;}#sk-container-id-1 div.sk-text-repr-fallback {display: none;}</style><div id=\"sk-container-id-1\" class=\"sk-top-container\"><div class=\"sk-text-repr-fallback\"><pre>CountVectorizer()</pre><b>In a Jupyter environment, please rerun this cell to show the HTML representation or trust the notebook. <br />On GitHub, the HTML representation is unable to render, please try loading this page with nbviewer.org.</b></div><div class=\"sk-container\" hidden><div class=\"sk-item\"><div class=\"sk-estimator sk-toggleable\"><input class=\"sk-toggleable__control sk-hidden--visually\" id=\"sk-estimator-id-1\" type=\"checkbox\" checked><label for=\"sk-estimator-id-1\" class=\"sk-toggleable__label sk-toggleable__label-arrow\">CountVectorizer</label><div class=\"sk-toggleable__content\"><pre>CountVectorizer()</pre></div></div></div></div></div>"
      ],
      "text/plain": [
       "CountVectorizer()"
      ]
     },
     "execution_count": 15,
     "metadata": {},
     "output_type": "execute_result"
    }
   ],
   "source": [
    "from sklearn.feature_extraction.text import CountVectorizer\n",
    "\n",
    "count_vect = CountVectorizer()\n",
    "count_vect.fit(['this is', 'a list of', 'short messages']) \n",
    "# addestra count_vect -> conterrà  informazioni sul vocabolario del corpus fornito"
   ]
  },
  {
   "cell_type": "markdown",
   "id": "70c1024b-5fad-47b9-99ef-52d195702943",
   "metadata": {},
   "source": [
    "- Il metodo **'count_vect.vocabulary_'** restituisce il vocabolario appreso dal CountVectorizer durante la fase di addestramento. Questo vocabolario è rappresentato come un dizionario, in cui le chiavi sono le parole uniche nel corpus di testo fornito durante l'addestramento e i valori sono gli indici associati a ciascuna parola nel vettore di conteggio risultante."
   ]
  },
  {
   "cell_type": "code",
   "execution_count": 16,
   "id": "023322bf-724b-4aef-ad52-1d0c4d11e749",
   "metadata": {},
   "outputs": [
    {
     "data": {
      "text/plain": [
       "{'this': 5, 'is': 0, 'list': 1, 'of': 3, 'short': 4, 'messages': 2}"
      ]
     },
     "execution_count": 16,
     "metadata": {},
     "output_type": "execute_result"
    }
   ],
   "source": [
    "count_vect.vocabulary_"
   ]
  },
  {
   "cell_type": "markdown",
   "id": "196910bd-b673-4da3-9c5b-9685a7f47679",
   "metadata": {},
   "source": [
    "- Il metodo **'transform'** di CountVectorizer prende una lista di nuovi testi e li trasforma in vettori di conteggio in base al vocabolario appreso durante l'addestramento. In questo caso, la lista di nuovi testi è ['this is', 'a list of', 'short messages'].\n",
    "  \n",
    "- La chiamata **'todense()'** viene utilizzata per convertire la matrice sparsa ottenuta dalla trasformazione del CountVectorizer in una matrice densa.\n",
    "\n",
    "- La funzione **'fit_transform'** restituisce una matrice sparsa dove ogni riga corrisponde a un documento (o testo) e ogni colonna rappresenta una parola nel vocabolario appreso durante l'addestramento. Gli elementi della matrice indicano il conteggio delle occorrenze di ciascuna parola nei rispettivi documenti."
   ]
  },
  {
   "cell_type": "code",
   "execution_count": 17,
   "id": "cc1b8d90-afcb-40c2-a606-1b9b2225bc77",
   "metadata": {},
   "outputs": [
    {
     "data": {
      "text/plain": [
       "matrix([[1, 0, 0, 0, 0, 1],\n",
       "        [0, 1, 0, 1, 0, 0],\n",
       "        [0, 0, 1, 0, 1, 0]])"
      ]
     },
     "execution_count": 17,
     "metadata": {},
     "output_type": "execute_result"
    }
   ],
   "source": [
    "new_doc = ['this is', 'a list of', 'short messages']\n",
    "features = count_vect.transform(new_doc) # term frequency\n",
    "features = features.todense()\n",
    "features"
   ]
  },
  {
   "cell_type": "code",
   "execution_count": 18,
   "id": "ca3fa6d1-4d21-4096-9386-6de756be92df",
   "metadata": {},
   "outputs": [
    {
     "name": "stdout",
     "output_type": "stream",
     "text": [
      "this is [[1 0 0 0 0 1]]\n",
      "\n"
     ]
    }
   ],
   "source": [
    "print ('this is',features[0], end='\\n\\n')"
   ]
  },
  {
   "cell_type": "code",
   "execution_count": 19,
   "id": "a9a7e645-eb3e-4c1c-b402-8bd196cc5c5b",
   "metadata": {},
   "outputs": [
    {
     "data": {
      "text/plain": [
       "matrix([[1, 0, 0, 0, 0, 1]])"
      ]
     },
     "execution_count": 19,
     "metadata": {},
     "output_type": "execute_result"
    }
   ],
   "source": [
    "features=count_vect.transform(['this is a new message'])\n",
    "features.todense()"
   ]
  },
  {
   "cell_type": "code",
   "execution_count": 20,
   "id": "73af91df-fc65-4c17-a662-f7cd680b2984",
   "metadata": {},
   "outputs": [
    {
     "name": "stdout",
     "output_type": "stream",
     "text": [
      "  (0, 4691)\t1\n",
      "  (0, 857)\t1\n",
      "  (0, 7010)\t1\n",
      "  (0, 7038)\t1\n",
      "  (0, 5016)\t1\n",
      "  (0, 5841)\t1\n",
      "  (1, 3228)\t1\n",
      "  (1, 3341)\t2\n",
      "  (1, 7345)\t2\n",
      "  (1, 888)\t1\n",
      "  (1, 2200)\t1\n",
      "  (1, 5651)\t1\n",
      "  (1, 3002)\t1\n",
      "  (1, 7029)\t1\n",
      "  (1, 3687)\t1\n",
      "  (1, 6484)\t1\n",
      "  (1, 6616)\t3\n",
      "  (1, 5709)\t1\n",
      "  (1, 3420)\t1\n",
      "  (1, 2108)\t1\n",
      "  (1, 2269)\t1\n",
      "  (1, 927)\t2\n",
      "  (1, 6636)\t1\n",
      "  (1, 4603)\t1\n",
      "  (1, 6498)\t1\n",
      "  :\t:\n",
      "  (4176, 4691)\t1\n",
      "  (4177, 6545)\t1\n",
      "  (4177, 3191)\t1\n",
      "  (4177, 2534)\t1\n",
      "  (4177, 4709)\t1\n",
      "  (4177, 7302)\t1\n",
      "  (4177, 1915)\t1\n",
      "  (4177, 6509)\t1\n",
      "  (4177, 3626)\t1\n",
      "  (4178, 7345)\t1\n",
      "  (4178, 3687)\t1\n",
      "  (4178, 3420)\t1\n",
      "  (4178, 4603)\t1\n",
      "  (4178, 3563)\t1\n",
      "  (4178, 3769)\t1\n",
      "  (4178, 7109)\t1\n",
      "  (4178, 6009)\t1\n",
      "  (4178, 3025)\t1\n",
      "  (4178, 5169)\t1\n",
      "  (4178, 6629)\t1\n",
      "  (4178, 5658)\t1\n",
      "  (4178, 1369)\t1\n",
      "  (4178, 3192)\t1\n",
      "  (4178, 2597)\t1\n",
      "  (4178, 4590)\t1\n"
     ]
    }
   ],
   "source": [
    "x_train = count_vect.fit_transform(train_set['text'])\n",
    "print(x_train)\n",
    "# Nella seconda riga (1, 3341) 2 indica che la parola \n",
    "# con indice 3341 appare due volte nel secondo documento."
   ]
  },
  {
   "cell_type": "markdown",
   "id": "7e9fd88d-4e61-4d16-a100-0c41968bce02",
   "metadata": {},
   "source": [
    "# 3. Nearest Neighbor"
   ]
  },
  {
   "cell_type": "code",
   "execution_count": 21,
   "id": "0f140625-cbb5-4281-aed2-fbaf34776172",
   "metadata": {},
   "outputs": [],
   "source": [
    "from sklearn.neighbors import KNeighborsClassifier\n",
    "k = 1\n",
    "knn = KNeighborsClassifier(k) # modello predittivo"
   ]
  },
  {
   "cell_type": "markdown",
   "id": "64f8fa8b-ced5-4ebd-a99b-6387a1ef87c2",
   "metadata": {},
   "source": [
    "- Il metodo 'fit' viene utilizzato per mettere a punto i parametri del classificatore. In questo caso, viene utilizzato per fornire (e memorizzare) l'insieme di addestramento. È necessario fornire sia le caratteristiche di input che le etichette corrispondenti:\n",
    "\n",
    "- La funzione 'prediction' viene utilizzata per classificare un campione;"
   ]
  },
  {
   "cell_type": "code",
   "execution_count": 22,
   "id": "320b173a-aebe-40a2-b714-c7feb10e5b5e",
   "metadata": {},
   "outputs": [
    {
     "data": {
      "text/html": [
       "<style>#sk-container-id-2 {color: black;}#sk-container-id-2 pre{padding: 0;}#sk-container-id-2 div.sk-toggleable {background-color: white;}#sk-container-id-2 label.sk-toggleable__label {cursor: pointer;display: block;width: 100%;margin-bottom: 0;padding: 0.3em;box-sizing: border-box;text-align: center;}#sk-container-id-2 label.sk-toggleable__label-arrow:before {content: \"▸\";float: left;margin-right: 0.25em;color: #696969;}#sk-container-id-2 label.sk-toggleable__label-arrow:hover:before {color: black;}#sk-container-id-2 div.sk-estimator:hover label.sk-toggleable__label-arrow:before {color: black;}#sk-container-id-2 div.sk-toggleable__content {max-height: 0;max-width: 0;overflow: hidden;text-align: left;background-color: #f0f8ff;}#sk-container-id-2 div.sk-toggleable__content pre {margin: 0.2em;color: black;border-radius: 0.25em;background-color: #f0f8ff;}#sk-container-id-2 input.sk-toggleable__control:checked~div.sk-toggleable__content {max-height: 200px;max-width: 100%;overflow: auto;}#sk-container-id-2 input.sk-toggleable__control:checked~label.sk-toggleable__label-arrow:before {content: \"▾\";}#sk-container-id-2 div.sk-estimator input.sk-toggleable__control:checked~label.sk-toggleable__label {background-color: #d4ebff;}#sk-container-id-2 div.sk-label input.sk-toggleable__control:checked~label.sk-toggleable__label {background-color: #d4ebff;}#sk-container-id-2 input.sk-hidden--visually {border: 0;clip: rect(1px 1px 1px 1px);clip: rect(1px, 1px, 1px, 1px);height: 1px;margin: -1px;overflow: hidden;padding: 0;position: absolute;width: 1px;}#sk-container-id-2 div.sk-estimator {font-family: monospace;background-color: #f0f8ff;border: 1px dotted black;border-radius: 0.25em;box-sizing: border-box;margin-bottom: 0.5em;}#sk-container-id-2 div.sk-estimator:hover {background-color: #d4ebff;}#sk-container-id-2 div.sk-parallel-item::after {content: \"\";width: 100%;border-bottom: 1px solid gray;flex-grow: 1;}#sk-container-id-2 div.sk-label:hover label.sk-toggleable__label {background-color: #d4ebff;}#sk-container-id-2 div.sk-serial::before {content: \"\";position: absolute;border-left: 1px solid gray;box-sizing: border-box;top: 0;bottom: 0;left: 50%;z-index: 0;}#sk-container-id-2 div.sk-serial {display: flex;flex-direction: column;align-items: center;background-color: white;padding-right: 0.2em;padding-left: 0.2em;position: relative;}#sk-container-id-2 div.sk-item {position: relative;z-index: 1;}#sk-container-id-2 div.sk-parallel {display: flex;align-items: stretch;justify-content: center;background-color: white;position: relative;}#sk-container-id-2 div.sk-item::before, #sk-container-id-2 div.sk-parallel-item::before {content: \"\";position: absolute;border-left: 1px solid gray;box-sizing: border-box;top: 0;bottom: 0;left: 50%;z-index: -1;}#sk-container-id-2 div.sk-parallel-item {display: flex;flex-direction: column;z-index: 1;position: relative;background-color: white;}#sk-container-id-2 div.sk-parallel-item:first-child::after {align-self: flex-end;width: 50%;}#sk-container-id-2 div.sk-parallel-item:last-child::after {align-self: flex-start;width: 50%;}#sk-container-id-2 div.sk-parallel-item:only-child::after {width: 0;}#sk-container-id-2 div.sk-dashed-wrapped {border: 1px dashed gray;margin: 0 0.4em 0.5em 0.4em;box-sizing: border-box;padding-bottom: 0.4em;background-color: white;}#sk-container-id-2 div.sk-label label {font-family: monospace;font-weight: bold;display: inline-block;line-height: 1.2em;}#sk-container-id-2 div.sk-label-container {text-align: center;}#sk-container-id-2 div.sk-container {/* jupyter's `normalize.less` sets `[hidden] { display: none; }` but bootstrap.min.css set `[hidden] { display: none !important; }` so we also need the `!important` here to be able to override the default hidden behavior on the sphinx rendered scikit-learn.org. See: https://github.com/scikit-learn/scikit-learn/issues/21755 */display: inline-block !important;position: relative;}#sk-container-id-2 div.sk-text-repr-fallback {display: none;}</style><div id=\"sk-container-id-2\" class=\"sk-top-container\"><div class=\"sk-text-repr-fallback\"><pre>KNeighborsClassifier(n_neighbors=1)</pre><b>In a Jupyter environment, please rerun this cell to show the HTML representation or trust the notebook. <br />On GitHub, the HTML representation is unable to render, please try loading this page with nbviewer.org.</b></div><div class=\"sk-container\" hidden><div class=\"sk-item\"><div class=\"sk-estimator sk-toggleable\"><input class=\"sk-toggleable__control sk-hidden--visually\" id=\"sk-estimator-id-2\" type=\"checkbox\" checked><label for=\"sk-estimator-id-2\" class=\"sk-toggleable__label sk-toggleable__label-arrow\">KNeighborsClassifier</label><div class=\"sk-toggleable__content\"><pre>KNeighborsClassifier(n_neighbors=1)</pre></div></div></div></div></div>"
      ],
      "text/plain": [
       "KNeighborsClassifier(n_neighbors=1)"
      ]
     },
     "execution_count": 22,
     "metadata": {},
     "output_type": "execute_result"
    }
   ],
   "source": [
    "knn.fit(x_train, train_set['class'])"
   ]
  },
  {
   "cell_type": "code",
   "execution_count": 23,
   "id": "f284e3ab-24f1-462c-96a6-88b6ead5a0c3",
   "metadata": {},
   "outputs": [
    {
     "name": "stdout",
     "output_type": "stream",
     "text": [
      "class: spam -- message: FREE MSG:We billed your mobile number by mistake from shortcode 83332.Please call 08081263000 to have charges refunded.This call will be free from a BT landline\n"
     ]
    }
   ],
   "source": [
    "message = test_set.iloc[260]['text']\n",
    "true_label = test_set.iloc[260]['class']\n",
    "print(f'class: {true_label} -- message: {message}')"
   ]
  },
  {
   "cell_type": "code",
   "execution_count": 24,
   "id": "39ecb952-656f-49de-83fa-42249a8b2749",
   "metadata": {},
   "outputs": [
    {
     "name": "stdout",
     "output_type": "stream",
     "text": [
      "Predicted label: ham -- True label: spam\n",
      "KNN classifier got the prediction wrong\n"
     ]
    }
   ],
   "source": [
    "feats = count_vect.transform([message])\n",
    "predict_label = knn.predict(feats)\n",
    "\n",
    "print(f'Predicted label: {predict_label[0]} -- True label: {true_label}')\n",
    "\n",
    "# Confronto tra la predizione e l'etichetta vera\n",
    "cond = str(predict_label[0]) == str(true_label)\n",
    "print('KNN classifier got the prediction right' if cond else 'KNN classifier got the prediction wrong')"
   ]
  },
  {
   "cell_type": "code",
   "execution_count": 25,
   "id": "4241da1a-72ce-4b45-bbb1-2f7d989e5d30",
   "metadata": {},
   "outputs": [
    {
     "data": {
      "text/plain": [
       "array(['ham', 'ham', 'ham', ..., 'ham', 'ham', 'ham'], dtype=object)"
      ]
     },
     "execution_count": 25,
     "metadata": {},
     "output_type": "execute_result"
    }
   ],
   "source": [
    "x_test = count_vect.transform(test_set['text'])\n",
    "y_test_pred = knn.predict(x_test)\n",
    "y_test_pred"
   ]
  },
  {
   "cell_type": "code",
   "execution_count": 26,
   "id": "2a01956c-14c4-46e6-9e43-a4f1e1616b2f",
   "metadata": {},
   "outputs": [
    {
     "name": "stdout",
     "output_type": "stream",
     "text": [
      "Accurancy: 0.9461593682699211\n",
      "\n",
      "Il 94.62% delle predizioni sono corrette\n"
     ]
    }
   ],
   "source": [
    "from sklearn.metrics import accuracy_score\n",
    "acc = accuracy_score(test_set['class'],y_test_pred)\n",
    "print(f'Accurancy: {acc}\\n')\n",
    "print(f'Il {np.round(acc*100, 2)}% delle predizioni sono corrette')"
   ]
  },
  {
   "cell_type": "code",
   "execution_count": 27,
   "id": "492ad02b-ee64-4b82-a2f2-27f75888d97d",
   "metadata": {},
   "outputs": [
    {
     "name": "stdout",
     "output_type": "stream",
     "text": [
      "Matrice di confusione:\n",
      " [[1188    1]\n",
      " [  74  130]]\n",
      "\n",
      "Veri positivi: 1188\n",
      "Veri negativi: 130\n",
      "Falsi positivi: 74\n",
      "Flasi negativi: 1\n",
      "----------------------------------------------------------------------\n",
      "Veri positivi: 1188\n",
      "Veri negativi: 130\n",
      "Falsi positivi: 74\n",
      "Flasi negativi: 1\n"
     ]
    }
   ],
   "source": [
    "from sklearn.metrics import confusion_matrix\n",
    "#labels=['ham','spam'] is needed to make sure that the first class is ham and the second one is spam\n",
    "cm = confusion_matrix(test_set['class'],y_test_pred, labels=['ham','spam'])\n",
    "print(f'Matrice di confusione:\\n {cm}', end='\\n\\n')\n",
    "\n",
    "tp = cm[0][0]\n",
    "fn = cm[0][1]\n",
    "fp = cm[1][0]\n",
    "tn = cm[1][1]\n",
    "\n",
    "print(f'Veri positivi: {tp}')\n",
    "print(f'Veri negativi: {tn}')\n",
    "print(f'Falsi positivi: {fp}')\n",
    "print(f'Flasi negativi: {fn}')\n",
    "print(\"-\"*70)\n",
    "\n",
    "# Oppure\n",
    "tp, fn, fp, tn = cm.ravel() #Traccia una Z\n",
    "print(f'Veri positivi: {tp}')\n",
    "print(f'Veri negativi: {tn}')\n",
    "print(f'Falsi positivi: {fp}')\n",
    "print(f'Flasi negativi: {fn}')"
   ]
  },
  {
   "cell_type": "code",
   "execution_count": 28,
   "id": "61d235d3-eee7-43b2-a927-5364d50beb0b",
   "metadata": {},
   "outputs": [
    {
     "name": "stdout",
     "output_type": "stream",
     "text": [
      "Total Instances: 1393\n",
      "Accuracy: 94.62%\n",
      "Precision for \"ham\": 99.92%\n",
      "Precision for \"spam\": 63.73%\n",
      "Recall for \"ham\": 94.14%\n",
      "Recall for \"spam\": 99.24%\n"
     ]
    }
   ],
   "source": [
    "# Estrai i valori dalla matrice di confusione\n",
    "true_negatives, false_positives, false_negatives, true_positives = cm.ravel()\n",
    "\n",
    "# Calcola le percentuali\n",
    "total_instances = len(test_set)\n",
    "accuracy = (true_positives + true_negatives) / total_instances\n",
    "precision_ham = true_negatives / (true_negatives + false_positives)\n",
    "precision_spam = true_positives / (true_positives + false_negatives)\n",
    "recall_ham = true_negatives / (true_negatives + false_negatives)\n",
    "recall_spam = true_positives / (true_positives + false_positives)\n",
    "\n",
    "# Stampa le percentuali\n",
    "print(f'Total Instances: {total_instances}')\n",
    "print(f'Accuracy: {accuracy:.2%}')\n",
    "print(f'Precision for \"ham\": {precision_ham:.2%}')\n",
    "print(f'Precision for \"spam\": {precision_spam:.2%}')\n",
    "print(f'Recall for \"ham\": {recall_ham:.2%}')\n",
    "print(f'Recall for \"spam\": {recall_spam:.2%}')"
   ]
  },
  {
   "cell_type": "code",
   "execution_count": 29,
   "id": "154276f7-ff13-4c02-b094-5602cbeda365",
   "metadata": {},
   "outputs": [],
   "source": [
    "def f1_score_stats(f1_scores):\n",
    "    f1_scores = np.round(f1_scores, 3)\n",
    "    print(f\"F1-score per 'ham': {f1_scores[0]}\")\n",
    "    print(f\"F1-score per 'spam': {f1_scores[1]}\")\n",
    "    print(f'F1-score medio: {f1_scores.mean():.3f}')"
   ]
  },
  {
   "cell_type": "code",
   "execution_count": 30,
   "id": "4a9df2fc-45d2-46c1-874a-96bc5c812f06",
   "metadata": {},
   "outputs": [
    {
     "name": "stdout",
     "output_type": "stream",
     "text": [
      "F1-score per 'ham': 0.969\n",
      "F1-score per 'spam': 0.776\n",
      "F1-score medio: 0.873\n"
     ]
    }
   ],
   "source": [
    "from sklearn.metrics import f1_score\n",
    "#average=None is needed to obtain per-class scores\n",
    "#labels=['ham','spam'] is needed to make sure that the first score is for ham and the second is for spam\n",
    "f1_scores = f1_score(test_set['class'],y_test_pred, average=None, labels=['ham','spam'])\n",
    "\n",
    "# Capacità di minimizzare i falsi positivi e negativi del nostro modello\n",
    "f1_score_stats(f1_scores)"
   ]
  },
  {
   "cell_type": "code",
   "execution_count": 31,
   "id": "ce15d49e-15c3-4c59-ab06-1357252080d3",
   "metadata": {},
   "outputs": [
    {
     "name": "stdout",
     "output_type": "stream",
     "text": [
      "F1-score per 'ham': 0.947\n",
      "F1-score per 'spam': 0.522\n",
      "F1-score medio: 0.734\n"
     ]
    }
   ],
   "source": [
    "knn_5 = KNeighborsClassifier(n_neighbors=5)\n",
    "knn_5.fit(x_train,train_set['class'])\n",
    "y_test_pred_5 = knn_5.predict(x_test)\n",
    "f1_scores_5=f1_score(test_set['class'],y_test_pred_5, average=None, labels=['ham','spam'])\n",
    "\n",
    "f1_score_stats(f1_scores_5)"
   ]
  },
  {
   "cell_type": "markdown",
   "id": "b335b5bf-6db7-4fb3-880c-6dd607cbf36b",
   "metadata": {},
   "source": [
    "# 4. Advances tools"
   ]
  },
  {
   "cell_type": "code",
   "execution_count": 32,
   "id": "93806c49-d904-4e5e-b6e1-5aff604d7d4d",
   "metadata": {},
   "outputs": [
    {
     "name": "stdout",
     "output_type": "stream",
     "text": [
      "F1-score per 'ham': 0.971\n",
      "F1-score per 'spam': 0.786\n",
      "F1-score medio: 0.879\n"
     ]
    }
   ],
   "source": [
    "from sklearn.feature_extraction.text import TfidfTransformer\n",
    "count_vect = CountVectorizer()\n",
    "tf_transformer = TfidfTransformer()\n",
    "\n",
    "x_train_counts = count_vect.fit_transform(train_set['text']) # TF\n",
    "x_train_tf_idf = tf_transformer.fit_transform(x_train_counts) # TF-IDF\n",
    "\n",
    "# non riaddestra il modello (test set)\n",
    "x_test_counts = count_vect.transform(test_set['text']) \n",
    "x_test_tf_idf = tf_transformer.fit_transform(x_test_counts)\n",
    "\n",
    "classifier = KNeighborsClassifier(n_neighbors=1)\n",
    "classifier.fit(x_train_tf_idf, train_set['class']) # addestra il classificatore\n",
    "\n",
    "y_test_preds = classifier.predict(x_test_tf_idf)\n",
    "f1_scores = f1_score(test_set['class'],y_test_preds, average=None, labels=['ham','spam'])\n",
    "\n",
    "f1_score_stats(f1_scores)"
   ]
  },
  {
   "cell_type": "code",
   "execution_count": 35,
   "id": "57392ec8-a39f-4e6e-8cf6-d1eda4495774",
   "metadata": {},
   "outputs": [
    {
     "name": "stdout",
     "output_type": "stream",
     "text": [
      "F1-score per 'ham': 0.975\n",
      "F1-score per 'spam': 0.823\n",
      "F1-score medio: 0.899\n"
     ]
    }
   ],
   "source": [
    "count_vect = CountVectorizer()\n",
    "tf_transformer = TfidfTransformer(use_idf=False)\n",
    "\n",
    "x_train_counts = count_vect.fit_transform(train_set['text'])\n",
    "x_train_tf_idf = tf_transformer.fit_transform(x_train_counts)\n",
    "\n",
    "x_test_counts = count_vect.transform(test_set['text'])\n",
    "x_test_tf_idf = tf_transformer.fit_transform(x_test_counts)\n",
    "\n",
    "classifier = KNeighborsClassifier(n_neighbors=1)\n",
    "classifier.fit(x_train_tf_idf, train_set['class'])\n",
    "\n",
    "y_test_preds = classifier.predict(x_test_tf_idf)\n",
    "f1_scores = f1_score(test_set['class'],y_test_preds, average=None, labels=['ham','spam'])\n",
    "\n",
    "f1_score_stats(f1_scores)"
   ]
  }
 ],
 "metadata": {
  "kernelspec": {
   "display_name": "Python 3 (ipykernel)",
   "language": "python",
   "name": "python3"
  },
  "language_info": {
   "codemirror_mode": {
    "name": "ipython",
    "version": 3
   },
   "file_extension": ".py",
   "mimetype": "text/x-python",
   "name": "python",
   "nbconvert_exporter": "python",
   "pygments_lexer": "ipython3",
   "version": "3.10.12"
  }
 },
 "nbformat": 4,
 "nbformat_minor": 5
}
