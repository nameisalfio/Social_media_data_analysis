{
 "cells": [
  {
   "cell_type": "markdown",
   "id": "bf3f5e78-2ed7-4fe7-8fd4-8949201cd22c",
   "metadata": {},
   "source": [
    "# Test analysis e KNN"
   ]
  },
  {
   "cell_type": "markdown",
   "id": "039694b6-f7a3-4446-a906-1a278b5a7160",
   "metadata": {},
   "source": [
    "The basic element of an NLP pipeline:\n",
    "- Word tokenization;\n",
    "- Identifying stop words;\n",
    "- Stemming;\n",
    "- Lemmatization;\n",
    "- POS tagging;\n",
    "- NER tagging;\n",
    "- Sentence segmentation.\n",
    "- The Bag Of Words (BOW) representation;\n",
    "- Text classificaiton."
   ]
  },
  {
   "cell_type": "markdown",
   "id": "6585b5a4-f233-4c7e-97c2-e2ca16222e1c",
   "metadata": {},
   "source": [
    "### 1. Text processing Base"
   ]
  },
  {
   "cell_type": "code",
   "execution_count": 1,
   "id": "80e83cc6-0282-4f28-bfeb-7f1b39e38d5e",
   "metadata": {},
   "outputs": [
    {
     "name": "stdout",
     "output_type": "stream",
     "text": [
      "Let's go to N.Y.!\n",
      "{'go', 'to', '!'}\n"
     ]
    }
   ],
   "source": [
    "import spacy\n",
    "\n",
    "nlp = spacy.load('en_core_web_sm')\n",
    "\n",
    "words = [t.text for t in nlp.vocab]\n",
    "\n",
    "doc = nlp(\"Let's go to N.Y.!\") # aggiorna anche le parole in nlp\n",
    "print(doc)\n",
    "\n",
    "words2 = [t.text for t in nlp.vocab]\n",
    "print(set(words2) - set(words)) # stampa le parole che sono state aggiunte durante il processing"
   ]
  },
  {
   "cell_type": "markdown",
   "id": "661bd65f-3c61-46f0-82e8-c33a35a38f11",
   "metadata": {},
   "source": [
    "### 1.1 Tokenization"
   ]
  },
  {
   "cell_type": "code",
   "execution_count": 2,
   "id": "2ca0b592-6365-40ca-a1f2-b2d8d87e84ec",
   "metadata": {},
   "outputs": [
    {
     "name": "stdout",
     "output_type": "stream",
     "text": [
      "Token 1 -> Let\n",
      "Token 2 -> 's\n",
      "Token 3 -> go\n",
      "Token 4 -> to\n",
      "Token 5 -> N.Y.\n",
      "Token 6 -> !\n"
     ]
    }
   ],
   "source": [
    "for i,token in enumerate(doc):\n",
    "    print(f'Token {i+1} -> {token}')"
   ]
  },
  {
   "cell_type": "markdown",
   "id": "3bfe15d4-2f35-4314-843c-35c76660b183",
   "metadata": {},
   "source": [
    "### 1.2 Stemming"
   ]
  },
  {
   "cell_type": "code",
   "execution_count": 3,
   "id": "456899c2-230b-42fb-bff3-cf21bf56088b",
   "metadata": {},
   "outputs": [
    {
     "name": "stdout",
     "output_type": "stream",
     "text": [
      "go -> go\n",
      "goes -> goe\n",
      "went -> went\n",
      "wish -> wish\n",
      "wishes -> wish\n",
      "wished -> wish\n",
      "runner -> runner\n",
      "ran -> ran\n",
      "running -> run\n"
     ]
    }
   ],
   "source": [
    "import nltk\n",
    "from nltk.stem.porter import *\n",
    "\n",
    "p_stemmer = PorterStemmer()\n",
    "words = ['go', 'goes', 'went', 'wish', 'wishes', 'wished', 'runner', 'ran', 'running']\n",
    "\n",
    "for w in words:\n",
    "    print(f\"{w} -> {p_stemmer.stem(w)}\")"
   ]
  },
  {
   "cell_type": "markdown",
   "id": "f9c8dfec-9c0c-4462-8ebb-52b3df1409e8",
   "metadata": {},
   "source": [
    "### 1.3 Lemmatization"
   ]
  },
  {
   "cell_type": "code",
   "execution_count": 4,
   "id": "9c22b30f-9db0-4e9a-beb1-199e0b6b176a",
   "metadata": {
    "scrolled": true
   },
   "outputs": [
    {
     "name": "stdout",
     "output_type": "stream",
     "text": [
      "I -> I\n",
      "will -> will\n",
      "meet -> meet\n",
      "you -> you\n",
      "in -> in\n",
      "the -> the\n",
      "meeting -> meeting\n",
      "after -> after\n",
      "meeting -> meet\n",
      "the -> the\n",
      "runner -> runner\n",
      "when -> when\n",
      "running -> run\n",
      ". -> .\n"
     ]
    }
   ],
   "source": [
    "doc = nlp(\"I will meet you in the meeting after meeting the runner when running.\")\n",
    "for token in doc:\n",
    "    print(f\"{token.text} -> {token.lemma_}\")"
   ]
  },
  {
   "cell_type": "markdown",
   "id": "1bc4617b-a089-442b-9171-92a86fc8196d",
   "metadata": {},
   "source": [
    "### 1.4 Stop Words"
   ]
  },
  {
   "cell_type": "code",
   "execution_count": 5,
   "id": "d8653ea1-efdd-43a3-8dda-11e73489d12a",
   "metadata": {},
   "outputs": [
    {
     "name": "stdout",
     "output_type": "stream",
     "text": [
      "['keep', 'sometime', 'after', \"'s\", 'indeed', 'me', 'my', 'still', 'namely', 'various']\n",
      "\n",
      "I -> True\n",
      "will -> True\n",
      "meet -> False\n",
      "you -> True\n",
      "in -> True\n",
      "the -> True\n",
      "meeting -> False\n",
      "after -> True\n",
      "meeting -> False\n",
      "the -> True\n",
      "runner -> False\n",
      "when -> True\n",
      "running -> False\n",
      ". -> False\n",
      "\n",
      "\n"
     ]
    }
   ],
   "source": [
    "print(list(nlp.Defaults.stop_words)[:10], end=\"\\n\\n\") \n",
    "\n",
    "for t in doc:\n",
    "    print(f\"{t.text} -> {t.is_stop}\")\n",
    "print(\"\\n\")"
   ]
  },
  {
   "cell_type": "code",
   "execution_count": 6,
   "id": "70e30078-6947-4f32-a4b9-352486b534d5",
   "metadata": {},
   "outputs": [
    {
     "name": "stdout",
     "output_type": "stream",
     "text": [
      "Is 'go' a stop word now? False\n"
     ]
    }
   ],
   "source": [
    "nlp.Defaults.stop_words.remove('go')  # rimuoviamo 'go' dalle stop words\n",
    "nlp.vocab['go'].is_stop = False\n",
    "outcome = nlp.vocab['go'].is_stop\n",
    "print(f\"Is 'go' a stop word now? {outcome}\")"
   ]
  },
  {
   "cell_type": "code",
   "execution_count": 7,
   "id": "92f63b7f-45b9-4386-9605-d9f4bd063404",
   "metadata": {},
   "outputs": [
    {
     "name": "stdout",
     "output_type": "stream",
     "text": [
      "Is '!' a stop word now? True\n"
     ]
    }
   ],
   "source": [
    "nlp.Defaults.stop_words.add('!') # aggiungo '!' alle stop words\n",
    "nlp.vocab['!'].is_stop = True\n",
    "outcome = nlp.vocab['!'].is_stop\n",
    "print(f\"Is '!' a stop word now? {outcome}\")"
   ]
  },
  {
   "cell_type": "markdown",
   "id": "a079ee79-dbf7-4d63-8579-939f6ab38ecf",
   "metadata": {},
   "source": [
    "### 1.5 Part of Speech (POS) Tagging"
   ]
  },
  {
   "cell_type": "code",
   "execution_count": 12,
   "id": "b411da92-273f-4b6a-9dff-dbde35e6e242",
   "metadata": {},
   "outputs": [
    {
     "name": "stdout",
     "output_type": "stream",
     "text": [
      "\" -> PUNCT\n",
      "Let -> VERB\n",
      "'s -> PRON\n",
      "go -> VERB\n",
      "to -> ADP\n",
      "N.Y. -> PROPN\n",
      "! -> PUNCT\n",
      "\" -> PUNCT\n"
     ]
    }
   ],
   "source": [
    "for t in nlp(\"\\\"Let's go to N.Y.!\\\"\"): \n",
    "    print(f\"{t.text} -> {t.pos_}\")"
   ]
  },
  {
   "cell_type": "code",
   "execution_count": 13,
   "id": "92adfe06-0c14-4359-8e7d-8b5dc4fab789",
   "metadata": {},
   "outputs": [
    {
     "name": "stdout",
     "output_type": "stream",
     "text": [
      "\" -> opening quotation mark\n",
      "Let -> verb, base form\n",
      "'s -> pronoun, personal\n",
      "go -> verb, base form\n",
      "to -> conjunction, subordinating or preposition\n",
      "N.Y. -> noun, proper singular\n",
      "! -> punctuation mark, sentence closer\n",
      "\" -> closing quotation mark\n"
     ]
    }
   ],
   "source": [
    "for t in nlp(\"\\\"Let's go to N.Y.!\\\"\"): # ottengo più dettagli\n",
    "    print(f\"{t.text} -> {spacy.explain(t.tag_)}\")"
   ]
  }
 ],
 "metadata": {
  "kernelspec": {
   "display_name": "Python 3 (ipykernel)",
   "language": "python",
   "name": "python3"
  },
  "language_info": {
   "codemirror_mode": {
    "name": "ipython",
    "version": 3
   },
   "file_extension": ".py",
   "mimetype": "text/x-python",
   "name": "python",
   "nbconvert_exporter": "python",
   "pygments_lexer": "ipython3",
   "version": "3.10.12"
  }
 },
 "nbformat": 4,
 "nbformat_minor": 5
}
