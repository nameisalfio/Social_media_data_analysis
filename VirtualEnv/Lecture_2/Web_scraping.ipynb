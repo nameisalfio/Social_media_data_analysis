{
 "cells": [
  {
   "cell_type": "markdown",
   "id": "6afa5a26-8530-43a1-b166-13690c44fc3d",
   "metadata": {},
   "source": [
    "# Web Scraping"
   ]
  },
  {
   "cell_type": "markdown",
   "id": "8b568eca-5862-4426-8a10-a8a2ec5f6596",
   "metadata": {},
   "source": [
    "#### Si vuole fare Web Scraping sul sito di Amazon per fare delle statistiche su un determinato prodotto"
   ]
  },
  {
   "cell_type": "markdown",
   "id": "3e32885f-1952-479f-9437-9ee65bd734e3",
   "metadata": {},
   "source": [
    "## 1. Analisi del DOM ed Estrazione Automatica¶"
   ]
  },
  {
   "cell_type": "code",
   "execution_count": 1,
   "id": "9fd382fe-0c9c-41a3-9f65-f17297686f53",
   "metadata": {},
   "outputs": [],
   "source": [
    "import requests\n",
    "from bs4 import BeautifulSoup as soup # serve per analizzare il contenuto della pagina web\n",
    "\n",
    "page_url = \"https://www.amazon.it/s?k=occhiali+da+sole&crid=3NM9B3AU1ARTQ&sprefix=%2Caps%2C111&ref=nb_sb_ss_recent_1_0_recent\"\n",
    "\n",
    "HEADERS = {\n",
    "    'User-Agent': ('Mozilla/5.0 (X11; Linux x86_64)'\n",
    "                    'AppleWebKit/537.36 (KHTML, like Gecko)'\n",
    "                    'Chrome/44.0.2403.157 Safari/537.36'),\n",
    "    'Accept-Language': 'en-US, en;q=0.5'\n",
    "}"
   ]
  },
  {
   "cell_type": "code",
   "execution_count": 2,
   "id": "88d02d58-5059-4262-b3dc-058d462c8d20",
   "metadata": {},
   "outputs": [],
   "source": [
    "def scrape_page(page_url, _records = None):\n",
    "    if _records is None:\n",
    "        _records = []\n",
    "    html = requests.get(page_url, headers = HEADERS) # richiesta GET per scaricare il contenuto della pagina\n",
    "    page_soup = soup(html.text)\n",
    "    containers = page_soup.findAll('div',{'class':'puis-card-container s-card-container s-overflow-hidden aok-relative puis-expand-height puis-include-content-margin puis puis-vwvhvgkypx2z322f29wcc4lx0s s-latency-cf-section puis-card-border'})\n",
    "    # 'findAll' restituirà una Resultset di oggetti BeautifulSoup corrispondenti agli elementi trovati che soddisfano i criteri specificati.\n",
    "    \n",
    "    for container in containers:\n",
    "        manufacturer = container.findAll('span',{'class':'a-size-base-plus a-color-base'})[0].text   # nome produttore\n",
    "        model = container.findAll('span',{'class':'a-size-base-plus a-color-base a-text-normal'})[0].text  # modello \n",
    "        img_url = container.findAll('div',{'class':'a-section aok-relative s-image-tall-aspect'})[0].img['src']   # immagine\n",
    "        try:\n",
    "            price = container.findAll('span',{'class':'a-price-whole'})[0].text   # prezzo\n",
    "            price = float(price.replace(',','.'))\n",
    "        except:\n",
    "            price = 0\n",
    "        try:\n",
    "            review_count = container.findAll('span',{'class':'a-size-base s-underline-text'})[0].text   # numero di recensioni\n",
    "            review_count = int(review_count.replace('.', ''))\n",
    "        except:\n",
    "            review_count = 0\n",
    "        try:\n",
    "            rating = container.findAll('span',{'class':'a-icon-alt'})[0].text   # valutazione\n",
    "            rating = float(rating.replace(' su 5 stelle', '').replace(',', '.'))\n",
    "        except:\n",
    "            rating=0\n",
    "        _records.append([manufacturer, model, img_url, price, review_count, rating])\n",
    "        \n",
    "    return _records"
   ]
  },
  {
   "cell_type": "code",
   "execution_count": 3,
   "id": "f1dd84af-3a28-40d7-96fd-1a3f32f9b33d",
   "metadata": {},
   "outputs": [],
   "source": [
    "import pandas as pd\n",
    "\n",
    "records = scrape_page(page_url)\n",
    "data = pd.DataFrame(records, columns=['manufacturer','model','img_url','price','review_count','rating']) # costruisco il DataFrame"
   ]
  },
  {
   "cell_type": "code",
   "execution_count": 4,
   "id": "e0b29876-8a86-41fc-9bb4-27a27a816408",
   "metadata": {},
   "outputs": [
    {
     "name": "stdout",
     "output_type": "stream",
     "text": [
      "<class 'pandas.core.frame.DataFrame'>\n",
      "RangeIndex: 0 entries\n",
      "Data columns (total 6 columns):\n",
      " #   Column        Non-Null Count  Dtype \n",
      "---  ------        --------------  ----- \n",
      " 0   manufacturer  0 non-null      object\n",
      " 1   model         0 non-null      object\n",
      " 2   img_url       0 non-null      object\n",
      " 3   price         0 non-null      object\n",
      " 4   review_count  0 non-null      object\n",
      " 5   rating        0 non-null      object\n",
      "dtypes: object(6)\n",
      "memory usage: 124.0+ bytes\n",
      "\n",
      "\n",
      "\n"
     ]
    },
    {
     "data": {
      "text/html": [
       "<div>\n",
       "<style scoped>\n",
       "    .dataframe tbody tr th:only-of-type {\n",
       "        vertical-align: middle;\n",
       "    }\n",
       "\n",
       "    .dataframe tbody tr th {\n",
       "        vertical-align: top;\n",
       "    }\n",
       "\n",
       "    .dataframe thead th {\n",
       "        text-align: right;\n",
       "    }\n",
       "</style>\n",
       "<table border=\"1\" class=\"dataframe\">\n",
       "  <thead>\n",
       "    <tr style=\"text-align: right;\">\n",
       "      <th></th>\n",
       "      <th>manufacturer</th>\n",
       "      <th>model</th>\n",
       "      <th>img_url</th>\n",
       "      <th>price</th>\n",
       "      <th>review_count</th>\n",
       "      <th>rating</th>\n",
       "    </tr>\n",
       "  </thead>\n",
       "  <tbody>\n",
       "  </tbody>\n",
       "</table>\n",
       "</div>"
      ],
      "text/plain": [
       "Empty DataFrame\n",
       "Columns: [manufacturer, model, img_url, price, review_count, rating]\n",
       "Index: []"
      ]
     },
     "execution_count": 4,
     "metadata": {},
     "output_type": "execute_result"
    }
   ],
   "source": [
    "data.info()\n",
    "print(\"\\n\\n\")\n",
    "data.head(10)"
   ]
  },
  {
   "cell_type": "markdown",
   "id": "0f2aeb69-4f80-43f0-8b3e-947ffabed931",
   "metadata": {},
   "source": [
    "## 2.1 Download delle Immagini"
   ]
  },
  {
   "cell_type": "code",
   "execution_count": 5,
   "id": "0117eb44-5911-4a0e-adec-bb5aecfa122f",
   "metadata": {},
   "outputs": [],
   "source": [
    "import os\n",
    "\n",
    "dest_dir = 'amazon_img'\n",
    "os.makedirs(dest_dir, exist_ok=True)"
   ]
  },
  {
   "cell_type": "code",
   "execution_count": 6,
   "id": "67d4ae41-53e3-474d-8902-ede875c3a877",
   "metadata": {},
   "outputs": [],
   "source": [
    "import re  # libreria per le espressioni regolari\n",
    "from os.path import join  # funzione per unire percorsi di directory\n",
    "from urllib.request import urlretrieve as retrieve  # funzione per scaricare file da un URL\n",
    "\n",
    "def download_images(data, dest_dir, fname=\"img_{id:05d}.{ext:s}\"):\n",
    "    data = data.copy()\n",
    "    data['img_path'] = None  # Crea una nuova colonna 'img_path' nel DataFrame\n",
    "    \n",
    "    for i, row in data.iterrows():\n",
    "        ext = re.search('[^.]+$', row['img_url']).group() # estensione\n",
    "        fullpath = join(dest_dir, fname.format(id=int(row.name), ext=ext)) # percorso\n",
    "        retrieve(row['img_url'], fullpath) # scarica l'immagine\n",
    "        data.at[i, 'img_path'] = fullpath # Aggiungi il percorso al DataFrame usando 'at'\n",
    "\n",
    "    return data"
   ]
  },
  {
   "cell_type": "code",
   "execution_count": 7,
   "id": "d11b4bc2-d173-4386-9d94-26c28e1e112c",
   "metadata": {},
   "outputs": [
    {
     "data": {
      "text/html": [
       "<div>\n",
       "<style scoped>\n",
       "    .dataframe tbody tr th:only-of-type {\n",
       "        vertical-align: middle;\n",
       "    }\n",
       "\n",
       "    .dataframe tbody tr th {\n",
       "        vertical-align: top;\n",
       "    }\n",
       "\n",
       "    .dataframe thead th {\n",
       "        text-align: right;\n",
       "    }\n",
       "</style>\n",
       "<table border=\"1\" class=\"dataframe\">\n",
       "  <thead>\n",
       "    <tr style=\"text-align: right;\">\n",
       "      <th></th>\n",
       "      <th>manufacturer</th>\n",
       "      <th>model</th>\n",
       "      <th>img_url</th>\n",
       "      <th>price</th>\n",
       "      <th>review_count</th>\n",
       "      <th>rating</th>\n",
       "      <th>img_path</th>\n",
       "    </tr>\n",
       "  </thead>\n",
       "  <tbody>\n",
       "  </tbody>\n",
       "</table>\n",
       "</div>"
      ],
      "text/plain": [
       "Empty DataFrame\n",
       "Columns: [manufacturer, model, img_url, price, review_count, rating, img_path]\n",
       "Index: []"
      ]
     },
     "execution_count": 7,
     "metadata": {},
     "output_type": "execute_result"
    }
   ],
   "source": [
    "data2 = download_images(data, 'amazon_img')\n",
    "data2"
   ]
  },
  {
   "cell_type": "markdown",
   "id": "3cfbd86b-6405-4db2-a9f3-e763eb709f6c",
   "metadata": {},
   "source": [
    "## 2.2 Navigare Tra le Pagine"
   ]
  },
  {
   "cell_type": "code",
   "execution_count": 8,
   "id": "3a770edf-3f89-420a-8261-8c580b4b6a90",
   "metadata": {},
   "outputs": [],
   "source": [
    "p = 1\n",
    "part1_url = \"https://www.amazon.it/s?k=occhiali+da+sole&page=\"\n",
    "part2_url = \"&crid=FY51CBDZSXMD&qid=1697798329&sprefix=%2Caps%2C106&ref=sr_pg_2\"\n",
    "\n",
    "def navigate_and_scrape(base_url, records = None):\n",
    "    if records is None:\n",
    "        records = []\n",
    "    \n",
    "    all_records = records\n",
    "    page = 1 #iniziamo dalla pagina 1\n",
    "    while(True):\n",
    "        url = f\"{part1_url}{p:d}{part2_url}\"\n",
    "        records = scrape_page(url)\n",
    "        all_records.extend(records)\n",
    "        if len(records)==0: #usciamo quando la pagina non contiene più record\n",
    "            break\n",
    "        page+=1\n",
    "    \n",
    "    return all_records"
   ]
  },
  {
   "cell_type": "code",
   "execution_count": 9,
   "id": "dd95a49e-54d9-4d8c-a0b9-f3b0f428036b",
   "metadata": {},
   "outputs": [],
   "source": [
    "records = navigate_and_scrape(page_url)\n",
    "data = pd.DataFrame(records, columns=['manufacturer','model','img_url','price','review_count','rating'])"
   ]
  },
  {
   "cell_type": "code",
   "execution_count": 10,
   "id": "87974375-7f6e-4ee9-b4fb-a7f9b2a51373",
   "metadata": {},
   "outputs": [
    {
     "name": "stdout",
     "output_type": "stream",
     "text": [
      "<class 'pandas.core.frame.DataFrame'>\n",
      "RangeIndex: 0 entries\n",
      "Data columns (total 6 columns):\n",
      " #   Column        Non-Null Count  Dtype \n",
      "---  ------        --------------  ----- \n",
      " 0   manufacturer  0 non-null      object\n",
      " 1   model         0 non-null      object\n",
      " 2   img_url       0 non-null      object\n",
      " 3   price         0 non-null      object\n",
      " 4   review_count  0 non-null      object\n",
      " 5   rating        0 non-null      object\n",
      "dtypes: object(6)\n",
      "memory usage: 124.0+ bytes\n",
      "None\n"
     ]
    },
    {
     "data": {
      "text/html": [
       "<div>\n",
       "<style scoped>\n",
       "    .dataframe tbody tr th:only-of-type {\n",
       "        vertical-align: middle;\n",
       "    }\n",
       "\n",
       "    .dataframe tbody tr th {\n",
       "        vertical-align: top;\n",
       "    }\n",
       "\n",
       "    .dataframe thead th {\n",
       "        text-align: right;\n",
       "    }\n",
       "</style>\n",
       "<table border=\"1\" class=\"dataframe\">\n",
       "  <thead>\n",
       "    <tr style=\"text-align: right;\">\n",
       "      <th></th>\n",
       "      <th>manufacturer</th>\n",
       "      <th>model</th>\n",
       "      <th>img_url</th>\n",
       "      <th>price</th>\n",
       "      <th>review_count</th>\n",
       "      <th>rating</th>\n",
       "    </tr>\n",
       "  </thead>\n",
       "  <tbody>\n",
       "  </tbody>\n",
       "</table>\n",
       "</div>"
      ],
      "text/plain": [
       "Empty DataFrame\n",
       "Columns: [manufacturer, model, img_url, price, review_count, rating]\n",
       "Index: []"
      ]
     },
     "execution_count": 10,
     "metadata": {},
     "output_type": "execute_result"
    }
   ],
   "source": [
    "print(data.info())\n",
    "data.head()"
   ]
  },
  {
   "cell_type": "markdown",
   "id": "9aa02d4f-1531-4f20-b487-32ea09ab69f1",
   "metadata": {},
   "source": [
    "## 3 Analisi dei dati ottenuti"
   ]
  },
  {
   "cell_type": "code",
   "execution_count": 11,
   "id": "99b4efab-c26a-4d38-916b-8c211cbeb1f0",
   "metadata": {},
   "outputs": [
    {
     "data": {
      "text/html": [
       "<div>\n",
       "<style scoped>\n",
       "    .dataframe tbody tr th:only-of-type {\n",
       "        vertical-align: middle;\n",
       "    }\n",
       "\n",
       "    .dataframe tbody tr th {\n",
       "        vertical-align: top;\n",
       "    }\n",
       "\n",
       "    .dataframe thead th {\n",
       "        text-align: right;\n",
       "    }\n",
       "</style>\n",
       "<table border=\"1\" class=\"dataframe\">\n",
       "  <thead>\n",
       "    <tr style=\"text-align: right;\">\n",
       "      <th></th>\n",
       "      <th>manufacturer</th>\n",
       "      <th>model</th>\n",
       "      <th>img_url</th>\n",
       "      <th>price</th>\n",
       "      <th>review_count</th>\n",
       "      <th>rating</th>\n",
       "    </tr>\n",
       "  </thead>\n",
       "  <tbody>\n",
       "    <tr>\n",
       "      <th>count</th>\n",
       "      <td>0</td>\n",
       "      <td>0</td>\n",
       "      <td>0</td>\n",
       "      <td>0</td>\n",
       "      <td>0</td>\n",
       "      <td>0</td>\n",
       "    </tr>\n",
       "    <tr>\n",
       "      <th>unique</th>\n",
       "      <td>0</td>\n",
       "      <td>0</td>\n",
       "      <td>0</td>\n",
       "      <td>0</td>\n",
       "      <td>0</td>\n",
       "      <td>0</td>\n",
       "    </tr>\n",
       "    <tr>\n",
       "      <th>top</th>\n",
       "      <td>NaN</td>\n",
       "      <td>NaN</td>\n",
       "      <td>NaN</td>\n",
       "      <td>NaN</td>\n",
       "      <td>NaN</td>\n",
       "      <td>NaN</td>\n",
       "    </tr>\n",
       "    <tr>\n",
       "      <th>freq</th>\n",
       "      <td>NaN</td>\n",
       "      <td>NaN</td>\n",
       "      <td>NaN</td>\n",
       "      <td>NaN</td>\n",
       "      <td>NaN</td>\n",
       "      <td>NaN</td>\n",
       "    </tr>\n",
       "  </tbody>\n",
       "</table>\n",
       "</div>"
      ],
      "text/plain": [
       "       manufacturer model img_url price review_count rating\n",
       "count             0     0       0     0            0      0\n",
       "unique            0     0       0     0            0      0\n",
       "top             NaN   NaN     NaN   NaN          NaN    NaN\n",
       "freq            NaN   NaN     NaN   NaN          NaN    NaN"
      ]
     },
     "execution_count": 11,
     "metadata": {},
     "output_type": "execute_result"
    }
   ],
   "source": [
    "data.describe()"
   ]
  },
  {
   "cell_type": "code",
   "execution_count": 12,
   "id": "10bf0a61-0e7a-482d-94df-7d7bd39f9f3e",
   "metadata": {},
   "outputs": [],
   "source": [
    "from matplotlib import pyplot as plt # per la costruzione di grafici"
   ]
  },
  {
   "cell_type": "markdown",
   "id": "1233eecd-2e4f-48a3-87ba-0cc582226fff",
   "metadata": {},
   "source": [
    "#### Distribuzione percentuale dei produttori in base al numero di prodotti (quantità)"
   ]
  },
  {
   "cell_type": "code",
   "execution_count": 13,
   "id": "574cc1c8-2092-43b3-adf3-ee2ce76fe19a",
   "metadata": {},
   "outputs": [
    {
     "data": {
      "image/png": "[encoded data removed]",
      "text/plain": [
       "<Figure size 800x800 with 1 Axes>"
      ]
     },
     "metadata": {},
     "output_type": "display_data"
    }
   ],
   "source": [
    "plt.figure(figsize=(8,8)) \n",
    "data.groupby('manufacturer')['manufacturer'].count().plot.pie(rotatelabels=True) # crea un grafico a torta \n",
    "#data['manufacturer'].value_counts().plot.pie(rotatelabels=True)\n",
    "#data['manufacturer'].value_counts().plot.bar()\n",
    "#data['manufacturer'].value_counts().plot.line()\n",
    "#data.plot.scatter(x='price', y='rating')\n",
    "#data.boxplot(column='price', by='manufacturer')\n",
    "#data['price'].plot.hist()\n",
    "#data.plot.area()\n",
    "plt.show()"
   ]
  },
  {
   "cell_type": "markdown",
   "id": "c19afd11-443c-4e41-ab9d-da0cefbbc6e4",
   "metadata": {},
   "source": [
    "#### Media dei prezzi dei prodotti per ciascun produttore (costo)"
   ]
  },
  {
   "cell_type": "code",
   "execution_count": 14,
   "id": "d8e31baf-dad7-4df6-b01a-ec347c46b7f9",
   "metadata": {},
   "outputs": [
    {
     "ename": "TypeError",
     "evalue": "no numeric data to plot",
     "output_type": "error",
     "traceback": [
      "\u001b[0;31m---------------------------------------------------------------------------\u001b[0m",
      "\u001b[0;31mTypeError\u001b[0m                                 Traceback (most recent call last)",
      "\u001b[0;32m/tmp/ipykernel_5331/2280880525.py\u001b[0m in \u001b[0;36m<module>\u001b[0;34m\u001b[0m\n\u001b[1;32m      1\u001b[0m \u001b[0mplt\u001b[0m\u001b[0;34m.\u001b[0m\u001b[0mfigure\u001b[0m\u001b[0;34m(\u001b[0m\u001b[0mfigsize\u001b[0m\u001b[0;34m=\u001b[0m\u001b[0;34m(\u001b[0m\u001b[0;36m12\u001b[0m\u001b[0;34m,\u001b[0m\u001b[0;36m6\u001b[0m\u001b[0;34m)\u001b[0m\u001b[0;34m)\u001b[0m\u001b[0;34m\u001b[0m\u001b[0;34m\u001b[0m\u001b[0m\n\u001b[0;32m----> 2\u001b[0;31m \u001b[0mdata\u001b[0m\u001b[0;34m.\u001b[0m\u001b[0mgroupby\u001b[0m\u001b[0;34m(\u001b[0m\u001b[0;34m'manufacturer'\u001b[0m\u001b[0;34m)\u001b[0m\u001b[0;34m[\u001b[0m\u001b[0;34m'price'\u001b[0m\u001b[0;34m]\u001b[0m\u001b[0;34m.\u001b[0m\u001b[0mmean\u001b[0m\u001b[0;34m(\u001b[0m\u001b[0;34m)\u001b[0m\u001b[0;34m.\u001b[0m\u001b[0mplot\u001b[0m\u001b[0;34m.\u001b[0m\u001b[0mbar\u001b[0m\u001b[0;34m(\u001b[0m\u001b[0;34m)\u001b[0m \u001b[0;31m# crea un grafico a barre verticali\u001b[0m\u001b[0;34m\u001b[0m\u001b[0;34m\u001b[0m\u001b[0m\n\u001b[0m\u001b[1;32m      3\u001b[0m \u001b[0mplt\u001b[0m\u001b[0;34m.\u001b[0m\u001b[0mgrid\u001b[0m\u001b[0;34m(\u001b[0m\u001b[0;34m)\u001b[0m\u001b[0;34m\u001b[0m\u001b[0;34m\u001b[0m\u001b[0m\n\u001b[1;32m      4\u001b[0m \u001b[0mplt\u001b[0m\u001b[0;34m.\u001b[0m\u001b[0mshow\u001b[0m\u001b[0;34m(\u001b[0m\u001b[0;34m)\u001b[0m\u001b[0;34m\u001b[0m\u001b[0;34m\u001b[0m\u001b[0m\n",
      "\u001b[0;32m~/.local/lib/python3.10/site-packages/pandas/plotting/_core.py\u001b[0m in \u001b[0;36mbar\u001b[0;34m(self, x, y, **kwargs)\u001b[0m\n\u001b[1;32m   1191\u001b[0m         \u001b[0mother\u001b[0m \u001b[0maxis\u001b[0m \u001b[0mrepresents\u001b[0m \u001b[0ma\u001b[0m \u001b[0mmeasured\u001b[0m \u001b[0mvalue\u001b[0m\u001b[0;34m.\u001b[0m\u001b[0;34m\u001b[0m\u001b[0;34m\u001b[0m\u001b[0m\n\u001b[1;32m   1192\u001b[0m         \"\"\"\n\u001b[0;32m-> 1193\u001b[0;31m         \u001b[0;32mreturn\u001b[0m \u001b[0mself\u001b[0m\u001b[0;34m(\u001b[0m\u001b[0mkind\u001b[0m\u001b[0;34m=\u001b[0m\u001b[0;34m\"bar\"\u001b[0m\u001b[0;34m,\u001b[0m \u001b[0mx\u001b[0m\u001b[0;34m=\u001b[0m\u001b[0mx\u001b[0m\u001b[0;34m,\u001b[0m \u001b[0my\u001b[0m\u001b[0;34m=\u001b[0m\u001b[0my\u001b[0m\u001b[0;34m,\u001b[0m \u001b[0;34m**\u001b[0m\u001b[0mkwargs\u001b[0m\u001b[0;34m)\u001b[0m\u001b[0;34m\u001b[0m\u001b[0;34m\u001b[0m\u001b[0m\n\u001b[0m\u001b[1;32m   1194\u001b[0m \u001b[0;34m\u001b[0m\u001b[0m\n\u001b[1;32m   1195\u001b[0m     @Appender(\n",
      "\u001b[0;32m~/.local/lib/python3.10/site-packages/pandas/plotting/_core.py\u001b[0m in \u001b[0;36m__call__\u001b[0;34m(self, *args, **kwargs)\u001b[0m\n\u001b[1;32m   1029\u001b[0m                     \u001b[0mdata\u001b[0m\u001b[0;34m.\u001b[0m\u001b[0mcolumns\u001b[0m \u001b[0;34m=\u001b[0m \u001b[0mlabel_name\u001b[0m\u001b[0;34m\u001b[0m\u001b[0;34m\u001b[0m\u001b[0m\n\u001b[1;32m   1030\u001b[0m \u001b[0;34m\u001b[0m\u001b[0m\n\u001b[0;32m-> 1031\u001b[0;31m         \u001b[0;32mreturn\u001b[0m \u001b[0mplot_backend\u001b[0m\u001b[0;34m.\u001b[0m\u001b[0mplot\u001b[0m\u001b[0;34m(\u001b[0m\u001b[0mdata\u001b[0m\u001b[0;34m,\u001b[0m \u001b[0mkind\u001b[0m\u001b[0;34m=\u001b[0m\u001b[0mkind\u001b[0m\u001b[0;34m,\u001b[0m \u001b[0;34m**\u001b[0m\u001b[0mkwargs\u001b[0m\u001b[0;34m)\u001b[0m\u001b[0;34m\u001b[0m\u001b[0;34m\u001b[0m\u001b[0m\n\u001b[0m\u001b[1;32m   1032\u001b[0m \u001b[0;34m\u001b[0m\u001b[0m\n\u001b[1;32m   1033\u001b[0m     \u001b[0m__call__\u001b[0m\u001b[0;34m.\u001b[0m\u001b[0m__doc__\u001b[0m \u001b[0;34m=\u001b[0m \u001b[0m__doc__\u001b[0m\u001b[0;34m\u001b[0m\u001b[0;34m\u001b[0m\u001b[0m\n",
      "\u001b[0;32m~/.local/lib/python3.10/site-packages/pandas/plotting/_matplotlib/__init__.py\u001b[0m in \u001b[0;36mplot\u001b[0;34m(data, kind, **kwargs)\u001b[0m\n\u001b[1;32m     69\u001b[0m             \u001b[0mkwargs\u001b[0m\u001b[0;34m[\u001b[0m\u001b[0;34m\"ax\"\u001b[0m\u001b[0;34m]\u001b[0m \u001b[0;34m=\u001b[0m \u001b[0mgetattr\u001b[0m\u001b[0;34m(\u001b[0m\u001b[0max\u001b[0m\u001b[0;34m,\u001b[0m \u001b[0;34m\"left_ax\"\u001b[0m\u001b[0;34m,\u001b[0m \u001b[0max\u001b[0m\u001b[0;34m)\u001b[0m\u001b[0;34m\u001b[0m\u001b[0;34m\u001b[0m\u001b[0m\n\u001b[1;32m     70\u001b[0m     \u001b[0mplot_obj\u001b[0m \u001b[0;34m=\u001b[0m \u001b[0mPLOT_CLASSES\u001b[0m\u001b[0;34m[\u001b[0m\u001b[0mkind\u001b[0m\u001b[0;34m]\u001b[0m\u001b[0;34m(\u001b[0m\u001b[0mdata\u001b[0m\u001b[0;34m,\u001b[0m \u001b[0;34m**\u001b[0m\u001b[0mkwargs\u001b[0m\u001b[0;34m)\u001b[0m\u001b[0;34m\u001b[0m\u001b[0;34m\u001b[0m\u001b[0m\n\u001b[0;32m---> 71\u001b[0;31m     \u001b[0mplot_obj\u001b[0m\u001b[0;34m.\u001b[0m\u001b[0mgenerate\u001b[0m\u001b[0;34m(\u001b[0m\u001b[0;34m)\u001b[0m\u001b[0;34m\u001b[0m\u001b[0;34m\u001b[0m\u001b[0m\n\u001b[0m\u001b[1;32m     72\u001b[0m     \u001b[0mplot_obj\u001b[0m\u001b[0;34m.\u001b[0m\u001b[0mdraw\u001b[0m\u001b[0;34m(\u001b[0m\u001b[0;34m)\u001b[0m\u001b[0;34m\u001b[0m\u001b[0;34m\u001b[0m\u001b[0m\n\u001b[1;32m     73\u001b[0m     \u001b[0;32mreturn\u001b[0m \u001b[0mplot_obj\u001b[0m\u001b[0;34m.\u001b[0m\u001b[0mresult\u001b[0m\u001b[0;34m\u001b[0m\u001b[0;34m\u001b[0m\u001b[0m\n",
      "\u001b[0;32m~/.local/lib/python3.10/site-packages/pandas/plotting/_matplotlib/core.py\u001b[0m in \u001b[0;36mgenerate\u001b[0;34m(self)\u001b[0m\n\u001b[1;32m    449\u001b[0m     \u001b[0;32mdef\u001b[0m \u001b[0mgenerate\u001b[0m\u001b[0;34m(\u001b[0m\u001b[0mself\u001b[0m\u001b[0;34m)\u001b[0m \u001b[0;34m->\u001b[0m \u001b[0;32mNone\u001b[0m\u001b[0;34m:\u001b[0m\u001b[0;34m\u001b[0m\u001b[0;34m\u001b[0m\u001b[0m\n\u001b[1;32m    450\u001b[0m         \u001b[0mself\u001b[0m\u001b[0;34m.\u001b[0m\u001b[0m_args_adjust\u001b[0m\u001b[0;34m(\u001b[0m\u001b[0;34m)\u001b[0m\u001b[0;34m\u001b[0m\u001b[0;34m\u001b[0m\u001b[0m\n\u001b[0;32m--> 451\u001b[0;31m         \u001b[0mself\u001b[0m\u001b[0;34m.\u001b[0m\u001b[0m_compute_plot_data\u001b[0m\u001b[0;34m(\u001b[0m\u001b[0;34m)\u001b[0m\u001b[0;34m\u001b[0m\u001b[0;34m\u001b[0m\u001b[0m\n\u001b[0m\u001b[1;32m    452\u001b[0m         \u001b[0mself\u001b[0m\u001b[0;34m.\u001b[0m\u001b[0m_setup_subplots\u001b[0m\u001b[0;34m(\u001b[0m\u001b[0;34m)\u001b[0m\u001b[0;34m\u001b[0m\u001b[0;34m\u001b[0m\u001b[0m\n\u001b[1;32m    453\u001b[0m         \u001b[0mself\u001b[0m\u001b[0;34m.\u001b[0m\u001b[0m_make_plot\u001b[0m\u001b[0;34m(\u001b[0m\u001b[0;34m)\u001b[0m\u001b[0;34m\u001b[0m\u001b[0;34m\u001b[0m\u001b[0m\n",
      "\u001b[0;32m~/.local/lib/python3.10/site-packages/pandas/plotting/_matplotlib/core.py\u001b[0m in \u001b[0;36m_compute_plot_data\u001b[0;34m(self)\u001b[0m\n\u001b[1;32m    634\u001b[0m         \u001b[0;31m# no non-numeric frames or series allowed\u001b[0m\u001b[0;34m\u001b[0m\u001b[0;34m\u001b[0m\u001b[0m\n\u001b[1;32m    635\u001b[0m         \u001b[0;32mif\u001b[0m \u001b[0mis_empty\u001b[0m\u001b[0;34m:\u001b[0m\u001b[0;34m\u001b[0m\u001b[0;34m\u001b[0m\u001b[0m\n\u001b[0;32m--> 636\u001b[0;31m             \u001b[0;32mraise\u001b[0m \u001b[0mTypeError\u001b[0m\u001b[0;34m(\u001b[0m\u001b[0;34m\"no numeric data to plot\"\u001b[0m\u001b[0;34m)\u001b[0m\u001b[0;34m\u001b[0m\u001b[0;34m\u001b[0m\u001b[0m\n\u001b[0m\u001b[1;32m    637\u001b[0m \u001b[0;34m\u001b[0m\u001b[0m\n\u001b[1;32m    638\u001b[0m         \u001b[0mself\u001b[0m\u001b[0;34m.\u001b[0m\u001b[0mdata\u001b[0m \u001b[0;34m=\u001b[0m \u001b[0mnumeric_data\u001b[0m\u001b[0;34m.\u001b[0m\u001b[0mapply\u001b[0m\u001b[0;34m(\u001b[0m\u001b[0mself\u001b[0m\u001b[0;34m.\u001b[0m\u001b[0m_convert_to_ndarray\u001b[0m\u001b[0;34m)\u001b[0m\u001b[0;34m\u001b[0m\u001b[0;34m\u001b[0m\u001b[0m\n",
      "\u001b[0;31mTypeError\u001b[0m: no numeric data to plot"
     ]
    },
    {
     "data": {
      "image/png": "[encoded data removed]",
      "text/plain": [
       "<Figure size 1200x600 with 1 Axes>"
      ]
     },
     "metadata": {},
     "output_type": "display_data"
    }
   ],
   "source": [
    "plt.figure(figsize=(12,6))\n",
    "data.groupby('manufacturer')['price'].mean().plot.bar() # crea un grafico a barre verticali\n",
    "plt.grid()\n",
    "plt.show()"
   ]
  },
  {
   "cell_type": "markdown",
   "id": "867ba4d7-480c-4723-a495-126088c4bf9f",
   "metadata": {},
   "source": [
    "#### Somma del numero di recensioni per ogni produttore (popolarità)"
   ]
  },
  {
   "cell_type": "code",
   "execution_count": null,
   "id": "79706e35-e802-4377-8961-92f741a2e72c",
   "metadata": {},
   "outputs": [],
   "source": [
    "plt.figure(figsize=(12,6))\n",
    "data.groupby('manufacturer')['review_count'].sum().plot.bar()\n",
    "plt.grid()\n",
    "plt.show()"
   ]
  },
  {
   "cell_type": "markdown",
   "id": "5d8896ed-2152-418e-a31e-bb3e7dd0b811",
   "metadata": {},
   "source": [
    "#### Valutazioni (rating) medie dei prodotti in base ai produttori."
   ]
  },
  {
   "cell_type": "code",
   "execution_count": null,
   "id": "a7247c5d-ee62-4a57-ac0f-6cdd27b1362c",
   "metadata": {},
   "outputs": [],
   "source": [
    "plt.figure(figsize=(12,6))\n",
    "data.groupby('manufacturer')['rating'].mean().plot.bar()\n",
    "plt.grid()\n",
    "plt.show()"
   ]
  },
  {
   "cell_type": "markdown",
   "id": "d2662025-6b56-4d71-aede-7f61a7ec6a86",
   "metadata": {},
   "source": [
    "#### Media delle valutazioni per il produttore LOPKJ (valutazione media più bassa)"
   ]
  },
  {
   "cell_type": "code",
   "execution_count": null,
   "id": "714a208b-1408-4791-b638-2152094e19ae",
   "metadata": {},
   "outputs": [],
   "source": [
    "mask1 = data['manufacturer']=='LOPKJ'\n",
    "\n",
    "plt.figure(figsize=(12,6))\n",
    "data[mask1].groupby('manufacturer')['rating'].mean().plot.bar()\n",
    "plt.grid()\n",
    "plt.show()"
   ]
  }
 ],
 "metadata": {
  "kernelspec": {
   "display_name": "Python 3 (ipykernel)",
   "language": "python",
   "name": "python3"
  },
  "language_info": {
   "codemirror_mode": {
    "name": "ipython",
    "version": 3
   },
   "file_extension": ".py",
   "mimetype": "text/x-python",
   "name": "python",
   "nbconvert_exporter": "python",
   "pygments_lexer": "ipython3",
   "version": "3.10.12"
  }
 },
 "nbformat": 4,
 "nbformat_minor": 5
}
