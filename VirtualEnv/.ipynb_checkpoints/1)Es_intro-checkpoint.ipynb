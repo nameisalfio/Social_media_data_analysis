{
 "cells": [
  {
   "cell_type": "markdown",
   "id": "394c55fc-7942-4966-ae61-25301fa16a25",
   "metadata": {},
   "source": [
    "# Esercizio 1"
   ]
  },
  {
   "cell_type": "code",
   "execution_count": 1,
   "id": "427e0358-458c-4147-9317-b79ae445c3b8",
   "metadata": {},
   "outputs": [],
   "source": [
    "# Definire la lista [1,8,2,6,15,21,76,22,0,111,23,12,24];\n",
    "\n",
    "lista = [1,8,2,6,15,21,76,22,0,111,23,12,24] "
   ]
  },
  {
   "cell_type": "code",
   "execution_count": 2,
   "id": "9316f03b-0053-4212-b9b5-d78b19f86fe8",
   "metadata": {},
   "outputs": [
    {
     "name": "stdout",
     "output_type": "stream",
     "text": [
      "Primo elemento della lista: 1\n"
     ]
    }
   ],
   "source": [
    "# Stampare il primo numero della lista;\n",
    "\n",
    "print(f\"Primo elemento della lista: {lista[0]}\")"
   ]
  },
  {
   "cell_type": "code",
   "execution_count": 3,
   "id": "da766791-e913-4c84-8516-c0d6a1c308c3",
   "metadata": {},
   "outputs": [
    {
     "name": "stdout",
     "output_type": "stream",
     "text": [
      "Ultimo elemento della lista: 24\n"
     ]
    }
   ],
   "source": [
    "# Stampare l'ultimo numero della lista;\n",
    "\n",
    "print(f\"Ultimo elemento della lista: {lista[-1]}\")"
   ]
  },
  {
   "cell_type": "code",
   "execution_count": 9,
   "id": "0f6262e7-53f9-4499-941e-00197caa4f72",
   "metadata": {},
   "outputs": [
    {
     "name": "stdout",
     "output_type": "stream",
     "text": [
      "Somma dei numeri con indici dispari: 141\n"
     ]
    }
   ],
   "source": [
    "# Stampare la somma dei numeri con indici dispari (e.g., 1,3,5,...) nella lista;\n",
    "\n",
    "sumList = sum(lista[::2])\n",
    "\n",
    "print(f\"Somma dei numeri con indici dispari: {sumList}\")"
   ]
  },
  {
   "cell_type": "code",
   "execution_count": 5,
   "id": "259784dd-743b-48b6-a8ed-4f26bf08d8ea",
   "metadata": {},
   "outputs": [
    {
     "name": "stdout",
     "output_type": "stream",
     "text": [
      "Lista ordinata in senso inverso --> [111, 76, 24, 23, 22, 21, 15, 12, 8, 6, 2, 1, 0]\n"
     ]
    }
   ],
   "source": [
    "# Stampare la lista ordinata in senso inverso;\n",
    "\n",
    "reverse_list = lista\n",
    "reverse_list.sort()\n",
    "reverse_list.reverse()\n",
    "print(f\"Lista ordinata in senso inverso --> {reverse_list}\")"
   ]
  },
  {
   "cell_type": "code",
   "execution_count": 11,
   "id": "1ede4dc8-bcac-403a-b4a8-d642fe2e448d",
   "metadata": {},
   "outputs": [
    {
     "name": "stdout",
     "output_type": "stream",
     "text": [
      "Media degli elementi della lista: 24.692307692307693\n"
     ]
    }
   ],
   "source": [
    "# Stampare la media dei numeri contenuti nella lista;\n",
    "\n",
    "avg = sum(lista) / len(lista)\n",
    "print(f\"Media degli elementi della lista: {avg}\")"
   ]
  },
  {
   "cell_type": "markdown",
   "id": "a598636d-597a-4cfe-8689-87ee7f9b10e0",
   "metadata": {},
   "source": [
    "# Esercizio 2"
   ]
  },
  {
   "cell_type": "code",
   "execution_count": 21,
   "id": "5025a9ba-1ac6-4bd1-8f95-d194372f995a",
   "metadata": {},
   "outputs": [
    {
     "ename": "KeyError",
     "evalue": "7",
     "output_type": "error",
     "traceback": [
      "\u001b[0;31m---------------------------------------------------------------------------\u001b[0m",
      "\u001b[0;31mKeyError\u001b[0m                                  Traceback (most recent call last)",
      "\u001b[0;32m/tmp/ipykernel_7186/820338708.py\u001b[0m in \u001b[0;36m<module>\u001b[0;34m\u001b[0m\n\u001b[1;32m      5\u001b[0m \u001b[0;34m\u001b[0m\u001b[0m\n\u001b[1;32m      6\u001b[0m \u001b[0mnumber\u001b[0m \u001b[0;34m=\u001b[0m \u001b[0;36m7\u001b[0m\u001b[0;34m\u001b[0m\u001b[0;34m\u001b[0m\u001b[0m\n\u001b[0;32m----> 7\u001b[0;31m \u001b[0mmonth\u001b[0m \u001b[0;34m=\u001b[0m \u001b[0mmonths\u001b[0m\u001b[0;34m[\u001b[0m\u001b[0mnumber\u001b[0m\u001b[0;34m]\u001b[0m\u001b[0;34m\u001b[0m\u001b[0;34m\u001b[0m\u001b[0m\n\u001b[0m",
      "\u001b[0;31mKeyError\u001b[0m: 7"
     ]
    }
   ],
   "source": [
    "# Si definisca un dizionario mesi che mappi i nomi dei mesi nei loro corrispettivi numerici\n",
    "\n",
    "months = { \"Gennaio\": 1, \"Febbraio\": 2, \"Marzo\": 3, \"Aprile\": 4, \"Maggio\": 5, \"Giugno\": 6, \n",
    "           \"Luglio\": 7, \"Agosto\": 8, \"Settembre\": 9, \"Ottobre\": 10, \"Novembre\": 11, \"Dicembre\": 12}\n",
    "\n",
    "number = 7\n",
    "month = months[number]\n",
    "print(f\"Mese numero {number} : {month}\")"
   ]
  }
 ],
 "metadata": {
  "kernelspec": {
   "display_name": "Python 3 (ipykernel)",
   "language": "python",
   "name": "python3"
  },
  "language_info": {
   "codemirror_mode": {
    "name": "ipython",
    "version": 3
   },
   "file_extension": ".py",
   "mimetype": "text/x-python",
   "name": "python",
   "nbconvert_exporter": "python",
   "pygments_lexer": "ipython3",
   "version": "3.10.12"
  },
  "widgets": {
   "application/vnd.jupyter.widget-state+json": {
    "state": {},
    "version_major": 2,
    "version_minor": 0
   }
  }
 },
 "nbformat": 4,
 "nbformat_minor": 5
}
