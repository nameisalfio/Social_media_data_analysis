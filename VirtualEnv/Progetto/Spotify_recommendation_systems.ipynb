{
 "cells": [
  {
   "cell_type": "markdown",
   "id": "85e57bea-7f14-48c7-bb55-c41d92ab9735",
   "metadata": {},
   "source": [
    "<div style=\"display: flex; align-items: center;\">\n",
    "    <img src=\"static/logo.png\" width=\"120\" height=\"120\">\n",
    "    <h1>Progetto sui Sistemi di Raccomandazione di Spotify</h1>\n",
    "</div>\n",
    "\n",
    "<p>\n",
    "    Il sistema di raccomandazione di Spotify è uno degli aspetti chiave del servizio, progettato per suggerire agli utenti nuove tracce musicali basate sui loro gusti personali.\n",
    "    La piattaforma utilizza un approccio ibrido, combinando tecniche collaborative e basate sul contenuto. Questo approccio permette agli utenti di scoprire nuova musica in linea con i loro gusti personali, migliorando l'esperienza di ascolto.\n",
    "</p>\n",
    "\n",
    "<h2>Indice</h2>\n",
    "    <li><a href=\"#esordio\">Esordio</a></li>\n",
    "<ol>\n",
    "    <li><a href=\"#preambolo\">Preambolo</a></li>\n",
    "    <li><a href=\"#introduzione\">Introduzione</a></li>\n",
    "    <li><a href=\"#profilo-e-applicazione\">Profilo e applicazione</a></li>\n",
    "    <li><a href=\"#\"></a></li>\n",
    "    <li><a href=\"#\"></a></li>\n",
    "    <li><a href=\"#\"></a></li>\n",
    "    <li><a href=\"#\"></a></li>\n",
    "    <li><a href=\"#conclusione\">Conclusione</a></li>\n",
    "</ol>"
   ]
  },
  {
   "cell_type": "markdown",
   "id": "1c06f98c-e531-4de9-bd64-c64dafcba283",
   "metadata": {},
   "source": [
    "<h2>Esordio</h2>\n",
    "\n",
    "Questo progetto si prefissa come obiettivo la creazione di un sistema di raccomandazione basato sul modus operandi di quello di Spotify.<br>\n",
    "Anche qui, come già detto nel Tutorial sulle API-Rest di Spotify, è consigliata la creazione di un ambiente virtuale e per tanto di seguito viene riportato lo stesso preambolo che guida alla creazione di un virtual environment per il progetto.\n",
    "\n",
    "Inoltre, pure qui si necessita della creazione di un'applicazione Spotify e, per comodità, si riutilizza la stessa creata per il tutorial.<br>\n",
    "Di seguito viene comunque riportato anche il procedimento per la sua creazione."
   ]
  },
  {
   "cell_type": "markdown",
   "id": "3fa493d0-0c96-4650-bdac-010204f5eada",
   "metadata": {},
   "source": [
    "<section id=\"preambolo\">\n",
    "    <h2>1. Preambolo</h2>\n",
    "    <h3>Creare un ambiente virtuale</h3>\n",
    "</section>"
   ]
  },
  {
   "cell_type": "markdown",
   "id": "29b65c38-64a3-4640-9e27-61ff1e190788",
   "metadata": {},
   "source": [
    "Prima di iniziare, è consigliabile creare un ambiente virtuale per il tuo progetto.\n",
    "Puoi farlo utilizzando virtualenv o conda a seconda delle tue preferenze. Ecco un esempio utilizzando virtualenv:\n",
    "    \n",
    "- Assicurati di avere virtualenv installato. Se non l'hai installato, puoi farlo utilizzando pip:"
   ]
  },
  {
   "cell_type": "markdown",
   "id": "bbb2ffc9-3a3a-4d1e-86dd-84249b2f4e77",
   "metadata": {},
   "source": [
    "<code>pip install virtualenv</code>"
   ]
  },
  {
   "cell_type": "markdown",
   "id": "566a6c85-f4e0-4b6e-aae3-7b5354066df1",
   "metadata": {},
   "source": [
    "- Scegli una directory in cui desideri creare il tuo ambiente virtuale. Naviga in quella directory tramite il terminale.\n",
    "- Crea un nuovo ambiente virtuale con il seguente comando:"
   ]
  },
  {
   "cell_type": "markdown",
   "id": "bf75c6f1-09b0-443e-9994-6b010668ccec",
   "metadata": {},
   "source": [
    "<code>virtualenv nome_ambiente</code>"
   ]
  },
  {
   "cell_type": "markdown",
   "id": "99038956-dbe9-4928-9e07-aad2c74a6da0",
   "metadata": {},
   "source": [
    "Sostituisci <span style=\"font-style: italic; font-size: 15px;\"><i>\"nome_ambiente\"</i></span> con il nome che desideri dare al tuo ambiente virtuale."
   ]
  },
  {
   "cell_type": "markdown",
   "id": "8913dc60-ac23-447d-bffd-2cb8bc1adf75",
   "metadata": {},
   "source": [
    "- Attiva l'ambiente virtuale appena creato. Su sistemi Windows, usa il seguente comando:\n",
    "\n",
    "<code>nome_ambiente\\Scripts\\activate</code>"
   ]
  },
  {
   "cell_type": "markdown",
   "id": "9c9c2dce-7f9c-4dab-8ef9-4738af7aaa3f",
   "metadata": {},
   "source": [
    "Su sistemi Unix o macOS, usa: \n",
    "\n",
    "<code>source nome_ambiente\\bin\\activate</code>"
   ]
  },
  {
   "cell_type": "markdown",
   "id": "e2ce5ec9-fab0-40bd-a72f-bc8a0b420bb1",
   "metadata": {},
   "source": [
    "Per disattivare l'ambiente virtuale:\n",
    "\n",
    "<code>deactivate</code>"
   ]
  },
  {
   "cell_type": "markdown",
   "id": "ae537516-1e4c-41b8-b95d-3c9c75054fa4",
   "metadata": {},
   "source": [
    "<div style=\"display: flex; align-items: center;\">\n",
    "    <img src=\"static/Screen/Screen_1.png\" width=\"900\" height=\"600\">\n",
    "</div>"
   ]
  },
  {
   "cell_type": "markdown",
   "id": "64cd0b7f-34b6-4760-a6ad-812f08d26c9c",
   "metadata": {},
   "source": [
    "Ora hai creato e attivato con successo un ambiente virtuale utilizzando virtualenv.<br>\n",
    "Puoi installare le librerie necessarie e lavorare sul tuo progetto all'interno di questo ambiente virtuale."
   ]
  },
  {
   "cell_type": "markdown",
   "id": "1ee00147-7efa-4816-9d2f-cec30a461daf",
   "metadata": {},
   "source": [
    "<section id=\"introduzione\">\n",
    "    <h2>2. Introduzione</h2>\n",
    "</section>"
   ]
  },
  {
   "cell_type": "markdown",
   "id": "5316fdfb-3336-4b07-8616-648661434f4c",
   "metadata": {},
   "source": [
    "<div style=\"display: flex; align-items: center;\">\n",
    "    <h3>Prima di inizare ... ma cos'è un sistema di raccomandazione?!</h3>\n",
    "    <img src=\"static/emoji.png\" width=\"80\" height=\"80\">\n",
    "</div>  \n",
    "\n",
    "Un sistema di raccomandazione è un'applicazione software o un algoritmo progettato per suggerire all'utente determinati elementi, come prodotti, servizi, contenuti digitali o informazioni, in base alle sue preferenze, ai suoi comportamenti passati o a un profilo individuale. Questi sistemi vengono ampiamente utilizzati su piattaforme come Netflix, Amazon, Spotify, e altre.\n",
    "\n",
    "Il problema principale che affronta riguarda la necessità di filtrare una vasta quantità di contenuti (come milioni di brani su Spotify) per fornire all'utente solo ciò che realmente lo interessa. L'utente interagisce con un insieme di elementi (nel nostro caso, brani musicali) e l'obiettivo è fare previsioni sui suoi gusti, in modo da orientare le sponsorizzazioni di prodotti che vengono messi in risalto grazie alle raccomandazioni personalizzate.\n",
    "\n",
    "Esistono sistemi di raccomandazione \"non intelligenti\" che non sono personalizzati sugli interessi specifici dell'utente e comprendono liste di preferiti, desideri, top-10, o i più popolari. D'altra parte, ci sono sistemi di raccomandazione customizzati basati sui gusti dell'utente, e il sistema di raccomandazione di Spotify rientra in questa categoria avanzata."
   ]
  },
  {
   "cell_type": "markdown",
   "id": "97d228ac-7598-400b-a51a-cda7963fe476",
   "metadata": {},
   "source": [
    "<h3>Utility function e Utility matrix</h3><br>\n",
    "\n",
    "**Utility Function e Scoring degli Utenti**\n",
    "\n",
    "Il processo di previsione delle preferenze degli utenti su un prodotto si basa su una **utility function**. Questa funzione determina uno score, rappresentante la preferenza dell'utente sull'oggetto in esame. L'obiettivo è predire questo score attraverso la coppia utente-prodotto, permettendo di valutare l'utilità del prodotto per l'utente.\n",
    "\n",
    "**Utility Matrix per lo studio delle preferenze**\n",
    "\n",
    "La utility matrix è uno strumento essenziale per analizzare le preferenze di più utenti. Le colonne rappresentano gli oggetti (items), mentre le righe corrispondono agli utenti. Ogni elemento ij-esimo rappresenta il rating che indica la preferenza dell'utente i sull'item j, ottenuto tramite la utility function. Questa matrice, spesso sparsa, è utilizzata per prevedere valori di rating nelle posizioni mancanti.\n",
    "\n",
    "<div style=\"display: flex; align-items: center;\">\n",
    "    <img src=\"static/image_1.png\" width=\"600\" height=\"400\">\n",
    "</div> \n",
    "\n",
    "<br>\n",
    "\n",
    "**Problemi Chiave**\n",
    "\n",
    "• Popolare la matrice (cold start problem) in quanto si devono avere dei dati sull’utente appena inserito;\n",
    "• Stimare il rating delle posizioni mancanti;\n",
    "• Valutare il sistema di raccomandazione;\n",
    "\n",
    "**Popolare la utility matrix**\n",
    "\n",
    "La utility matrix può essere popolata in modo esplicito o implicito:\n",
    "\n",
    "Esplicito:\n",
    "Richiede agli utenti di votare gli items, ma è spesso inefficace a causa della scarsa partecipazione o resistenza da parte degli utenti. Potrebbe essere necessario incentivare gli utenti a rilasciare recensioni, ad esempio, attraverso incentivi finanziari.\n",
    "\n",
    "Implicito:\n",
    "Inferisce le preferenze degli utenti basandosi sul loro comportamento sulla piattaforma. Tuttavia, sorge il problema di assegnare un rating ai nuovi items.\n",
    "\n",
    "**Problemi con l’Estrapolazione delle utilities**\n",
    "\n",
    "- Sparsità della Matrix: Non tutti gli utenti forniscono un rating per ogni item.\n",
    "- Nuovi Items: I nuovi oggetti possono non avere un rating assegnato.\n",
    "- Nuovi Utenti: Utenti appena registrati possono non avere un historico di rating."
   ]
  },
  {
   "cell_type": "markdown",
   "id": "d1476e5e-1177-4818-b01a-d3ece40686e8",
   "metadata": {},
   "source": [
    "<h2>Suggerimento basato sul contenuto vs Filtering collaborativo</h2>\n",
    "\n",
    "**Content-based** : Suggerire nuovi item sulla base del contenuto degli item con cui ha interagito l’utente\n",
    "\n",
    "**Collaborative-Filtering** : Vengono suggeriti i nuovi item sulla base di preferenze che hanno avuto altri utenti con preferenze simili\n",
    "\n",
    "<h2>Content-based</h2>\n",
    "\n",
    "Usati per raccomandazione di film, siti internet, blogs e notizie di cronaca. Si ha un utente a cui piacciono degli item e si vuole profilare ogni item costruendo informazioni su quanto rilevato. Si cerca un match con dei prodotti che si hanno a disposizione e li si raccomandano all’utente.\n",
    "\n",
    "Il sistema di raccomandazione basato sul contenuto suggerisce nuovi oggetti all'utente in base alle caratteristiche degli oggetti con cui ha interagito in precedenza. Questo approccio è comunemente utilizzato per suggerire film, siti web, blog e notizie di cronaca. Per profilare gli oggetti, vengono estratte manualmente o automaticamente le caratteristiche, come autore, titolo, parole chiave, o tags di immagini.\n",
    "\n",
    "**Estrazione delle Feature**\n",
    "\n",
    "Manuale: Attraverso API per ottenere informazioni specifiche.\n",
    "Automatica: Utilizzando tecniche come TF-IDF per prendere parole importanti o dei Tags di immagini.\n",
    "\n",
    "**Calcolo della Similarità**\n",
    "\n",
    "I film, ad esempio, vengono profilati attraverso vettori di feature a lunghezza fissa, che possono essere binari (0 e 1) o contenerne il rating da 0 a 5. Per calcolare la similarità tra oggetti, si utilizza la similarità del coseno tra i vettori di feature. La scelta del fattore di scala alpha influisce sulla misura di similarità.\n",
    "\n",
    "**Profilazione dell'Utente**\n",
    "\n",
    "Un utente viene profilato come l'aggregato degli oggetti a cui si è interessato. Il vettore dell'utente viene ottenuto utilizzando le stesse feature degli oggetti, calcolando la media delle feature degli oggetti che hanno attirato l'attenzione dell'utente, in modo da riassumere tutte le feature degli item a cui si è interessato l’utente.\n",
    "\n",
    "Si raccomanda all’utente un item il cui vettore ha una misura di similarità vicina al vettore dell’utente stesso.\n",
    "\n",
    "Pro:\n",
    "- non si necessita di conoscere altri utenti per fare raccomandazioni ;\n",
    "\n",
    "Contro:\n",
    "- trovare manualmente le feature giuste per gli oggetti è difficile.\n",
    "- profilare un nuovo utente senza informazioni pregresse è problematico.\n",
    "- il sistema si limita a suggerire contenuti simili e non offre diverse opzioni."
   ]
  },
  {
   "cell_type": "markdown",
   "id": "478a915f-6ac1-4f9c-8fa4-ee83ef2b45fe",
   "metadata": {},
   "source": [
    "<h2>Collaborative Filtering</h2>\n",
    "\n",
    "Si cercano utenti simili per raccomandare gli items che sono piaciuti ad utenti simili.\n",
    "\n",
    "<h4>User-user</h4>\n",
    "\n",
    "Nel User-User Collaborative Filtering, l'idea chiave è che utenti simili hanno preferenze simili. Considerando un utente X, si cerca un set di N utenti con gusti simili a quelli di X. Per valutare la similarità tra utenti, si utilizza la similarità di Jaccard, che restituisce un valore compreso tra 0 e 1.\n",
    "\n",
    "La formula per calcolare la similarità di Jaccard tra due set A e B è data da:\n",
    "\n",
    "<div style=\"display: flex; align-items: center;\">\n",
    "    <img src=\"static/image_2.png\" width=\"600\" height=\"400\">\n",
    "</div> \n",
    "\n",
    "<br>\n",
    "\n",
    "Si mappa ciascun utente in un set di feature rappresentante gli oggetti a cui è interessato. Le misure di similarità tra tutte le coppie di set vengono valutate utilizzando la similarità di Jaccard. Tuttavia, la similarità del coseno tra i set può dare risultati poco significativi, specialmente quando un utente assegna lo stesso rating a tutti gli oggetti.\n",
    "\n",
    "<div style=\"display: flex; align-items: center;\">\n",
    "    <img src=\"static/image_3.png\" width=\"200\" height=\"100\">\n",
    "</div> \n",
    "\n",
    "<br>\n",
    "\n",
    "**Similar user with overlapping-item mean centering**\n",
    "\n",
    "Per ovviare ai problemi precedentemente analizzati, si calcola la media dei rating di ogni utente e si sottrae tale media dal valore di ogni rating nella matrice. Ciò aumenta il divario tra le varie similarità del coseno ottenute, annullando i valori di chi ha assegnato lo stesso rating a tutti gli oggetti.\n",
    "\n",
    "La formula per calcolare la similarità del coseno tra utenti con media centrale diventa:\n",
    "\n",
    "<div style=\"display: flex; align-items: center;\">\n",
    "    <img src=\"static/image_4.png\" width=\"600\" height=\"400\">\n",
    "</div> \n",
    "\n",
    "<br>\n",
    "\n",
    "Questo approccio favorisce la raccomandazione di item basati solo sugli oggetti valutati da entrambi gli utenti, migliorando la rilevanza delle raccomandazioni.\n",
    "\n",
    "<h4>Item-item</h4>\n",
    "\n",
    "Nell'Item-Item Collaborative Filtering, l'obiettivo è prevedere lo score di un item I cercando item simili e valutando i rating che gli utenti hanno assegnato agli item simili. L'approccio si basa sul concetto che oggetti simili ricevano valutazioni simili dagli utenti.\n",
    "\n",
    "<div style=\"display: flex; align-items: center;\">\n",
    "    <img src=\"static/image_5.png\" width=\"300\" height=\"200\">\n",
    "</div> \n",
    "\n",
    "con: \n",
    "\n",
    "- **S_ij** : similarità degli items i e j\n",
    "- **r_xj** : rating dell’user X all’item j\n",
    "\n",
    "<br>\n",
    "\n",
    "Il procedimento è simile all'User-User Collaborative Filtering. Si calcola il vicinato degli item (N), si sottrae la media a tutti gli elementi del vettore di ogni item, e si calcolano i valori di similarità tra tutte le righe. Vengono considerati solo i k item più simili all'item che si vuole prevedere.\n",
    "\n",
    "Si calcola la media degli score che l'utente X ha dato ai k items per prevedere il valore di score che l'utente X darà all'item i. È preferibile considerare una media pesata, dove il peso è dato dalla misura di similarità tra il j-esimo item e l'item i di cui si vuole ottenere il rating.\n",
    "\n",
    "Pro:\n",
    "\n",
    "- Funziona bene con diversi tipi di item.\n",
    "  \n",
    "Contro:\n",
    "\n",
    "- La matrice è sparsa.\n",
    "- Problemi di cold start, specialmente quando la matrice è vuota.\n",
    "- Difficoltà nel raccomandare item a utenti con gusti molto specifici (populariy bias)."
   ]
  },
  {
   "cell_type": "code",
   "execution_count": null,
   "id": "e17a0e3e-84a5-4f68-88ce-8d668e34fcfd",
   "metadata": {},
   "outputs": [],
   "source": []
  },
  {
   "cell_type": "code",
   "execution_count": null,
   "id": "956b6c40-9ca3-485f-9c1d-7118bbc67371",
   "metadata": {},
   "outputs": [],
   "source": []
  },
  {
   "cell_type": "code",
   "execution_count": null,
   "id": "69809d5b-7c27-4299-8829-9114399dbe3d",
   "metadata": {},
   "outputs": [],
   "source": []
  },
  {
   "cell_type": "markdown",
   "id": "cddf9bde-e086-4694-8c8f-b87a5e9c405c",
   "metadata": {},
   "source": [
    "<section id=\"profilo-e-applicazione\">\n",
    "    <h2>3. Profilo e applicazione</h2>\n",
    "</section>"
   ]
  },
  {
   "cell_type": "markdown",
   "id": "f6136b2f-972b-40eb-8800-eb183fe44521",
   "metadata": {},
   "source": [
    "I seguenti passaggi ti guideranno nella creazione app musicali utilizzando l'API:\n",
    "<div class=\"container\">\n",
    "    <p>Crea un'app e seleziona \"API Web\" quando ti chiede quali API hai intenzione di utilizzare.</p>\n",
    "    <a href=\"https://developer.spotify.com/documentation/web-api\" target=\"_blank\">\n",
    "        <button style=\"background-color: #1DB954; color: #fff; padding: 10px 15px; border: none; border-radius: 5px; cursor: pointer;\">\n",
    "            Dashboard di Spotify Developer\n",
    "        </button>\n",
    "    </a>\n",
    "</div>"
   ]
  },
  {
   "cell_type": "markdown",
   "id": "2a9b123e-fdf4-40fd-94d8-9c42db2376ff",
   "metadata": {},
   "source": [
    "<div style=\"display: flex; align-items: center;\">\n",
    "    <img src=\"static/Screen/Screen_2.png\" width=\"1200\" height=\"800\">\n",
    "</div>"
   ]
  },
  {
   "cell_type": "markdown",
   "id": "e012eb00-ca2c-42e9-8d44-682e9ab54d2a",
   "metadata": {},
   "source": [
    "- Una volta creata l'applicazione risulterà consultabile nella Dashboard"
   ]
  },
  {
   "cell_type": "markdown",
   "id": "7b9148d2-3903-4a84-9f33-1e4798c0ba0f",
   "metadata": {},
   "source": [
    "<div style=\"display: flex; align-items: center;\">\n",
    "    <img src=\"static/Screen/Screen_3.png\" width=\"1200\" height=\"800\">\n",
    "</div>"
   ]
  },
  {
   "cell_type": "markdown",
   "id": "1c968ffb-ace2-4d8f-9dd8-bd457567bf6d",
   "metadata": {},
   "source": [
    "- Una volta creata la tua app, avrai accesso alle credenziali dell'app. Questi saranno richiesti per l'autorizzazione API per ottenere un token di accesso ."
   ]
  },
  {
   "cell_type": "markdown",
   "id": "39bf5bdd-79c2-4bac-8e8a-1831b2dd6c4b",
   "metadata": {},
   "source": [
    "<div style=\"display: flex; align-items: center;\">\n",
    "    <img src=\"static/Screen/Screen_4.png\" width=\"1200\" height=\"800\">\n",
    "</div>"
   ]
  },
  {
   "cell_type": "markdown",
   "id": "444abd6c-72eb-43ce-be73-bed8a72085be",
   "metadata": {},
   "source": [
    "- Nella pagina delle impostazioni dell'app, aggiungi una <strong>Redirect URI</strong>. Questo è l'URL a cui Spotify reindirizzerà l'utente dopo l'autenticazione. <br>\n",
    "Puoi utilizzare http://localhost:5000/callback per scopi di sviluppo."
   ]
  },
  {
   "cell_type": "markdown",
   "id": "66d63aa5-a154-41b8-bb32-526530b40034",
   "metadata": {},
   "source": [
    "<div style=\"display: flex; align-items: center;\">\n",
    "    <img src=\"static/Screen/Screen_5.png\" width=\"1200\" height=\"600\">\n",
    "</div>"
   ]
  },
  {
   "cell_type": "code",
   "execution_count": null,
   "id": "2b799a11-a807-40ea-8ead-83618af030d8",
   "metadata": {},
   "outputs": [],
   "source": []
  },
  {
   "cell_type": "code",
   "execution_count": 1,
   "id": "75a81711-e19c-4f32-9dd7-0f1aad64e553",
   "metadata": {},
   "outputs": [],
   "source": [
    "import pandas as pd\n",
    "\n",
    "data = pd.read_csv(\"datasets/data.csv\")\n",
    "genre_data = pd.read_csv('datasets/data_by_genres.csv')\n",
    "year_data = pd.read_csv('datasets/data_by_year.csv')"
   ]
  },
  {
   "cell_type": "markdown",
   "id": "af001030-065a-4d11-af37-c6fa96074b9f",
   "metadata": {},
   "source": [
    "In questo kernel ho creato un sistema di raccomandazione musicale utilizzando il dataset di Spotify. A tale scopo, ho eseguito un'analisi EDA (Exploratory Data Analysis) in modo da poter selezionare le caratteristiche rilevanti per creare un sistema di raccomandazione."
   ]
  }
 ],
 "metadata": {
  "kernelspec": {
   "display_name": "Python 3 (ipykernel)",
   "language": "python",
   "name": "python3"
  },
  "language_info": {
   "codemirror_mode": {
    "name": "ipython",
    "version": 3
   },
   "file_extension": ".py",
   "mimetype": "text/x-python",
   "name": "python",
   "nbconvert_exporter": "python",
   "pygments_lexer": "ipython3",
   "version": "3.10.12"
  }
 },
 "nbformat": 4,
 "nbformat_minor": 5
}
