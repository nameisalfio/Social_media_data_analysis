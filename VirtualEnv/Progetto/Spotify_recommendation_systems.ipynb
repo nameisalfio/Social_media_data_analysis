{
 "cells": [
  {
   "cell_type": "markdown",
   "id": "85e57bea-7f14-48c7-bb55-c41d92ab9735",
   "metadata": {},
   "source": [
    "<div style=\"display: flex; align-items: center;\">\n",
    "    <img src=\"static/logo.png\" width=\"120\" height=\"120\">\n",
    "    <h1>Progetto sui Sistemi di Raccomandazione di Spotify</h1>\n",
    "</div>\n",
    "\n",
    "<p>\n",
    "    Il sistema di raccomandazione di Spotify è uno degli aspetti chiave del servizio, progettato per suggerire agli utenti nuove tracce musicali basate sui loro gusti personali.\n",
    "    La piattaforma utilizza un approccio ibrido, combinando tecniche collaborative e basate sul contenuto. Questo approccio permette agli utenti di scoprire nuova musica in linea con i loro gusti personali, migliorando l'esperienza di ascolto.\n",
    "</p>\n",
    "\n",
    "<h2>Indice</h2>\n",
    "    <li><a href=\"#esordio\">Esordio</a></li>\n",
    "<ol>\n",
    "    <li><a href=\"#preambolo\">Preambolo</a></li>\n",
    "    <li><a href=\"#introduzione\">Introduzione</a></li>\n",
    "    <li><a href=\"#profilo-e-applicazione\">Profilo e applicazione</a></li>\n",
    "    <li><a href=\"#\"></a></li>\n",
    "    <li><a href=\"#\"></a></li>\n",
    "    <li><a href=\"#\"></a></li>\n",
    "    <li><a href=\"#\"></a></li>\n",
    "    <li><a href=\"#conclusione\">Conclusione</a></li>\n",
    "</ol>"
   ]
  },
  {
   "cell_type": "markdown",
   "id": "1c06f98c-e531-4de9-bd64-c64dafcba283",
   "metadata": {},
   "source": [
    "<h2>Esordio</h2>\n",
    "\n",
    "Questo progetto si prefissa come obiettivo la creazione di un sistema di raccomandazione basato sul modus operandi di quello di Spotify.<br>\n",
    "Anche qui, come già detto nel Tutorial sulle API-Rest di Spotify, è consigliata la creazione di un ambiente virtuale e per tanto di seguito viene riportato lo stesso preambolo che guida alla creazione di un virtual environment per il progetto.\n",
    "\n",
    "Inoltre, pure qui si necessita della creazione di un'applicazione Spotify e, per comodità, si riutilizza la stessa creata per il tutorial.<br>\n",
    "Di seguito viene comunque riportato anche il procedimento per la sua creazione."
   ]
  },
  {
   "cell_type": "markdown",
   "id": "3fa493d0-0c96-4650-bdac-010204f5eada",
   "metadata": {},
   "source": [
    "<section id=\"preambolo\">\n",
    "    <h2>1. Preambolo</h2>\n",
    "    <h3>Creare un ambiente virtuale</h3>\n",
    "</section>"
   ]
  },
  {
   "cell_type": "markdown",
   "id": "29b65c38-64a3-4640-9e27-61ff1e190788",
   "metadata": {},
   "source": [
    "Prima di iniziare, è consigliabile creare un ambiente virtuale per il tuo progetto.\n",
    "Puoi farlo utilizzando virtualenv o conda a seconda delle tue preferenze. Ecco un esempio utilizzando virtualenv:\n",
    "    \n",
    "- Assicurati di avere virtualenv installato. Se non l'hai installato, puoi farlo utilizzando pip:"
   ]
  },
  {
   "cell_type": "markdown",
   "id": "bbb2ffc9-3a3a-4d1e-86dd-84249b2f4e77",
   "metadata": {},
   "source": [
    "<code>pip install virtualenv</code>"
   ]
  },
  {
   "cell_type": "markdown",
   "id": "566a6c85-f4e0-4b6e-aae3-7b5354066df1",
   "metadata": {},
   "source": [
    "- Scegli una directory in cui desideri creare il tuo ambiente virtuale. Naviga in quella directory tramite il terminale.\n",
    "- Crea un nuovo ambiente virtuale con il seguente comando:"
   ]
  },
  {
   "cell_type": "markdown",
   "id": "bf75c6f1-09b0-443e-9994-6b010668ccec",
   "metadata": {},
   "source": [
    "<code>virtualenv nome_ambiente</code>"
   ]
  },
  {
   "cell_type": "markdown",
   "id": "99038956-dbe9-4928-9e07-aad2c74a6da0",
   "metadata": {},
   "source": [
    "Sostituisci <span style=\"font-style: italic; font-size: 15px;\"><i>\"nome_ambiente\"</i></span> con il nome che desideri dare al tuo ambiente virtuale."
   ]
  },
  {
   "cell_type": "markdown",
   "id": "8913dc60-ac23-447d-bffd-2cb8bc1adf75",
   "metadata": {},
   "source": [
    "- Attiva l'ambiente virtuale appena creato. Su sistemi Windows, usa il seguente comando:\n",
    "\n",
    "<code>nome_ambiente\\Scripts\\activate</code>"
   ]
  },
  {
   "cell_type": "markdown",
   "id": "9c9c2dce-7f9c-4dab-8ef9-4738af7aaa3f",
   "metadata": {},
   "source": [
    "Su sistemi Unix o macOS, usa: \n",
    "\n",
    "<code>source nome_ambiente\\bin\\activate</code>"
   ]
  },
  {
   "cell_type": "markdown",
   "id": "e2ce5ec9-fab0-40bd-a72f-bc8a0b420bb1",
   "metadata": {},
   "source": [
    "Per disattivare l'ambiente virtuale:\n",
    "\n",
    "<code>deactivate</code>"
   ]
  },
  {
   "cell_type": "markdown",
   "id": "ae537516-1e4c-41b8-b95d-3c9c75054fa4",
   "metadata": {},
   "source": [
    "<div style=\"display: flex; align-items: center;\">\n",
    "    <img src=\"static/Screen/Screen_1.png\" width=\"900\" height=\"600\">\n",
    "</div>"
   ]
  },
  {
   "cell_type": "markdown",
   "id": "64cd0b7f-34b6-4760-a6ad-812f08d26c9c",
   "metadata": {},
   "source": [
    "Ora hai creato e attivato con successo un ambiente virtuale utilizzando virtualenv.<br>\n",
    "Puoi installare le librerie necessarie e lavorare sul tuo progetto all'interno di questo ambiente virtuale."
   ]
  },
  {
   "cell_type": "markdown",
   "id": "1ee00147-7efa-4816-9d2f-cec30a461daf",
   "metadata": {},
   "source": [
    "<section id=\"introduzione\">\n",
    "    <h2>2. Introduzione</h2>\n",
    "</section>"
   ]
  },
  {
   "cell_type": "markdown",
   "id": "5316fdfb-3336-4b07-8616-648661434f4c",
   "metadata": {},
   "source": [
    "<div style=\"display: flex; align-items: center;\">\n",
    "    <h3>Prima di inizare ... ma cos'è un sistema di raccomandazione?!</h3>\n",
    "    <img src=\"static/emoji.png\" width=\"80\" height=\"80\">\n",
    "</div>  \n",
    "\n",
    "Un sistema di raccomandazione è un'applicazione software o un algoritmo progettato per suggerire all'utente determinati elementi, come prodotti, servizi, contenuti digitali o informazioni, in base alle sue preferenze, ai suoi comportamenti passati o a un profilo individuale. Questi sistemi vengono ampiamente utilizzati su piattaforme come Netflix, Amazon, Spotify, e altre.\n",
    "\n",
    "Il problema principale che affronta riguarda la necessità di filtrare una vasta quantità di contenuti (come milioni di brani su Spotify) per fornire all'utente solo ciò che realmente lo interessa. L'utente interagisce con un insieme di elementi (nel nostro caso, brani musicali) e l'obiettivo è fare previsioni sui suoi gusti, in modo da orientare le sponsorizzazioni di prodotti che vengono messi in risalto grazie alle raccomandazioni personalizzate.\n",
    "\n",
    "Esistono sistemi di raccomandazione \"non intelligenti\" che non sono personalizzati sugli interessi specifici dell'utente e comprendono liste di preferiti, desideri, top-10, o i più popolari. D'altra parte, ci sono sistemi di raccomandazione customizzati basati sui gusti dell'utente, e il sistema di raccomandazione di Spotify rientra in questa categoria avanzata."
   ]
  },
  {
   "cell_type": "markdown",
   "id": "97d228ac-7598-400b-a51a-cda7963fe476",
   "metadata": {},
   "source": [
    "<h3>Utility function e utility matrix</h3>\n",
    "\n",
    "Si vuole quindi predirre attraverso una utility function uno score R (preferenza dell’utente sull’oggetto) che determina l’utilità di un prodotto a partire da una coppia utente-prodotto X-S .\n",
    "\n",
    "La utility matrix permette di studiare le preferenze di più utenti. Nelle colonne abbiamo gli item e nelle righe ci sono gli utenti e ogni elemento è un rating R che rappresenta il rating restituito dalla utility function. Questa è una matrice sparsa che viene sfruttata per predirre dei valori di rating sulle posizioni mancanti.\n",
    "\n",
    "<div style=\"display: flex; align-items: center;\">\n",
    "    <img src=\"static/image_1.png\" width=\"600\" height=\"400\">\n",
    "</div> \n",
    "\n",
    "<br>\n",
    "\n",
    "I problemi chiave sono :\n",
    "\n",
    "• Popolare la matrice (cold start problem) in quanto si devono avere dei dati sull’utente appena inserito;\n",
    "• Stimare il rating delle posizioni mancanti;\n",
    "• Valutare il sistema di raccomandazione;\n",
    "\n",
    "\n",
    "Popolare la utility matrix\n",
    "\n",
    "Una utility matrix può essere popolata in maniera implicita oppure esplicita :\n",
    "\n",
    "<strong>Esplicita</strong> : si chiede all’utente di votare gli item. Purtroppo non è una cosa che funziona bene in quanto molte persone non rilasciano recensioni oppure si sentono disturbate. Si potrebbe pensare di pagare le persone per dare dei rating.\n",
    "\n",
    "<strong>Implicita</strong> : fare inferenze sulla base del comportamento degli utenti sulla piattaforma. Il problema chiave è che non si sa come dare un ratio ai nuovi item.\n",
    "\n",
    "<strong>Problemi con l’Estrapolazione delle utilities </strong>: \n",
    "\n",
    "• La utility matrix risulta sparsa poichè non tutti gli utenti hanno un ratio su ogni item;<br>\n",
    "• I nuovi items non hanno un ratio; <br>\n",
    "• I nuovi utenti non hanno uno storico di rating; <br>"
   ]
  },
  {
   "cell_type": "markdown",
   "id": "d1476e5e-1177-4818-b01a-d3ece40686e8",
   "metadata": {},
   "source": [
    "> alfiospoto:\n",
    "Suggerimento basato sul contenuto vs Filtering collaborativo\n",
    "\n",
    "Content-based : Suggerire nuovi item sulla base del contenuto degli item con cui ha interagito l’utente\n",
    "\n",
    "Collaborative-Filtering : Vengono suggeriti i nuovi item sulla base di preferenze che hanno avuto altri utenti con preferenze simili\n",
    "\n",
    "Content-based\n",
    "\n",
    "Usati per raccomandazione di film, siti internet, blogs e notizie di cronaca. Si ha un utente a cui piacciono degli item e si vuole profilare ogni item costruendo informazioni su quanto rilevato. Si cerca un match con dei prodotti che si hanno a disposizione e li si raccomandano all’utente.\n",
    "\n",
    "Gli items si profilano attraverso l’estrazione di Features in modo manuale (attraversi API prendendo le caratteristiche come autore, titolo ecc) oppure in modo automatica (TF-IDF per prendere parole importanti o dei Tags di immagini). Oppure si estraggono con BoW o BoVW per ottenere vettori a lunghezza fissa da testi ed immagini.\n",
    "\n",
    "Per i film X e Y si hanno una serie di feature che producono vettori a lunghezza fissa. Possono essere vettori con feature binarie (0 e 1) oppure non binarie come un rating da 0 a 5 . Per trattare feature binarie e non binarie si introduce un fattore di scala alpha.\n",
    "\n",
    "Per calcolare le misure di similarità degli item (che ora sono vettori di lunghezza uguale) si usa la similarità del coseno tra i vettori che li rappresentano. La misura di similarità dipende fortemente dal valore di alpha. Si sceglie l’alpha che rende simili le similarità del coseno di vettori che sono fimili (es. due film di azione devono avere una similarità molto vicina ad 1).  \n",
    "\n",
    "Un utente viene profilato come un aggregato di items cui si è interessato. Si vuole ottenere un vettore di lunghezza fissa per l’utente in modo da ottenere un vettore confrontabile con i vettori ottenuti dagli item.\n",
    "Per ottenere il vettore dell’utente X si usano le stesse feature degli item e si calcola una media degli items a cui si è interessato l’utente, in modo da riassumere tutte le feature degli item a cui si è interessato l’utente.\n",
    "\n",
    "Si raccomanda all’utente un item il cui vettore ha una misura di similarità vicina al vettore dell’utente X.\n",
    "\n",
    "> alfiospoto:\n",
    "Pro:\n",
    "• non si necessita di conoscere altri utenti per fare raccomandazioni ;\n",
    "\n",
    "Contro:\n",
    "• trovare manualmente le feature giuste per gli items è difficile ;\n",
    "• profilare un nuovo utente se non si sa nulla ;\n",
    "• il sistema si specifica solo tipo di contenuti e non suggerisce altre cose ;\n",
    "\n",
    "> alfiospoto:\n",
    "Collaborative Filtering\n",
    "\n",
    "Si cercano utenti simili per raccomandare gli items che sono piaciuti ad utenti simili.\n",
    "\n",
    "Tipo user-user : ad utenti simili piacciono cose simili\n",
    "\n",
    "Se le preferenze di utenti diversi sono simili allora posso suggerire gli item tra loro. Considerato un utente X si cerca un set di N utenti che ha gusti simili a quelli dell’utente X. Si usa una utility matrix per mappare ogni utente in un set di feature a cui è interessato. Si valuta una misura di similarità tra set con la similarità di Jacard: ovvero si ottiene un valore di similarità tra i set compreso tra 0 e 1 tramite la seguente formula :\n"
   ]
  },
  {
   "cell_type": "code",
   "execution_count": null,
   "id": "9cfb2264-bc83-4d35-82dc-29fc76ac599c",
   "metadata": {},
   "outputs": [],
   "source": []
  },
  {
   "cell_type": "markdown",
   "id": "cddf9bde-e086-4694-8c8f-b87a5e9c405c",
   "metadata": {},
   "source": [
    "<section id=\"profilo-e-applicazione\">\n",
    "    <h2>3. Profilo e applicazione</h2>\n",
    "</section>"
   ]
  },
  {
   "cell_type": "markdown",
   "id": "f6136b2f-972b-40eb-8800-eb183fe44521",
   "metadata": {},
   "source": [
    "I seguenti passaggi ti guideranno nella creazione app musicali utilizzando l'API:\n",
    "<div class=\"container\">\n",
    "    <p>Crea un'app e seleziona \"API Web\" quando ti chiede quali API hai intenzione di utilizzare.</p>\n",
    "    <a href=\"https://developer.spotify.com/documentation/web-api\" target=\"_blank\">\n",
    "        <button style=\"background-color: #1DB954; color: #fff; padding: 10px 15px; border: none; border-radius: 5px; cursor: pointer;\">\n",
    "            Dashboard di Spotify Developer\n",
    "        </button>\n",
    "    </a>\n",
    "</div>"
   ]
  },
  {
   "cell_type": "markdown",
   "id": "2a9b123e-fdf4-40fd-94d8-9c42db2376ff",
   "metadata": {},
   "source": [
    "<div style=\"display: flex; align-items: center;\">\n",
    "    <img src=\"static/Screen/Screen_2.png\" width=\"1200\" height=\"800\">\n",
    "</div>"
   ]
  },
  {
   "cell_type": "markdown",
   "id": "e012eb00-ca2c-42e9-8d44-682e9ab54d2a",
   "metadata": {},
   "source": [
    "- Una volta creata l'applicazione risulterà consultabile nella Dashboard"
   ]
  },
  {
   "cell_type": "markdown",
   "id": "7b9148d2-3903-4a84-9f33-1e4798c0ba0f",
   "metadata": {},
   "source": [
    "<div style=\"display: flex; align-items: center;\">\n",
    "    <img src=\"static/Screen/Screen_3.png\" width=\"1200\" height=\"800\">\n",
    "</div>"
   ]
  },
  {
   "cell_type": "markdown",
   "id": "1c968ffb-ace2-4d8f-9dd8-bd457567bf6d",
   "metadata": {},
   "source": [
    "- Una volta creata la tua app, avrai accesso alle credenziali dell'app. Questi saranno richiesti per l'autorizzazione API per ottenere un token di accesso ."
   ]
  },
  {
   "cell_type": "markdown",
   "id": "39bf5bdd-79c2-4bac-8e8a-1831b2dd6c4b",
   "metadata": {},
   "source": [
    "<div style=\"display: flex; align-items: center;\">\n",
    "    <img src=\"static/Screen/Screen_4.png\" width=\"1200\" height=\"800\">\n",
    "</div>"
   ]
  },
  {
   "cell_type": "markdown",
   "id": "444abd6c-72eb-43ce-be73-bed8a72085be",
   "metadata": {},
   "source": [
    "- Nella pagina delle impostazioni dell'app, aggiungi una <strong>Redirect URI</strong>. Questo è l'URL a cui Spotify reindirizzerà l'utente dopo l'autenticazione. <br>\n",
    "Puoi utilizzare http://localhost:5000/callback per scopi di sviluppo."
   ]
  },
  {
   "cell_type": "markdown",
   "id": "66d63aa5-a154-41b8-bb32-526530b40034",
   "metadata": {},
   "source": [
    "<div style=\"display: flex; align-items: center;\">\n",
    "    <img src=\"static/Screen/Screen_5.png\" width=\"1200\" height=\"600\">\n",
    "</div>"
   ]
  },
  {
   "cell_type": "code",
   "execution_count": null,
   "id": "2b799a11-a807-40ea-8ead-83618af030d8",
   "metadata": {},
   "outputs": [],
   "source": []
  },
  {
   "cell_type": "code",
   "execution_count": 1,
   "id": "75a81711-e19c-4f32-9dd7-0f1aad64e553",
   "metadata": {},
   "outputs": [],
   "source": [
    "import pandas as pd\n",
    "\n",
    "data = pd.read_csv(\"datasets/data.csv\")\n",
    "genre_data = pd.read_csv('datasets/data_by_genres.csv')\n",
    "year_data = pd.read_csv('datasets/data_by_year.csv')"
   ]
  },
  {
   "cell_type": "markdown",
   "id": "af001030-065a-4d11-af37-c6fa96074b9f",
   "metadata": {},
   "source": [
    "In questo kernel ho creato un sistema di raccomandazione musicale utilizzando il dataset di Spotify. A tale scopo, ho eseguito un'analisi EDA (Exploratory Data Analysis) in modo da poter selezionare le caratteristiche rilevanti per creare un sistema di raccomandazione."
   ]
  }
 ],
 "metadata": {
  "kernelspec": {
   "display_name": "Python 3 (ipykernel)",
   "language": "python",
   "name": "python3"
  },
  "language_info": {
   "codemirror_mode": {
    "name": "ipython",
    "version": 3
   },
   "file_extension": ".py",
   "mimetype": "text/x-python",
   "name": "python",
   "nbconvert_exporter": "python",
   "pygments_lexer": "ipython3",
   "version": "3.10.12"
  }
 },
 "nbformat": 4,
 "nbformat_minor": 5
}
