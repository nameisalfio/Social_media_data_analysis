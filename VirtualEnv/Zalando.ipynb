{
 "cells": [
  {
   "cell_type": "markdown",
   "id": "0054e5e1-5ca5-495f-8a2e-d3bbbbf76763",
   "metadata": {},
   "source": [
    "# Web scraping da Zalando"
   ]
  },
  {
   "cell_type": "markdown",
   "id": "8338b32d-35a2-4239-a6b1-3d2c58cda632",
   "metadata": {},
   "source": [
    "Si vuole fare web scraping dal sito zalando in modo tale da ottenere informazioni sugli zaini per notebook"
   ]
  },
  {
   "cell_type": "markdown",
   "id": "71883ee2-0b14-4491-8827-291285ed9a5a",
   "metadata": {},
   "source": [
    "### Librerie"
   ]
  },
  {
   "cell_type": "code",
   "execution_count": 1,
   "id": "46972d58-e5db-4af2-952a-7236ecc2b706",
   "metadata": {},
   "outputs": [],
   "source": [
    "import requests\n",
    "from urllib.request import urlopen\n",
    "from bs4 import BeautifulSoup as soup \n",
    "import pandas as pd\n",
    "from matplotlib import pyplot as plt"
   ]
  },
  {
   "cell_type": "code",
   "execution_count": 2,
   "id": "bee62512-d1ad-42cb-8f67-0944501664d1",
   "metadata": {},
   "outputs": [],
   "source": [
    "page_url = \"https://www.zalando.it/catalogo/?q=zaino+notebook\""
   ]
  },
  {
   "cell_type": "markdown",
   "id": "c4df9ef8-99fc-4253-bb4f-d69bbb5f3ddb",
   "metadata": {},
   "source": [
    "### Estrazione automatica"
   ]
  },
  {
   "cell_type": "code",
   "execution_count": 3,
   "id": "c0f74dbe-0210-4edc-ac17-c0de4e9ee47f",
   "metadata": {},
   "outputs": [],
   "source": [
    "def scrape_page(page_url , records = None):\n",
    "    if records is None:\n",
    "        records = []\n",
    "\n",
    "    page_html = urlopen(page_url).read()\n",
    "    containers = soup(page_html).findAll('div' , { 'class' : '_5qdMrS w8MdNG cYylcv BaerYO _75qWlu iOzucJ JT3_zV _Qe9k6'})\n",
    "\n",
    "    for container in containers :\n",
    "        try:\n",
    "            marca =  container.findAll('h3' , { 'class'  : 'FtrEr_ lystZ1 FxZV-M HlZ_Tf ZkIJC- r9BRio qXofat EKabf7 nBq1-s _2MyPg2'})[0].text\n",
    "        except:\n",
    "            marca= ''\n",
    "        try:\n",
    "            modello = container.findAll('h3' , { 'class'  : 'sDq_FX lystZ1 FxZV-M HlZ_Tf ZkIJC- r9BRio qXofat EKabf7 nBq1-s _2MyPg2'})[0].text\n",
    "        except :\n",
    "            modello = ''\n",
    "        try:\n",
    "            prezzo = container.findAll('span', {'class': 'sDq_FX lystZ1 FxZV-M HlZ_Tf'})[0].text\n",
    "        except:\n",
    "            try:\n",
    "                prezzo_text = container.findAll('span', {'class': 'sDq_FX lystZ1 dgII7d Km7l2y'})[0].text\n",
    "                prezzo = prezzo_text.replace('€', '').replace(',', '.')\n",
    "            except:\n",
    "                prezzo = 0.0\n",
    "        try:\n",
    "            sconto = container.findAll('span' , { 'class'  : 'sDq_FX goVnUa FxZV-M Km7l2y r9BRio' })[0].text\n",
    "            if sconto.startswith('Fino a ') : sconto = sconto.replace('Fino a ',' ')\n",
    "            if sconto.startswith(' ') : sconto = sconto.replace(' ','')\n",
    "        except:\n",
    "            sconto = \"no\"\n",
    "\n",
    "        try :  \n",
    "            link = container.findAll('a')[0]['href']\n",
    "        except:\n",
    "            link = ''\n",
    "        try :\n",
    "            img_url = container.findAll('img', {'class': 'sDq_FX lystZ1 FxZV-M _2Pvyxl JT3_zV EKabf7 mo6ZnF _1RurXL mo6ZnF _7ZONEy'})[0]['src']\n",
    "        except :\n",
    "            image_url = ''\n",
    "            \n",
    "        records.append([marca, modello, prezzo, sconto, link, img_url])\n",
    "\n",
    "    return records"
   ]
  },
  {
   "cell_type": "markdown",
   "id": "f0fe3144-83d9-41bb-a2b7-2f0632c9eb77",
   "metadata": {},
   "source": [
    "### Navigazione tra le pagine"
   ]
  },
  {
   "cell_type": "code",
   "execution_count": 6,
   "id": "7fcfe6e1-452d-4833-ac7f-bd55e6ca8973",
   "metadata": {},
   "outputs": [],
   "source": [
    "def navigate_and_scrape(base_url, records = None):\n",
    "    if records is None:\n",
    "        records = []\n",
    "    \n",
    "    all_records = records\n",
    "    page = 1 \n",
    "    limit = 1\n",
    "    while(page <= limit):\n",
    "        url = f\"{base_url}{page:d}\"\n",
    "        records = scrape_page(url)\n",
    "        all_records.extend(records)\n",
    "        if len(records) == 0 : \n",
    "            break\n",
    "        page += 1\n",
    "    \n",
    "    return all_records"
   ]
  },
  {
   "cell_type": "code",
   "execution_count": 7,
   "id": "1ea9dedc-3138-4d07-a3d6-32aef39fa857",
   "metadata": {},
   "outputs": [
    {
     "data": {
      "text/html": [
       "<div>\n",
       "<style scoped>\n",
       "    .dataframe tbody tr th:only-of-type {\n",
       "        vertical-align: middle;\n",
       "    }\n",
       "\n",
       "    .dataframe tbody tr th {\n",
       "        vertical-align: top;\n",
       "    }\n",
       "\n",
       "    .dataframe thead th {\n",
       "        text-align: right;\n",
       "    }\n",
       "</style>\n",
       "<table border=\"1\" class=\"dataframe\">\n",
       "  <thead>\n",
       "    <tr style=\"text-align: right;\">\n",
       "      <th></th>\n",
       "      <th>marca</th>\n",
       "      <th>modello</th>\n",
       "      <th>prezzo</th>\n",
       "      <th>sconto</th>\n",
       "      <th>link</th>\n",
       "      <th>img_url</th>\n",
       "    </tr>\n",
       "  </thead>\n",
       "  <tbody>\n",
       "    <tr>\n",
       "      <th>0</th>\n",
       "      <td>Anna Field</td>\n",
       "      <td>AWH-E754 / 502 - BLUE - Borsa porta PC - black</td>\n",
       "      <td>26.49</td>\n",
       "      <td>-20%</td>\n",
       "      <td>https://www.zalando.it/anna-field-borsa-porta-...</td>\n",
       "      <td>https://img01.ztat.net/article/spp-media-p1/77...</td>\n",
       "    </tr>\n",
       "    <tr>\n",
       "      <th>1</th>\n",
       "      <td>PARFOIS</td>\n",
       "      <td>BRIEFCASE AUBREY  - Borsa porta PC - black</td>\n",
       "      <td>25.49</td>\n",
       "      <td>-45%</td>\n",
       "      <td>https://www.zalando.it/parfois-briefcase-aubre...</td>\n",
       "      <td>https://img01.ztat.net/article/spp-media-p1/50...</td>\n",
       "    </tr>\n",
       "    <tr>\n",
       "      <th>2</th>\n",
       "      <td>Anna Field</td>\n",
       "      <td>Ventiquattrore - black</td>\n",
       "      <td>31.99</td>\n",
       "      <td>-11%</td>\n",
       "      <td>https://www.zalando.it/anna-field-borsa-porta-...</td>\n",
       "      <td>https://img01.ztat.net/article/spp-media-p1/99...</td>\n",
       "    </tr>\n",
       "    <tr>\n",
       "      <th>4</th>\n",
       "      <td>Anna Field</td>\n",
       "      <td>Ventiquattrore -  blue</td>\n",
       "      <td>31.99</td>\n",
       "      <td>-11%</td>\n",
       "      <td>https://www.zalando.it/anna-field-borsa-porta-...</td>\n",
       "      <td>https://img01.ztat.net/article/spp-media-p1/3b...</td>\n",
       "    </tr>\n",
       "    <tr>\n",
       "      <th>7</th>\n",
       "      <td>Even&amp;Odd</td>\n",
       "      <td>Borsa porta PC - black</td>\n",
       "      <td>26.49</td>\n",
       "      <td>-20%</td>\n",
       "      <td>https://www.zalando.it/evenandodd-borsa-porta-...</td>\n",
       "      <td>https://img01.ztat.net/article/spp-media-p1/b4...</td>\n",
       "    </tr>\n",
       "  </tbody>\n",
       "</table>\n",
       "</div>"
      ],
      "text/plain": [
       "        marca                                         modello  prezzo sconto  \\\n",
       "0  Anna Field  AWH-E754 / 502 - BLUE - Borsa porta PC - black   26.49   -20%   \n",
       "1     PARFOIS      BRIEFCASE AUBREY  - Borsa porta PC - black   25.49   -45%   \n",
       "2  Anna Field                          Ventiquattrore - black   31.99   -11%   \n",
       "4  Anna Field                          Ventiquattrore -  blue   31.99   -11%   \n",
       "7    Even&Odd                          Borsa porta PC - black   26.49   -20%   \n",
       "\n",
       "                                                link  \\\n",
       "0  https://www.zalando.it/anna-field-borsa-porta-...   \n",
       "1  https://www.zalando.it/parfois-briefcase-aubre...   \n",
       "2  https://www.zalando.it/anna-field-borsa-porta-...   \n",
       "4  https://www.zalando.it/anna-field-borsa-porta-...   \n",
       "7  https://www.zalando.it/evenandodd-borsa-porta-...   \n",
       "\n",
       "                                             img_url  \n",
       "0  https://img01.ztat.net/article/spp-media-p1/77...  \n",
       "1  https://img01.ztat.net/article/spp-media-p1/50...  \n",
       "2  https://img01.ztat.net/article/spp-media-p1/99...  \n",
       "4  https://img01.ztat.net/article/spp-media-p1/3b...  \n",
       "7  https://img01.ztat.net/article/spp-media-p1/b4...  "
      ]
     },
     "execution_count": 7,
     "metadata": {},
     "output_type": "execute_result"
    }
   ],
   "source": [
    "base_url = \"https://www.zalando.it/donna/?q=zaino+notebook&p=\"\n",
    "records = navigate_and_scrape(base_url) \n",
    "\n",
    "data = pd.DataFrame(records, columns=['marca','modello','prezzo','sconto','link','img_url'])\n",
    "data = data.loc[data['prezzo'].str.contains('€') == False]\n",
    "data['prezzo'] = data['prezzo'].astype(float)\n",
    "\n",
    "data.head()"
   ]
  },
  {
   "cell_type": "code",
   "execution_count": 8,
   "id": "55d90dba-bd8d-4754-a249-1d26807b1af5",
   "metadata": {},
   "outputs": [
    {
     "data": {
      "image/png": "[encoded data removed]",
      "text/plain": [
       "<Figure size 1200x600 with 1 Axes>"
      ]
     },
     "metadata": {},
     "output_type": "display_data"
    }
   ],
   "source": [
    "data.head()\n",
    "\n",
    "# Ora puoi calcolare la media dei prezzi\n",
    "plt.figure(figsize=(12, 6))\n",
    "data.groupby('marca')['prezzo'].mean().plot.bar()\n",
    "plt.title(\"Media dei prezzi per ogni marca\")\n",
    "plt.grid()\n",
    "plt.show()"
   ]
  },
  {
   "cell_type": "markdown",
   "id": "add22d18-ec3c-4199-b87f-dea35e848661",
   "metadata": {},
   "source": [
    "### Invio sconti su Telegram"
   ]
  },
  {
   "cell_type": "code",
   "execution_count": 9,
   "id": "fd9c5791-59b2-4901-83a5-b5a263bcf0da",
   "metadata": {},
   "outputs": [
    {
     "name": "stdout",
     "output_type": "stream",
     "text": [
      "         marca                                            modello  prezzo  \\\n",
      "0   Anna Field     AWH-E754 / 502 - BLUE - Borsa porta PC - black   26.49   \n",
      "1      PARFOIS         BRIEFCASE AUBREY  - Borsa porta PC - black   25.49   \n",
      "2   Anna Field                             Ventiquattrore - black   31.99   \n",
      "4   Anna Field                             Ventiquattrore -  blue   31.99   \n",
      "7     Even&Odd                             Borsa porta PC - black   26.49   \n",
      "8      PARFOIS                            Borsa porta PC - yellow   25.59   \n",
      "10        Vans  VANS PADDED LAPTOP SLEEVE - Borsa porta PC - b...   18.95   \n",
      "11  Anna Field                             Borsa porta PC - black   30.89   \n",
      "13        Zign                       SET - Borsa porta PC - black   20.89   \n",
      "14  Anna Field                             Borsa porta PC - beige   36.99   \n",
      "15     PARFOIS         BRIEFCASE AUBREY  - Borsa porta PC - taupe   40.99   \n",
      "16    Pier One                    UNISEX - Borsa porta PC - black   30.99   \n",
      "20  Anna Field                             Borsa porta PC - black   32.99   \n",
      "21  Anna Field                              Borsa porta PC - pink   30.89   \n",
      "22    Even&Odd                             Borsa porta PC - beige   21.89   \n",
      "28    Even&Odd                             Borsa porta PC - black   18.09   \n",
      "\n",
      "   sconto                                               link  \\\n",
      "0    -20%  https://www.zalando.it/anna-field-borsa-porta-...   \n",
      "1    -45%  https://www.zalando.it/parfois-briefcase-aubre...   \n",
      "2    -11%  https://www.zalando.it/anna-field-borsa-porta-...   \n",
      "4    -11%  https://www.zalando.it/anna-field-borsa-porta-...   \n",
      "7    -20%  https://www.zalando.it/evenandodd-borsa-porta-...   \n",
      "8    -25%  https://www.zalando.it/parfois-borsa-porta-pc-...   \n",
      "10   -14%  https://www.zalando.it/vans-sleeve-borsa-porta...   \n",
      "11    -9%  https://www.zalando.it/anna-field-borsa-porta-...   \n",
      "13    -9%  https://www.zalando.it/zign-set-borsa-porta-pc...   \n",
      "14   -10%  https://www.zalando.it/anna-field-borsa-a-mano...   \n",
      "15   -11%  https://www.zalando.it/parfois-briefcase-aubre...   \n",
      "16   -11%  https://www.zalando.it/pier-one-unisex-borsa-p...   \n",
      "20   -11%  https://www.zalando.it/anna-field-borsa-porta-...   \n",
      "21    -9%  https://www.zalando.it/anna-field-borsa-porta-...   \n",
      "22    -9%  https://www.zalando.it/evenandodd-borsa-porta-...   \n",
      "28   -25%  https://www.zalando.it/evenandodd-borsa-porta-...   \n",
      "\n",
      "                                              img_url  \n",
      "0   https://img01.ztat.net/article/spp-media-p1/77...  \n",
      "1   https://img01.ztat.net/article/spp-media-p1/50...  \n",
      "2   https://img01.ztat.net/article/spp-media-p1/99...  \n",
      "4   https://img01.ztat.net/article/spp-media-p1/3b...  \n",
      "7   https://img01.ztat.net/article/spp-media-p1/b4...  \n",
      "8   https://img01.ztat.net/article/spp-media-p1/af...  \n",
      "10  https://img01.ztat.net/article/spp-media-p1/8a...  \n",
      "11  https://img01.ztat.net/article/spp-media-p1/74...  \n",
      "13  https://img01.ztat.net/article/spp-media-p1/be...  \n",
      "14  https://img01.ztat.net/article/spp-media-p1/3d...  \n",
      "15  https://img01.ztat.net/article/spp-media-p1/45...  \n",
      "16  https://img01.ztat.net/article/spp-media-p1/37...  \n",
      "20  https://img01.ztat.net/article/spp-media-p1/58...  \n",
      "21  https://img01.ztat.net/article/spp-media-p1/a3...  \n",
      "22  https://img01.ztat.net/article/spp-media-p1/29...  \n",
      "28  https://img01.ztat.net/article/spp-media-p1/ab...  \n"
     ]
    }
   ],
   "source": [
    "discounted = data[data['sconto'] != \"no\"]\n",
    "print(discounted)\n",
    "\n",
    "bot_token = \"6437206678:AAE5BNE3ierHYDIz1hxtjnS_k4nSt0SwqTA\"\n",
    "chat_id = \"-4008691980\"\n",
    "\n",
    "for _, row in discounted.iterrows():\n",
    "    message_text = f'*{row[\"marca\"]}*\\n*Modello*: {row[\"modello\"]}\\n*Prezzo*: {row[\"prezzo\"]} {row[\"sconto\"]}\\n[Visita il Prodotto]({row[\"link\"]})'\n",
    "    message_text = requests.utils.quote(message_text)\n",
    "    url = f'https://api.telegram.org/bot6437206678:AAE5BNE3ierHYDIz1hxtjnS_k4nSt0SwqTA/sendMediaGroup'\n",
    "    data = {\n",
    "        'chat_id': -4008691980,\n",
    "        'media': [\n",
    "            {'caption': message_text, 'parse_mode': 'HTML'},\n",
    "        ],\n",
    "    }    \n",
    "    requests.post(url, json=data)"
   ]
  },
  {
   "cell_type": "code",
   "execution_count": 18,
   "id": "9e6ed62d-8358-4f6a-9811-d86b88aaef19",
   "metadata": {},
   "outputs": [
    {
     "ename": "SyntaxError",
     "evalue": "invalid syntax (777688029.py, line 7)",
     "output_type": "error",
     "traceback": [
      "\u001b[0;36m  File \u001b[0;32m\"/tmp/ipykernel_6230/777688029.py\"\u001b[0;36m, line \u001b[0;32m7\u001b[0m\n\u001b[0;31m    for _, row in range len(data):\u001b[0m\n\u001b[0m                        ^\u001b[0m\n\u001b[0;31mSyntaxError\u001b[0m\u001b[0;31m:\u001b[0m invalid syntax\n"
     ]
    }
   ],
   "source": [
    "discounted = data\n",
    "print(discounted)\n",
    "\n",
    "bot_token = \"6437206678:AAE5BNE3ierHYDIz1hxtjnS_k4nSt0SwqTA\"\n",
    "chat_id = \"-4008691980\"\n",
    "\n",
    "for _, row in range len(data):\n",
    "    message_text = f'*{row[\"marca\"]}*\\n*Modello*: {row[\"modello\"]}\\n*Prezzo*: {row[\"prezzo\"]} {row[\"sconto\"]}\\n[Visita il Prodotto]({row[\"link\"]})'\n",
    "    message_text = requests.utils.quote(message_text)\n",
    "    url = f'https://api.telegram.org/bot6437206678:AAE5BNE3ierHYDIz1hxtjnS_k4nSt0SwqTA/sendMediaGroup'\n",
    "    data = {\n",
    "        'chat_id': -4008691980,\n",
    "        'media': [\n",
    "            {'caption': message_text, 'parse_mode': 'HTML'},\n",
    "        ],\n",
    "    }    \n",
    "    requests.post(url, json=data)"
   ]
  }
 ],
 "metadata": {
  "kernelspec": {
   "display_name": "Python 3 (ipykernel)",
   "language": "python",
   "name": "python3"
  },
  "language_info": {
   "codemirror_mode": {
    "name": "ipython",
    "version": 3
   },
   "file_extension": ".py",
   "mimetype": "text/x-python",
   "name": "python",
   "nbconvert_exporter": "python",
   "pygments_lexer": "ipython3",
   "version": "3.10.12"
  }
 },
 "nbformat": 4,
 "nbformat_minor": 5
}
